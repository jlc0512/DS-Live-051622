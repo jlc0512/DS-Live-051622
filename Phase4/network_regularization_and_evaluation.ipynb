{
 "cells": [
  {
   "cell_type": "markdown",
   "metadata": {
    "slideshow": {
     "slide_type": "slide"
    }
   },
   "source": [
    "# Regularization and Evaluation of Neural Networks"
   ]
  },
  {
   "cell_type": "code",
   "execution_count": 1,
   "metadata": {},
   "outputs": [],
   "source": [
    "from sklearn.datasets import load_sample_images\n",
    "from sklearn.datasets import load_digits\n",
    "from sklearn.model_selection import train_test_split, cross_val_score\n",
    "from sklearn.preprocessing import OneHotEncoder\n",
    "from sklearn.metrics import accuracy_score, confusion_matrix\n",
    "import matplotlib.pyplot as plt\n",
    "import matplotlib.image as mpimg\n",
    "import numpy as np\n",
    "import seaborn as sns\n",
    "\n",
    "from tensorflow.keras.models import Sequential\n",
    "from tensorflow.keras.layers import Dense, Dropout\n",
    "from tensorflow.keras.regularizers import l2\n",
    "from tensorflow.keras.optimizers import SGD\n",
    "from tensorflow.keras.wrappers import scikit_learn\n",
    "from tensorflow.keras.callbacks import EarlyStopping\n",
    "\n",
    "import os\n",
    "import sys\n",
    "module_path = os.path.abspath(os.path.join(os.pardir, os.pardir))\n",
    "if module_path not in sys.path:\n",
    "    sys.path.append(module_path)\n",
    "    \n",
    "%load_ext autoreload\n",
    "%autoreload 2"
   ]
  },
  {
   "cell_type": "markdown",
   "metadata": {},
   "source": [
    "## Learning Objectives\n",
    "\n",
    "- use `keras` to code up a neural network model;\n",
    "- explain dropout and early stopping as distinctive forms of regularization in neural networks;\n",
    "- use wrappers inside `keras` to make models that can jibe with `sklearn`."
   ]
  },
  {
   "cell_type": "markdown",
   "metadata": {},
   "source": [
    "### From last time"
   ]
  },
  {
   "cell_type": "code",
   "execution_count": 2,
   "metadata": {},
   "outputs": [],
   "source": [
    "digits = load_digits()\n",
    "X = digits.data\n",
    "y = digits.target\n",
    "\n",
    "y_binary = y % 2"
   ]
  },
  {
   "cell_type": "code",
   "execution_count": 3,
   "metadata": {},
   "outputs": [
    {
     "name": "stderr",
     "output_type": "stream",
     "text": [
      "2022-07-28 14:07:25.182937: I tensorflow/core/platform/cpu_feature_guard.cc:145] This TensorFlow binary is optimized with Intel(R) MKL-DNN to use the following CPU instructions in performance critical operations:  SSE4.1 SSE4.2\n",
      "To enable them in non-MKL-DNN operations, rebuild TensorFlow with the appropriate compiler flags.\n",
      "2022-07-28 14:07:25.183827: I tensorflow/core/common_runtime/process_util.cc:115] Creating new thread pool with default inter op setting: 10. Tune using inter_op_parallelism_threads for best performance.\n"
     ]
    },
    {
     "name": "stdout",
     "output_type": "stream",
     "text": [
      "Train on 1797 samples\n",
      "Epoch 1/50\n",
      "1797/1797 [==============================] - 1s 465us/sample - loss: 0.7465 - accuracy: 0.7040\n",
      "Epoch 2/50\n",
      "1797/1797 [==============================] - 0s 127us/sample - loss: 0.3515 - accuracy: 0.8375\n",
      "Epoch 3/50\n",
      "1797/1797 [==============================] - 0s 123us/sample - loss: 0.2524 - accuracy: 0.8915\n",
      "Epoch 4/50\n",
      "1797/1797 [==============================] - 0s 128us/sample - loss: 0.1942 - accuracy: 0.9243\n",
      "Epoch 5/50\n",
      "1797/1797 [==============================] - 0s 124us/sample - loss: 0.1537 - accuracy: 0.9399\n",
      "Epoch 6/50\n",
      "1797/1797 [==============================] - 0s 123us/sample - loss: 0.1290 - accuracy: 0.9521\n",
      "Epoch 7/50\n",
      "1797/1797 [==============================] - 0s 126us/sample - loss: 0.1109 - accuracy: 0.9616\n",
      "Epoch 8/50\n",
      "1797/1797 [==============================] - 0s 123us/sample - loss: 0.0977 - accuracy: 0.9633\n",
      "Epoch 9/50\n",
      "1797/1797 [==============================] - 0s 123us/sample - loss: 0.0826 - accuracy: 0.9716\n",
      "Epoch 10/50\n",
      "1797/1797 [==============================] - 0s 126us/sample - loss: 0.0733 - accuracy: 0.9766\n",
      "Epoch 11/50\n",
      "1797/1797 [==============================] - 0s 125us/sample - loss: 0.0665 - accuracy: 0.9777\n",
      "Epoch 12/50\n",
      "1797/1797 [==============================] - 0s 122us/sample - loss: 0.0595 - accuracy: 0.9794\n",
      "Epoch 13/50\n",
      "1797/1797 [==============================] - 0s 125us/sample - loss: 0.0544 - accuracy: 0.9827\n",
      "Epoch 14/50\n",
      "1797/1797 [==============================] - 0s 127us/sample - loss: 0.0483 - accuracy: 0.9855\n",
      "Epoch 15/50\n",
      "1797/1797 [==============================] - 0s 124us/sample - loss: 0.0433 - accuracy: 0.9844\n",
      "Epoch 16/50\n",
      "1797/1797 [==============================] - 0s 122us/sample - loss: 0.0418 - accuracy: 0.9872\n",
      "Epoch 17/50\n",
      "1797/1797 [==============================] - 0s 123us/sample - loss: 0.0362 - accuracy: 0.9889\n",
      "Epoch 18/50\n",
      "1797/1797 [==============================] - 0s 123us/sample - loss: 0.0334 - accuracy: 0.9894\n",
      "Epoch 19/50\n",
      "1797/1797 [==============================] - 0s 121us/sample - loss: 0.0322 - accuracy: 0.9883\n",
      "Epoch 20/50\n",
      "1797/1797 [==============================] - 0s 123us/sample - loss: 0.0272 - accuracy: 0.9917\n",
      "Epoch 21/50\n",
      "1797/1797 [==============================] - 0s 122us/sample - loss: 0.0279 - accuracy: 0.9928\n",
      "Epoch 22/50\n",
      "1797/1797 [==============================] - 0s 123us/sample - loss: 0.0219 - accuracy: 0.9955\n",
      "Epoch 23/50\n",
      "1797/1797 [==============================] - 0s 123us/sample - loss: 0.0216 - accuracy: 0.9939\n",
      "Epoch 24/50\n",
      "1797/1797 [==============================] - 0s 122us/sample - loss: 0.0167 - accuracy: 0.9961\n",
      "Epoch 25/50\n",
      "1797/1797 [==============================] - 0s 131us/sample - loss: 0.0186 - accuracy: 0.9928\n",
      "Epoch 26/50\n",
      "1797/1797 [==============================] - 0s 122us/sample - loss: 0.0157 - accuracy: 0.9944\n",
      "Epoch 27/50\n",
      "1797/1797 [==============================] - 0s 123us/sample - loss: 0.0147 - accuracy: 0.9967\n",
      "Epoch 28/50\n",
      "1797/1797 [==============================] - 0s 121us/sample - loss: 0.0140 - accuracy: 0.9950\n",
      "Epoch 29/50\n",
      "1797/1797 [==============================] - 0s 125us/sample - loss: 0.0129 - accuracy: 0.9972\n",
      "Epoch 30/50\n",
      "1797/1797 [==============================] - 0s 122us/sample - loss: 0.0104 - accuracy: 0.9967\n",
      "Epoch 31/50\n",
      "1797/1797 [==============================] - 0s 124us/sample - loss: 0.0078 - accuracy: 0.9989\n",
      "Epoch 32/50\n",
      "1797/1797 [==============================] - 0s 122us/sample - loss: 0.0085 - accuracy: 0.9967\n",
      "Epoch 33/50\n",
      "1797/1797 [==============================] - 0s 125us/sample - loss: 0.0070 - accuracy: 0.9978\n",
      "Epoch 34/50\n",
      "1797/1797 [==============================] - 0s 121us/sample - loss: 0.0062 - accuracy: 0.9994\n",
      "Epoch 35/50\n",
      "1797/1797 [==============================] - 0s 122us/sample - loss: 0.0077 - accuracy: 0.9983\n",
      "Epoch 36/50\n",
      "1797/1797 [==============================] - 0s 122us/sample - loss: 0.0053 - accuracy: 0.9994\n",
      "Epoch 37/50\n",
      "1797/1797 [==============================] - 0s 124us/sample - loss: 0.0074 - accuracy: 0.9978\n",
      "Epoch 38/50\n",
      "1797/1797 [==============================] - 0s 122us/sample - loss: 0.0137 - accuracy: 0.9978\n",
      "Epoch 39/50\n",
      "1797/1797 [==============================] - 0s 123us/sample - loss: 0.0077 - accuracy: 0.9978\n",
      "Epoch 40/50\n",
      "1797/1797 [==============================] - 0s 123us/sample - loss: 0.0052 - accuracy: 0.9989\n",
      "Epoch 41/50\n",
      "1797/1797 [==============================] - 0s 122us/sample - loss: 0.0035 - accuracy: 0.9989\n",
      "Epoch 42/50\n",
      "1797/1797 [==============================] - 0s 122us/sample - loss: 0.0026 - accuracy: 1.0000\n",
      "Epoch 43/50\n",
      "1797/1797 [==============================] - 0s 125us/sample - loss: 0.0023 - accuracy: 1.0000\n",
      "Epoch 44/50\n",
      "1797/1797 [==============================] - 0s 123us/sample - loss: 0.0020 - accuracy: 1.0000\n",
      "Epoch 45/50\n",
      "1797/1797 [==============================] - 0s 121us/sample - loss: 0.0052 - accuracy: 0.9972\n",
      "Epoch 46/50\n",
      "1797/1797 [==============================] - 0s 123us/sample - loss: 0.0018 - accuracy: 1.0000\n",
      "Epoch 47/50\n",
      "1797/1797 [==============================] - 0s 123us/sample - loss: 0.0018 - accuracy: 1.0000\n",
      "Epoch 48/50\n",
      "1797/1797 [==============================] - 0s 122us/sample - loss: 0.0014 - accuracy: 1.0000\n",
      "Epoch 49/50\n",
      "1797/1797 [==============================] - 0s 122us/sample - loss: 0.0017 - accuracy: 1.0000\n",
      "Epoch 50/50\n",
      "1797/1797 [==============================] - 0s 123us/sample - loss: 0.0031 - accuracy: 0.9994\n"
     ]
    },
    {
     "data": {
      "text/plain": [
       "<tensorflow.python.keras.callbacks.History at 0x7fb3af083d50>"
      ]
     },
     "execution_count": 3,
     "metadata": {},
     "output_type": "execute_result"
    }
   ],
   "source": [
    "model = Sequential()\n",
    "model.add(Dense(12, activation='relu', input_dim=64))\n",
    "model.add(Dense(8, activation='relu'))\n",
    "model.add(Dense(1, activation='sigmoid'))\n",
    "\n",
    "model.compile(optimizer='Adam',\n",
    "              loss='binary_crossentropy',\n",
    "              metrics=['accuracy'])\n",
    "\n",
    "model.fit(X, y_binary, epochs=50, batch_size=10)"
   ]
  },
  {
   "cell_type": "markdown",
   "metadata": {},
   "source": [
    "### Things to know:\n",
    "\n",
    "- The data and labels in `fit()` need to be numpy arrays, not `pandas` dfs.\n",
    "- Scaling your data will have a large impact on your model.\n",
    "   > For our traditional input features, we would use a scaler object. For images, as long as the minimum value is 0, we can simply divide through by the maximum pixel intensity."
   ]
  },
  {
   "cell_type": "markdown",
   "metadata": {},
   "source": [
    "#### Getting data ready for modeling\n",
    "**Preprocessing**:\n",
    "\n",
    "- use train_test_split to create X_train, y_train, X_test, and y_test\n",
    "- Split training data into pure_train and validation sets.\n",
    "- Scale the pixel intensity to a value between 0 and 1."
   ]
  },
  {
   "cell_type": "markdown",
   "metadata": {},
   "source": [
    "Scaling our input variables will help speed up our neural network.\n",
    "\n",
    "Since our minimum intensity is 0, we can normalize the inputs by dividing each value by the max value (16)."
   ]
  },
  {
   "cell_type": "code",
   "execution_count": 4,
   "metadata": {},
   "outputs": [],
   "source": [
    "X_train, X_test, y_train, y_test =\\\n",
    "    train_test_split(X, y_binary, random_state=42, test_size=0.2)\n",
    "\n",
    "X_pure_train, X_val, y_pure_train, y_val =\\\n",
    "    train_test_split(X_train, y_train, random_state=42, test_size=0.2)\n",
    "\n",
    "#Normalize our inputs\n",
    "X_pure_train, X_val, X_test = X_pure_train/16, X_val/16, X_test/16"
   ]
  },
  {
   "cell_type": "markdown",
   "metadata": {},
   "source": [
    "For activation, let's start with the familiar sigmoid function, and see how it performs."
   ]
  },
  {
   "cell_type": "code",
   "execution_count": 5,
   "metadata": {},
   "outputs": [
    {
     "name": "stdout",
     "output_type": "stream",
     "text": [
      "Train on 1149 samples\n",
      "Epoch 1/10\n",
      "1149/1149 [==============================] - 0s 302us/sample - loss: 0.7090 - accuracy: 0.5039\n",
      "Epoch 2/10\n",
      "1149/1149 [==============================] - 0s 14us/sample - loss: 0.7050 - accuracy: 0.5039\n",
      "Epoch 3/10\n",
      "1149/1149 [==============================] - 0s 15us/sample - loss: 0.7015 - accuracy: 0.5039\n",
      "Epoch 4/10\n",
      "1149/1149 [==============================] - 0s 15us/sample - loss: 0.6989 - accuracy: 0.5039\n",
      "Epoch 5/10\n",
      "1149/1149 [==============================] - 0s 14us/sample - loss: 0.6969 - accuracy: 0.5039\n",
      "Epoch 6/10\n",
      "1149/1149 [==============================] - 0s 14us/sample - loss: 0.6955 - accuracy: 0.5039\n",
      "Epoch 7/10\n",
      "1149/1149 [==============================] - 0s 14us/sample - loss: 0.6944 - accuracy: 0.5039\n",
      "Epoch 8/10\n",
      "1149/1149 [==============================] - 0s 14us/sample - loss: 0.6935 - accuracy: 0.5039\n",
      "Epoch 9/10\n",
      "1149/1149 [==============================] - 0s 14us/sample - loss: 0.6928 - accuracy: 0.5039\n",
      "Epoch 10/10\n",
      "1149/1149 [==============================] - 0s 13us/sample - loss: 0.6923 - accuracy: 0.5039\n"
     ]
    }
   ],
   "source": [
    "model = Sequential()\n",
    "# We will start with our trusty sigmoid function.\n",
    "# What does input dimension correspond to?\n",
    "model.add(Dense(12, activation='sigmoid', input_dim=64))\n",
    "model.add(Dense(8, activation='sigmoid'))\n",
    "model.add(Dense(1, activation='sigmoid'))\n",
    "\n",
    "model.compile(optimizer='SGD' ,\n",
    "              # We use binary_crossentropy for a binary loss function\n",
    "              loss='binary_crossentropy',\n",
    "              metrics=['accuracy'])\n",
    "\n",
    "# Assign the variable history to store the results,\n",
    "# and set verbose=1 so we can see the output. To see\n",
    "# only the metrics at the end of each epoch, set verbose=2.\n",
    "results = model.fit(X_pure_train, y_pure_train, epochs=10, batch_size=100, verbose=1)"
   ]
  },
  {
   "cell_type": "markdown",
   "metadata": {},
   "source": [
    "We can access the history of our model via `results.history`.\n",
    "Use __dict__ to take a tour."
   ]
  },
  {
   "cell_type": "code",
   "execution_count": 6,
   "metadata": {},
   "outputs": [
    {
     "data": {
      "text/plain": [
       "{'validation_data': None,\n",
       " 'model': <tensorflow.python.keras.engine.sequential.Sequential at 0x7fb3896316d0>,\n",
       " '_chief_worker_only': None,\n",
       " 'params': {'batch_size': 100,\n",
       "  'epochs': 10,\n",
       "  'steps': 12,\n",
       "  'samples': 1149,\n",
       "  'verbose': 1,\n",
       "  'do_validation': False,\n",
       "  'metrics': ['loss', 'accuracy']},\n",
       " 'epoch': [0, 1, 2, 3, 4, 5, 6, 7, 8, 9],\n",
       " 'history': {'loss': [0.7090334043075356,\n",
       "   0.7049634486203405,\n",
       "   0.7014801466952624,\n",
       "   0.6989495171683057,\n",
       "   0.6969397801020749,\n",
       "   0.6955175486930668,\n",
       "   0.6943731388908765,\n",
       "   0.6935005507539728,\n",
       "   0.6927934468466889,\n",
       "   0.692285826353533],\n",
       "  'accuracy': [0.50391644,\n",
       "   0.50391644,\n",
       "   0.50391644,\n",
       "   0.50391644,\n",
       "   0.50391644,\n",
       "   0.50391644,\n",
       "   0.50391644,\n",
       "   0.50391644,\n",
       "   0.50391644,\n",
       "   0.50391644]}}"
      ]
     },
     "execution_count": 6,
     "metadata": {},
     "output_type": "execute_result"
    }
   ],
   "source": [
    "results.__dict__"
   ]
  },
  {
   "cell_type": "code",
   "execution_count": 12,
   "metadata": {},
   "outputs": [
    {
     "data": {
      "image/png": "[encoded data removed]",
      "text/plain": [
       "<Figure size 432x288 with 2 Axes>"
      ]
     },
     "metadata": {
      "needs_background": "light"
     },
     "output_type": "display_data"
    }
   ],
   "source": [
    "#Let's plot our loss and accuracy on two graphs\n",
    "sigmoid_loss = results.history['loss']\n",
    "sigmoid_accuracy = results.history['accuracy']\n",
    "\n",
    "fig, (ax1, ax2) = plt.subplots(1, 2)\n",
    "sns.lineplot(x=results.epoch, y=sigmoid_loss, ax=ax1, label='loss')\n",
    "sns.lineplot(x=results.epoch, y=sigmoid_accuracy, ax=ax2, label='accuracy');\n"
   ]
  },
  {
   "cell_type": "code",
   "execution_count": 13,
   "metadata": {},
   "outputs": [
    {
     "data": {
      "text/plain": [
       "[0.50391644,\n",
       " 0.50391644,\n",
       " 0.50391644,\n",
       " 0.50391644,\n",
       " 0.50391644,\n",
       " 0.50391644,\n",
       " 0.50391644,\n",
       " 0.50391644,\n",
       " 0.50391644,\n",
       " 0.50391644]"
      ]
     },
     "execution_count": 13,
     "metadata": {},
     "output_type": "execute_result"
    }
   ],
   "source": [
    "sigmoid_accuracy"
   ]
  },
  {
   "cell_type": "markdown",
   "metadata": {},
   "source": [
    "We have two plots above both relating to the quality of our model.  The left-hand plot is our loss. It uses the probabilities associated with our predictions to judge how well our prediction fits reality. We want it to decrease as far as possible.\n",
    "\n",
    "The accuracy judges how well the predictions are after applying the threshold at the output layer.  We want accuracy to increase."
   ]
  },
  {
   "cell_type": "markdown",
   "metadata": {},
   "source": [
    "If we look at our loss, it is still decreasing. That is a signal that our model is **still learning**. If our model is still learning, we can allow it to get better by turning a few dials.\n",
    "\n",
    "Let's:\n",
    "- increase the number of epochs;\n",
    "- change sigmoid activation in the hidden layers to ReLU; and\n",
    "- decrease the batch size."
   ]
  },
  {
   "cell_type": "code",
   "execution_count": 14,
   "metadata": {},
   "outputs": [
    {
     "data": {
      "text/plain": [
       "1149"
      ]
     },
     "execution_count": 14,
     "metadata": {},
     "output_type": "execute_result"
    }
   ],
   "source": [
    "X_pure_train.shape[0]"
   ]
  },
  {
   "cell_type": "markdown",
   "metadata": {},
   "source": [
    "This below code is currently what we already ran above.\n",
    "\n",
    "How can we change it to accomplish the above bullet points?"
   ]
  },
  {
   "cell_type": "code",
   "execution_count": 15,
   "metadata": {},
   "outputs": [
    {
     "name": "stdout",
     "output_type": "stream",
     "text": [
      "Train on 1149 samples\n",
      "Epoch 1/100\n",
      "1149/1149 [==============================] - 0s 334us/sample - loss: 0.6825 - accuracy: 0.5274\n",
      "Epoch 2/100\n",
      "1149/1149 [==============================] - 0s 38us/sample - loss: 0.6636 - accuracy: 0.6057\n",
      "Epoch 3/100\n",
      "1149/1149 [==============================] - 0s 38us/sample - loss: 0.6450 - accuracy: 0.6606\n",
      "Epoch 4/100\n",
      "1149/1149 [==============================] - 0s 36us/sample - loss: 0.6243 - accuracy: 0.7050\n",
      "Epoch 5/100\n",
      "1149/1149 [==============================] - 0s 37us/sample - loss: 0.6049 - accuracy: 0.7319\n",
      "Epoch 6/100\n",
      "1149/1149 [==============================] - 0s 37us/sample - loss: 0.5864 - accuracy: 0.7520\n",
      "Epoch 7/100\n",
      "1149/1149 [==============================] - 0s 35us/sample - loss: 0.5685 - accuracy: 0.7633\n",
      "Epoch 8/100\n",
      "1149/1149 [==============================] - 0s 36us/sample - loss: 0.5499 - accuracy: 0.7728\n",
      "Epoch 9/100\n",
      "1149/1149 [==============================] - 0s 35us/sample - loss: 0.5308 - accuracy: 0.7876\n",
      "Epoch 10/100\n",
      "1149/1149 [==============================] - 0s 36us/sample - loss: 0.5111 - accuracy: 0.7972\n",
      "Epoch 11/100\n",
      "1149/1149 [==============================] - 0s 35us/sample - loss: 0.4910 - accuracy: 0.8042\n",
      "Epoch 12/100\n",
      "1149/1149 [==============================] - 0s 36us/sample - loss: 0.4713 - accuracy: 0.8190\n",
      "Epoch 13/100\n",
      "1149/1149 [==============================] - 0s 36us/sample - loss: 0.4521 - accuracy: 0.8190\n",
      "Epoch 14/100\n",
      "1149/1149 [==============================] - 0s 35us/sample - loss: 0.4330 - accuracy: 0.8312\n",
      "Epoch 15/100\n",
      "1149/1149 [==============================] - 0s 35us/sample - loss: 0.4153 - accuracy: 0.8364\n",
      "Epoch 16/100\n",
      "1149/1149 [==============================] - 0s 35us/sample - loss: 0.3983 - accuracy: 0.8407\n",
      "Epoch 17/100\n",
      "1149/1149 [==============================] - 0s 34us/sample - loss: 0.3822 - accuracy: 0.8468\n",
      "Epoch 18/100\n",
      "1149/1149 [==============================] - 0s 36us/sample - loss: 0.3672 - accuracy: 0.8564\n",
      "Epoch 19/100\n",
      "1149/1149 [==============================] - 0s 36us/sample - loss: 0.3540 - accuracy: 0.8555\n",
      "Epoch 20/100\n",
      "1149/1149 [==============================] - 0s 35us/sample - loss: 0.3411 - accuracy: 0.8642\n",
      "Epoch 21/100\n",
      "1149/1149 [==============================] - 0s 36us/sample - loss: 0.3286 - accuracy: 0.8668\n",
      "Epoch 22/100\n",
      "1149/1149 [==============================] - 0s 36us/sample - loss: 0.3180 - accuracy: 0.8808\n",
      "Epoch 23/100\n",
      "1149/1149 [==============================] - 0s 36us/sample - loss: 0.3076 - accuracy: 0.8790\n",
      "Epoch 24/100\n",
      "1149/1149 [==============================] - 0s 35us/sample - loss: 0.2981 - accuracy: 0.8860\n",
      "Epoch 25/100\n",
      "1149/1149 [==============================] - 0s 35us/sample - loss: 0.2890 - accuracy: 0.8877\n",
      "Epoch 26/100\n",
      "1149/1149 [==============================] - 0s 34us/sample - loss: 0.2808 - accuracy: 0.8921\n",
      "Epoch 27/100\n",
      "1149/1149 [==============================] - 0s 35us/sample - loss: 0.2731 - accuracy: 0.8938\n",
      "Epoch 28/100\n",
      "1149/1149 [==============================] - 0s 35us/sample - loss: 0.2658 - accuracy: 0.8973\n",
      "Epoch 29/100\n",
      "1149/1149 [==============================] - 0s 35us/sample - loss: 0.2594 - accuracy: 0.8982\n",
      "Epoch 30/100\n",
      "1149/1149 [==============================] - 0s 35us/sample - loss: 0.2522 - accuracy: 0.9017\n",
      "Epoch 31/100\n",
      "1149/1149 [==============================] - 0s 34us/sample - loss: 0.2456 - accuracy: 0.9060\n",
      "Epoch 32/100\n",
      "1149/1149 [==============================] - 0s 34us/sample - loss: 0.2406 - accuracy: 0.9069\n",
      "Epoch 33/100\n",
      "1149/1149 [==============================] - 0s 34us/sample - loss: 0.2345 - accuracy: 0.9121\n",
      "Epoch 34/100\n",
      "1149/1149 [==============================] - 0s 36us/sample - loss: 0.2301 - accuracy: 0.9060\n",
      "Epoch 35/100\n",
      "1149/1149 [==============================] - 0s 34us/sample - loss: 0.2239 - accuracy: 0.9147\n",
      "Epoch 36/100\n",
      "1149/1149 [==============================] - 0s 35us/sample - loss: 0.2195 - accuracy: 0.9130\n",
      "Epoch 37/100\n",
      "1149/1149 [==============================] - 0s 36us/sample - loss: 0.2151 - accuracy: 0.9199\n",
      "Epoch 38/100\n",
      "1149/1149 [==============================] - 0s 35us/sample - loss: 0.2113 - accuracy: 0.9173\n",
      "Epoch 39/100\n",
      "1149/1149 [==============================] - 0s 38us/sample - loss: 0.2074 - accuracy: 0.9191\n",
      "Epoch 40/100\n",
      "1149/1149 [==============================] - 0s 37us/sample - loss: 0.2034 - accuracy: 0.9199\n",
      "Epoch 41/100\n",
      "1149/1149 [==============================] - 0s 36us/sample - loss: 0.1993 - accuracy: 0.9217\n",
      "Epoch 42/100\n",
      "1149/1149 [==============================] - 0s 36us/sample - loss: 0.1953 - accuracy: 0.9234\n",
      "Epoch 43/100\n",
      "1149/1149 [==============================] - 0s 36us/sample - loss: 0.1919 - accuracy: 0.9260\n",
      "Epoch 44/100\n",
      "1149/1149 [==============================] - 0s 36us/sample - loss: 0.1890 - accuracy: 0.9225\n",
      "Epoch 45/100\n",
      "1149/1149 [==============================] - 0s 38us/sample - loss: 0.1859 - accuracy: 0.9269\n",
      "Epoch 46/100\n",
      "1149/1149 [==============================] - 0s 36us/sample - loss: 0.1830 - accuracy: 0.9278\n",
      "Epoch 47/100\n",
      "1149/1149 [==============================] - 0s 37us/sample - loss: 0.1799 - accuracy: 0.9286\n",
      "Epoch 48/100\n",
      "1149/1149 [==============================] - 0s 35us/sample - loss: 0.1774 - accuracy: 0.9304\n",
      "Epoch 49/100\n",
      "1149/1149 [==============================] - 0s 35us/sample - loss: 0.1740 - accuracy: 0.9321\n",
      "Epoch 50/100\n",
      "1149/1149 [==============================] - 0s 36us/sample - loss: 0.1718 - accuracy: 0.9304\n",
      "Epoch 51/100\n",
      "1149/1149 [==============================] - 0s 35us/sample - loss: 0.1683 - accuracy: 0.9304\n",
      "Epoch 52/100\n",
      "1149/1149 [==============================] - 0s 36us/sample - loss: 0.1667 - accuracy: 0.9391\n",
      "Epoch 53/100\n",
      "1149/1149 [==============================] - 0s 36us/sample - loss: 0.1638 - accuracy: 0.9399\n",
      "Epoch 54/100\n",
      "1149/1149 [==============================] - 0s 36us/sample - loss: 0.1610 - accuracy: 0.9373\n",
      "Epoch 55/100\n",
      "1149/1149 [==============================] - 0s 36us/sample - loss: 0.1591 - accuracy: 0.9373\n",
      "Epoch 56/100\n",
      "1149/1149 [==============================] - 0s 36us/sample - loss: 0.1571 - accuracy: 0.9365\n",
      "Epoch 57/100\n",
      "1149/1149 [==============================] - 0s 36us/sample - loss: 0.1553 - accuracy: 0.9399\n",
      "Epoch 58/100\n",
      "1149/1149 [==============================] - 0s 36us/sample - loss: 0.1535 - accuracy: 0.9417\n",
      "Epoch 59/100\n",
      "1149/1149 [==============================] - 0s 38us/sample - loss: 0.1501 - accuracy: 0.9434\n",
      "Epoch 60/100\n",
      "1149/1149 [==============================] - 0s 36us/sample - loss: 0.1489 - accuracy: 0.9399\n",
      "Epoch 61/100\n",
      "1149/1149 [==============================] - 0s 35us/sample - loss: 0.1470 - accuracy: 0.9408\n",
      "Epoch 62/100\n",
      "1149/1149 [==============================] - 0s 35us/sample - loss: 0.1446 - accuracy: 0.9452\n",
      "Epoch 63/100\n",
      "1149/1149 [==============================] - 0s 36us/sample - loss: 0.1423 - accuracy: 0.9452\n",
      "Epoch 64/100\n",
      "1149/1149 [==============================] - 0s 35us/sample - loss: 0.1411 - accuracy: 0.9434\n",
      "Epoch 65/100\n",
      "1149/1149 [==============================] - 0s 36us/sample - loss: 0.1398 - accuracy: 0.9495\n",
      "Epoch 66/100\n",
      "1149/1149 [==============================] - 0s 35us/sample - loss: 0.1389 - accuracy: 0.9469\n",
      "Epoch 67/100\n",
      "1149/1149 [==============================] - 0s 35us/sample - loss: 0.1349 - accuracy: 0.9469\n",
      "Epoch 68/100\n",
      "1149/1149 [==============================] - 0s 35us/sample - loss: 0.1338 - accuracy: 0.9469\n",
      "Epoch 69/100\n",
      "1149/1149 [==============================] - 0s 35us/sample - loss: 0.1326 - accuracy: 0.9478\n",
      "Epoch 70/100\n",
      "1149/1149 [==============================] - 0s 34us/sample - loss: 0.1310 - accuracy: 0.9487\n",
      "Epoch 71/100\n",
      "1149/1149 [==============================] - 0s 33us/sample - loss: 0.1293 - accuracy: 0.9513\n",
      "Epoch 72/100\n",
      "1149/1149 [==============================] - 0s 34us/sample - loss: 0.1282 - accuracy: 0.9521\n",
      "Epoch 73/100\n",
      "1149/1149 [==============================] - 0s 34us/sample - loss: 0.1263 - accuracy: 0.9504\n",
      "Epoch 74/100\n",
      "1149/1149 [==============================] - 0s 34us/sample - loss: 0.1253 - accuracy: 0.9539\n",
      "Epoch 75/100\n",
      "1149/1149 [==============================] - 0s 35us/sample - loss: 0.1233 - accuracy: 0.9513\n",
      "Epoch 76/100\n",
      "1149/1149 [==============================] - 0s 35us/sample - loss: 0.1211 - accuracy: 0.9556\n",
      "Epoch 77/100\n"
     ]
    },
    {
     "name": "stdout",
     "output_type": "stream",
     "text": [
      "1149/1149 [==============================] - 0s 34us/sample - loss: 0.1206 - accuracy: 0.9539\n",
      "Epoch 78/100\n",
      "1149/1149 [==============================] - 0s 35us/sample - loss: 0.1203 - accuracy: 0.9530\n",
      "Epoch 79/100\n",
      "1149/1149 [==============================] - 0s 33us/sample - loss: 0.1186 - accuracy: 0.9513\n",
      "Epoch 80/100\n",
      "1149/1149 [==============================] - 0s 33us/sample - loss: 0.1167 - accuracy: 0.9539\n",
      "Epoch 81/100\n",
      "1149/1149 [==============================] - 0s 36us/sample - loss: 0.1133 - accuracy: 0.9600\n",
      "Epoch 82/100\n",
      "1149/1149 [==============================] - 0s 34us/sample - loss: 0.1149 - accuracy: 0.9556\n",
      "Epoch 83/100\n",
      "1149/1149 [==============================] - 0s 34us/sample - loss: 0.1129 - accuracy: 0.9582\n",
      "Epoch 84/100\n",
      "1149/1149 [==============================] - 0s 34us/sample - loss: 0.1114 - accuracy: 0.9547\n",
      "Epoch 85/100\n",
      "1149/1149 [==============================] - 0s 36us/sample - loss: 0.1102 - accuracy: 0.9556\n",
      "Epoch 86/100\n",
      "1149/1149 [==============================] - 0s 35us/sample - loss: 0.1078 - accuracy: 0.9617\n",
      "Epoch 87/100\n",
      "1149/1149 [==============================] - 0s 41us/sample - loss: 0.1083 - accuracy: 0.9591\n",
      "Epoch 88/100\n",
      "1149/1149 [==============================] - 0s 35us/sample - loss: 0.1060 - accuracy: 0.9608\n",
      "Epoch 89/100\n",
      "1149/1149 [==============================] - 0s 35us/sample - loss: 0.1048 - accuracy: 0.9617\n",
      "Epoch 90/100\n",
      "1149/1149 [==============================] - 0s 33us/sample - loss: 0.1039 - accuracy: 0.9600\n",
      "Epoch 91/100\n",
      "1149/1149 [==============================] - 0s 34us/sample - loss: 0.1029 - accuracy: 0.9617\n",
      "Epoch 92/100\n",
      "1149/1149 [==============================] - 0s 34us/sample - loss: 0.1005 - accuracy: 0.9634\n",
      "Epoch 93/100\n",
      "1149/1149 [==============================] - 0s 34us/sample - loss: 0.1007 - accuracy: 0.9617\n",
      "Epoch 94/100\n",
      "1149/1149 [==============================] - 0s 35us/sample - loss: 0.0988 - accuracy: 0.9634\n",
      "Epoch 95/100\n",
      "1149/1149 [==============================] - 0s 34us/sample - loss: 0.0989 - accuracy: 0.9652\n",
      "Epoch 96/100\n",
      "1149/1149 [==============================] - 0s 36us/sample - loss: 0.0974 - accuracy: 0.9643\n",
      "Epoch 97/100\n",
      "1149/1149 [==============================] - 0s 34us/sample - loss: 0.0965 - accuracy: 0.9661\n",
      "Epoch 98/100\n",
      "1149/1149 [==============================] - 0s 34us/sample - loss: 0.0957 - accuracy: 0.9634\n",
      "Epoch 99/100\n",
      "1149/1149 [==============================] - 0s 34us/sample - loss: 0.0938 - accuracy: 0.9687\n",
      "Epoch 100/100\n",
      "1149/1149 [==============================] - 0s 34us/sample - loss: 0.0939 - accuracy: 0.9687\n"
     ]
    }
   ],
   "source": [
    "#Modify the code below\n",
    "\n",
    "model = Sequential()\n",
    "# We will start with our trusty sigmoid function.\n",
    "# What does input dimension correspond to?\n",
    "model.add(Dense(12, activation='relu', input_dim=64))\n",
    "model.add(Dense(8, activation='relu'))\n",
    "model.add(Dense(1, activation='sigmoid'))\n",
    "\n",
    "model.compile(optimizer='SGD' ,\n",
    "              # We use binary_crossentropy for a binary loss function\n",
    "              loss='binary_crossentropy',\n",
    "              metrics=['accuracy'])\n",
    "\n",
    "# Assign the variable history to store the results,\n",
    "# and set verbose=1 so we can see the output. To see\n",
    "# only the metrics at the end of each epoch, set verbose=2.\n",
    "results = model.fit(X_pure_train, y_pure_train, epochs=100, batch_size=32, verbose=1)"
   ]
  },
  {
   "cell_type": "code",
   "execution_count": 16,
   "metadata": {},
   "outputs": [
    {
     "data": {
      "image/png": "[encoded data removed]",
      "text/plain": [
       "<Figure size 720x360 with 2 Axes>"
      ]
     },
     "metadata": {
      "needs_background": "light"
     },
     "output_type": "display_data"
    }
   ],
   "source": [
    "sigmoid_loss = results.history['loss']\n",
    "sigmoid_accuracy = results.history['accuracy']\n",
    "\n",
    "fig, (ax1, ax2) = plt.subplots(1, 2, figsize=(10, 5))\n",
    "sns.lineplot(x=results.epoch, y=sigmoid_loss, ax=ax1, label='loss')\n",
    "sns.lineplot(x=results.epoch, y=sigmoid_accuracy, ax=ax2, label='accuracy');"
   ]
  },
  {
   "cell_type": "markdown",
   "metadata": {},
   "source": [
    "If we increase the learning rate to a very high number, we see that our model overshoots the minimum, and starts bouncing all around."
   ]
  },
  {
   "cell_type": "code",
   "execution_count": 17,
   "metadata": {},
   "outputs": [
    {
     "name": "stdout",
     "output_type": "stream",
     "text": [
      "Train on 1149 samples\n",
      "Epoch 1/30\n",
      "1149/1149 [==============================] - 0s 409us/sample - loss: 34.0964 - accuracy: 0.4978\n",
      "Epoch 2/30\n",
      "1149/1149 [==============================] - 0s 111us/sample - loss: 1.0676 - accuracy: 0.4952\n",
      "Epoch 3/30\n",
      "1149/1149 [==============================] - 0s 111us/sample - loss: 0.9994 - accuracy: 0.5109\n",
      "Epoch 4/30\n",
      "1149/1149 [==============================] - 0s 110us/sample - loss: 0.9752 - accuracy: 0.5057\n",
      "Epoch 5/30\n",
      "1149/1149 [==============================] - 0s 111us/sample - loss: 0.9946 - accuracy: 0.5117\n",
      "Epoch 6/30\n",
      "1149/1149 [==============================] - 0s 103us/sample - loss: 1.0657 - accuracy: 0.4822\n",
      "Epoch 7/30\n",
      "1149/1149 [==============================] - 0s 110us/sample - loss: 1.0959 - accuracy: 0.4952\n",
      "Epoch 8/30\n",
      "1149/1149 [==============================] - 0s 114us/sample - loss: 1.0132 - accuracy: 0.4926\n",
      "Epoch 9/30\n",
      "1149/1149 [==============================] - 0s 111us/sample - loss: 0.9884 - accuracy: 0.5178\n",
      "Epoch 10/30\n",
      "1149/1149 [==============================] - 0s 107us/sample - loss: 0.9739 - accuracy: 0.5083\n",
      "Epoch 11/30\n",
      "1149/1149 [==============================] - 0s 109us/sample - loss: 1.0553 - accuracy: 0.4987\n",
      "Epoch 12/30\n",
      "1149/1149 [==============================] - 0s 112us/sample - loss: 1.0352 - accuracy: 0.4900\n",
      "Epoch 13/30\n",
      "1149/1149 [==============================] - 0s 109us/sample - loss: 1.0459 - accuracy: 0.4795\n",
      "Epoch 14/30\n",
      "1149/1149 [==============================] - 0s 104us/sample - loss: 0.9872 - accuracy: 0.4952\n",
      "Epoch 15/30\n",
      "1149/1149 [==============================] - 0s 109us/sample - loss: 1.0334 - accuracy: 0.4839\n",
      "Epoch 16/30\n",
      "1149/1149 [==============================] - 0s 111us/sample - loss: 1.0899 - accuracy: 0.4682\n",
      "Epoch 17/30\n",
      "1149/1149 [==============================] - 0s 111us/sample - loss: 1.0932 - accuracy: 0.4708\n",
      "Epoch 18/30\n",
      "1149/1149 [==============================] - 0s 108us/sample - loss: 1.1053 - accuracy: 0.4822\n",
      "Epoch 19/30\n",
      "1149/1149 [==============================] - 0s 107us/sample - loss: 1.0350 - accuracy: 0.5022\n",
      "Epoch 20/30\n",
      "1149/1149 [==============================] - 0s 105us/sample - loss: 1.0400 - accuracy: 0.4883\n",
      "Epoch 21/30\n",
      "1149/1149 [==============================] - 0s 116us/sample - loss: 1.0069 - accuracy: 0.4978\n",
      "Epoch 22/30\n",
      "1149/1149 [==============================] - 0s 110us/sample - loss: 0.9742 - accuracy: 0.5109\n",
      "Epoch 23/30\n",
      "1149/1149 [==============================] - 0s 110us/sample - loss: 0.9176 - accuracy: 0.5205\n",
      "Epoch 24/30\n",
      "1149/1149 [==============================] - 0s 110us/sample - loss: 0.9964 - accuracy: 0.5057\n",
      "Epoch 25/30\n",
      "1149/1149 [==============================] - 0s 107us/sample - loss: 1.0575 - accuracy: 0.4830\n",
      "Epoch 26/30\n",
      "1149/1149 [==============================] - 0s 112us/sample - loss: 0.9967 - accuracy: 0.5004\n",
      "Epoch 27/30\n",
      "1149/1149 [==============================] - 0s 112us/sample - loss: 0.9915 - accuracy: 0.4978\n",
      "Epoch 28/30\n",
      "1149/1149 [==============================] - 0s 109us/sample - loss: 0.9254 - accuracy: 0.5170\n",
      "Epoch 29/30\n",
      "1149/1149 [==============================] - 0s 111us/sample - loss: 1.1053 - accuracy: 0.4778\n",
      "Epoch 30/30\n",
      "1149/1149 [==============================] - 0s 113us/sample - loss: 1.0262 - accuracy: 0.4996\n"
     ]
    },
    {
     "data": {
      "image/png": "[encoded data removed]",
      "text/plain": [
       "<Figure size 720x360 with 2 Axes>"
      ]
     },
     "metadata": {
      "needs_background": "light"
     },
     "output_type": "display_data"
    }
   ],
   "source": [
    "#Modify the code below\n",
    "\n",
    "model = Sequential()\n",
    "\n",
    "sgd = SGD(lr=9) #Stochastic Gradient Descent optimizer. \n",
    "#its default learning rate is 0.01\n",
    "model.add(Dense(12, activation='relu', input_dim=64))\n",
    "model.add(Dense(8, activation='relu'))\n",
    "model.add(Dense(1, activation='sigmoid'))\n",
    "\n",
    "model.compile(optimizer=sgd, #Note what we do differently here, \n",
    "              loss='binary_crossentropy',\n",
    "              metrics=['accuracy'])\n",
    "\n",
    "results = model.fit(X_pure_train, y_pure_train,\n",
    "                    epochs=30, batch_size=10, verbose=1)\n",
    "\n",
    "relu_loss = results.history['loss']\n",
    "relu_accuracy = results.history['accuracy']\n",
    "\n",
    "fig, (ax1, ax2) = plt.subplots(1, 2, figsize=(10, 5))\n",
    "sns.lineplot(x=results.epoch, y=relu_loss, ax=ax1, label='loss')\n",
    "sns.lineplot(x=results.epoch, y=relu_accuracy, ax=ax2, label='accuracy');"
   ]
  },
  {
   "cell_type": "markdown",
   "metadata": {},
   "source": [
    "### Exercise\n",
    "\n",
    "We have been looking only at our training set. Let's add in our validation set to the picture. Check the docstring for the `.fit()` method and add in our validation data."
   ]
  },
  {
   "cell_type": "code",
   "execution_count": 22,
   "metadata": {
    "scrolled": false
   },
   "outputs": [
    {
     "name": "stdout",
     "output_type": "stream",
     "text": [
      "Train on 1149 samples, validate on 288 samples\n",
      "Epoch 1/30\n",
      "1149/1149 [==============================] - 1s 607us/sample - loss: 0.6829 - accuracy: 0.4987 - val_loss: 0.6581 - val_accuracy: 0.5451\n",
      "Epoch 2/30\n",
      "1149/1149 [==============================] - 0s 66us/sample - loss: 0.6460 - accuracy: 0.5770 - val_loss: 0.6197 - val_accuracy: 0.6597\n",
      "Epoch 3/30\n",
      "1149/1149 [==============================] - 0s 66us/sample - loss: 0.6013 - accuracy: 0.7128 - val_loss: 0.5697 - val_accuracy: 0.7569\n",
      "Epoch 4/30\n",
      "1149/1149 [==============================] - 0s 65us/sample - loss: 0.5509 - accuracy: 0.7868 - val_loss: 0.5220 - val_accuracy: 0.8299\n",
      "Epoch 5/30\n",
      "1149/1149 [==============================] - 0s 62us/sample - loss: 0.4884 - accuracy: 0.8303 - val_loss: 0.4578 - val_accuracy: 0.8299\n",
      "Epoch 6/30\n",
      "1149/1149 [==============================] - 0s 63us/sample - loss: 0.3939 - accuracy: 0.8520 - val_loss: 0.3690 - val_accuracy: 0.8472\n",
      "Epoch 7/30\n",
      "1149/1149 [==============================] - 0s 63us/sample - loss: 0.3163 - accuracy: 0.8729 - val_loss: 0.3164 - val_accuracy: 0.8681\n",
      "Epoch 8/30\n",
      "1149/1149 [==============================] - 0s 63us/sample - loss: 0.2759 - accuracy: 0.8842 - val_loss: 0.2705 - val_accuracy: 0.8854\n",
      "Epoch 9/30\n",
      "1149/1149 [==============================] - 0s 64us/sample - loss: 0.2440 - accuracy: 0.9008 - val_loss: 0.2484 - val_accuracy: 0.9062\n",
      "Epoch 10/30\n",
      "1149/1149 [==============================] - 0s 70us/sample - loss: 0.2221 - accuracy: 0.9043 - val_loss: 0.2255 - val_accuracy: 0.9201\n",
      "Epoch 11/30\n",
      "1149/1149 [==============================] - 0s 64us/sample - loss: 0.2014 - accuracy: 0.9138 - val_loss: 0.2154 - val_accuracy: 0.9271\n",
      "Epoch 12/30\n",
      "1149/1149 [==============================] - 0s 64us/sample - loss: 0.1829 - accuracy: 0.9191 - val_loss: 0.2036 - val_accuracy: 0.9271\n",
      "Epoch 13/30\n",
      "1149/1149 [==============================] - 0s 64us/sample - loss: 0.1706 - accuracy: 0.9278 - val_loss: 0.1894 - val_accuracy: 0.9340\n",
      "Epoch 14/30\n",
      "1149/1149 [==============================] - 0s 63us/sample - loss: 0.1611 - accuracy: 0.9295 - val_loss: 0.1829 - val_accuracy: 0.9375\n",
      "Epoch 15/30\n",
      "1149/1149 [==============================] - 0s 63us/sample - loss: 0.1518 - accuracy: 0.9408 - val_loss: 0.1756 - val_accuracy: 0.9375\n",
      "Epoch 16/30\n",
      "1149/1149 [==============================] - 0s 64us/sample - loss: 0.1402 - accuracy: 0.9391 - val_loss: 0.1673 - val_accuracy: 0.9375\n",
      "Epoch 17/30\n",
      "1149/1149 [==============================] - 0s 64us/sample - loss: 0.1333 - accuracy: 0.9469 - val_loss: 0.1605 - val_accuracy: 0.9444\n",
      "Epoch 18/30\n",
      "1149/1149 [==============================] - 0s 62us/sample - loss: 0.1269 - accuracy: 0.9556 - val_loss: 0.1532 - val_accuracy: 0.9444\n",
      "Epoch 19/30\n",
      "1149/1149 [==============================] - 0s 64us/sample - loss: 0.1196 - accuracy: 0.9574 - val_loss: 0.1512 - val_accuracy: 0.9514\n",
      "Epoch 20/30\n",
      "1149/1149 [==============================] - 0s 63us/sample - loss: 0.1118 - accuracy: 0.9582 - val_loss: 0.1560 - val_accuracy: 0.9514\n",
      "Epoch 21/30\n",
      "1149/1149 [==============================] - 0s 63us/sample - loss: 0.1059 - accuracy: 0.9652 - val_loss: 0.1385 - val_accuracy: 0.9514\n",
      "Epoch 22/30\n",
      "1149/1149 [==============================] - 0s 64us/sample - loss: 0.0988 - accuracy: 0.9669 - val_loss: 0.1305 - val_accuracy: 0.9549\n",
      "Epoch 23/30\n",
      "1149/1149 [==============================] - 0s 63us/sample - loss: 0.0940 - accuracy: 0.9678 - val_loss: 0.1248 - val_accuracy: 0.9514\n",
      "Epoch 24/30\n",
      "1149/1149 [==============================] - 0s 65us/sample - loss: 0.0912 - accuracy: 0.9687 - val_loss: 0.1255 - val_accuracy: 0.9583\n",
      "Epoch 25/30\n",
      "1149/1149 [==============================] - 0s 64us/sample - loss: 0.0836 - accuracy: 0.9721 - val_loss: 0.1136 - val_accuracy: 0.9583\n",
      "Epoch 26/30\n",
      "1149/1149 [==============================] - 0s 63us/sample - loss: 0.0877 - accuracy: 0.9617 - val_loss: 0.1078 - val_accuracy: 0.9618\n",
      "Epoch 27/30\n",
      "1149/1149 [==============================] - 0s 64us/sample - loss: 0.0769 - accuracy: 0.9748 - val_loss: 0.1094 - val_accuracy: 0.9583\n",
      "Epoch 28/30\n",
      "1149/1149 [==============================] - 0s 63us/sample - loss: 0.0735 - accuracy: 0.9765 - val_loss: 0.1043 - val_accuracy: 0.9549\n",
      "Epoch 29/30\n",
      "1149/1149 [==============================] - 0s 62us/sample - loss: 0.0684 - accuracy: 0.9765 - val_loss: 0.0975 - val_accuracy: 0.9618\n",
      "Epoch 30/30\n",
      "1149/1149 [==============================] - 0s 62us/sample - loss: 0.0656 - accuracy: 0.9817 - val_loss: 0.0943 - val_accuracy: 0.9549\n"
     ]
    },
    {
     "data": {
      "image/png": "[encoded data removed]",
      "text/plain": [
       "<Figure size 720x360 with 2 Axes>"
      ]
     },
     "metadata": {
      "needs_background": "light"
     },
     "output_type": "display_data"
    }
   ],
   "source": [
    "model = Sequential()\n",
    "model.add(Dense(12, activation='relu', input_dim=64))\n",
    "model.add(Dense(8, activation='relu'))\n",
    "model.add(Dense(4, activation='relu'))\n",
    "model.add(Dense(1, activation='sigmoid'))\n",
    "\n",
    "model.compile(optimizer='adam',\n",
    "              loss='binary_crossentropy',\n",
    "              metrics=['accuracy'])\n",
    "\n",
    "## Insert your code here for our new fit call\n",
    "results = model.fit(X_pure_train, y_pure_train,\n",
    "                   validation_data=(X_val, y_val),\n",
    "                   epochs=30, batch_size=32)\n",
    "\n",
    "\n",
    "train_loss = results.history['loss']\n",
    "train_acc = results.history['accuracy']\n",
    "#Insert code here to see the validation results\n",
    "val_loss = results.history['val_loss']\n",
    "val_acc = results.history['val_accuracy']\n",
    "\n",
    "fig, (ax1, ax2) = plt.subplots(1, 2, figsize=(10, 5))\n",
    "sns.lineplot(x=results.epoch, y=train_loss, ax=ax1, label='train_loss')\n",
    "sns.lineplot(x=results.epoch, y=train_acc, ax=ax2, label='train_accuracy')\n",
    "\n",
    "sns.lineplot(x=results.epoch, y=val_loss, ax=ax1, label='val_loss')\n",
    "sns.lineplot(x=results.epoch, y=val_acc, ax=ax2, label='val_accuracy');"
   ]
  },
  {
   "cell_type": "markdown",
   "metadata": {},
   "source": [
    "<details>\n",
    "    <summary>One answer here</summary>\n",
    "<code>model = Sequential()\n",
    "model.add(Dense(12, activation='relu', input_dim=64))\n",
    "model.add(Dense(8, activation='relu'))\n",
    "model.add(Dense(4, activation='relu'))\n",
    "model.add(Dense(1, activation='sigmoid'))\n",
    "model.compile(optimizer='adam',\n",
    "              loss='binary_crossentropy',\n",
    "              metrics=['accuracy'])\n",
    "results = model.fit(X_pure_train, y_pure_train,\n",
    "                   validation_data=(X_val, y_val),\n",
    "                   epochs=30, batch_size=10)\n",
    "train_loss = results.history['loss']\n",
    "train_acc = results.history['accuracy']\n",
    "val_loss = results.history['val_loss']\n",
    "val_acc = results.history['val_accuracy']\n",
    "fig, (ax1, ax2) = plt.subplots(1, 2, figsize=(10, 5))\n",
    "sns.lineplot(x=results.epoch, y=train_loss, ax=ax1, label='train_loss')\n",
    "sns.lineplot(x=results.epoch, y=train_acc, ax=ax2, label='train_accuracy')\n",
    "sns.lineplot(x=results.epoch, y=val_loss, ax=ax1, label='val_loss')\n",
    "sns.lineplot(x=results.epoch, y=val_acc, ax=ax2, label='val_accuracy');</code>\n",
    "</details>"
   ]
  },
  {
   "cell_type": "code",
   "execution_count": 23,
   "metadata": {},
   "outputs": [
    {
     "data": {
      "text/plain": [
       "0.9548611"
      ]
     },
     "execution_count": 23,
     "metadata": {},
     "output_type": "execute_result"
    }
   ],
   "source": [
    "results.history['val_accuracy'][-1]"
   ]
  },
  {
   "cell_type": "markdown",
   "metadata": {},
   "source": [
    "## Connecting with `sklearn`\n",
    "\n",
    "The `keras.wrappers` submodule means that we can turn `keras` models into estimators that `sklearn` tools will recognize."
   ]
  },
  {
   "cell_type": "code",
   "execution_count": 24,
   "metadata": {},
   "outputs": [
    {
     "ename": "TypeError",
     "evalue": "If no scoring is specified, the estimator passed should have a 'score' method. The estimator <tensorflow.python.keras.engine.sequential.Sequential object at 0x7fb3afc5c6d0> does not.",
     "output_type": "error",
     "traceback": [
      "\u001b[0;31m---------------------------------------------------------------------------\u001b[0m",
      "\u001b[0;31mTypeError\u001b[0m                                 Traceback (most recent call last)",
      "\u001b[0;32m/var/folders/sx/_q90n3xj1cgbb1hqyntrb90w0000gp/T/ipykernel_12767/1197616762.py\u001b[0m in \u001b[0;36m<module>\u001b[0;34m\u001b[0m\n\u001b[1;32m      1\u001b[0m \u001b[0;31m# This will throw an error.\u001b[0m\u001b[0;34m\u001b[0m\u001b[0;34m\u001b[0m\u001b[0;34m\u001b[0m\u001b[0m\n\u001b[1;32m      2\u001b[0m \u001b[0;34m\u001b[0m\u001b[0m\n\u001b[0;32m----> 3\u001b[0;31m \u001b[0mcross_val_score\u001b[0m\u001b[0;34m(\u001b[0m\u001b[0mmodel\u001b[0m\u001b[0;34m,\u001b[0m \u001b[0mX_pure_train\u001b[0m\u001b[0;34m,\u001b[0m \u001b[0my_pure_train\u001b[0m\u001b[0;34m)\u001b[0m\u001b[0;34m\u001b[0m\u001b[0;34m\u001b[0m\u001b[0m\n\u001b[0m",
      "\u001b[0;32m~/opt/anaconda3/envs/tensor_lecture/lib/python3.7/site-packages/sklearn/model_selection/_validation.py\u001b[0m in \u001b[0;36mcross_val_score\u001b[0;34m(estimator, X, y, groups, scoring, cv, n_jobs, verbose, fit_params, pre_dispatch, error_score)\u001b[0m\n\u001b[1;32m    505\u001b[0m     \"\"\"\n\u001b[1;32m    506\u001b[0m     \u001b[0;31m# To ensure multimetric format is not supported\u001b[0m\u001b[0;34m\u001b[0m\u001b[0;34m\u001b[0m\u001b[0;34m\u001b[0m\u001b[0m\n\u001b[0;32m--> 507\u001b[0;31m     \u001b[0mscorer\u001b[0m \u001b[0;34m=\u001b[0m \u001b[0mcheck_scoring\u001b[0m\u001b[0;34m(\u001b[0m\u001b[0mestimator\u001b[0m\u001b[0;34m,\u001b[0m \u001b[0mscoring\u001b[0m\u001b[0;34m=\u001b[0m\u001b[0mscoring\u001b[0m\u001b[0;34m)\u001b[0m\u001b[0;34m\u001b[0m\u001b[0;34m\u001b[0m\u001b[0m\n\u001b[0m\u001b[1;32m    508\u001b[0m \u001b[0;34m\u001b[0m\u001b[0m\n\u001b[1;32m    509\u001b[0m     cv_results = cross_validate(\n",
      "\u001b[0;32m~/opt/anaconda3/envs/tensor_lecture/lib/python3.7/site-packages/sklearn/metrics/_scorer.py\u001b[0m in \u001b[0;36mcheck_scoring\u001b[0;34m(estimator, scoring, allow_none)\u001b[0m\n\u001b[1;32m    477\u001b[0m             raise TypeError(\n\u001b[1;32m    478\u001b[0m                 \u001b[0;34m\"If no scoring is specified, the estimator passed should \"\u001b[0m\u001b[0;34m\u001b[0m\u001b[0;34m\u001b[0m\u001b[0m\n\u001b[0;32m--> 479\u001b[0;31m                 \u001b[0;34m\"have a 'score' method. The estimator %r does not.\"\u001b[0m \u001b[0;34m%\u001b[0m \u001b[0mestimator\u001b[0m\u001b[0;34m\u001b[0m\u001b[0;34m\u001b[0m\u001b[0m\n\u001b[0m\u001b[1;32m    480\u001b[0m             )\n\u001b[1;32m    481\u001b[0m     \u001b[0;32melif\u001b[0m \u001b[0misinstance\u001b[0m\u001b[0;34m(\u001b[0m\u001b[0mscoring\u001b[0m\u001b[0;34m,\u001b[0m \u001b[0mIterable\u001b[0m\u001b[0;34m)\u001b[0m\u001b[0;34m:\u001b[0m\u001b[0;34m\u001b[0m\u001b[0;34m\u001b[0m\u001b[0m\n",
      "\u001b[0;31mTypeError\u001b[0m: If no scoring is specified, the estimator passed should have a 'score' method. The estimator <tensorflow.python.keras.engine.sequential.Sequential object at 0x7fb3afc5c6d0> does not."
     ]
    }
   ],
   "source": [
    "# This will throw an error.\n",
    "\n",
    "cross_val_score(model, X_pure_train, y_pure_train)"
   ]
  },
  {
   "cell_type": "code",
   "execution_count": 29,
   "metadata": {},
   "outputs": [],
   "source": [
    "#Set up our build function\n",
    "def build_model():\n",
    "    model=Sequential()\n",
    "    model.add(Dense(12, activation='relu', input_dim=64))\n",
    "    model.add(Dense(8, activation='relu'))\n",
    "    model.add(Dense(4, activation='relu'))\n",
    "    model.add(Dense(1, activation='sigmoid'))\n",
    "    \n",
    "    model.compile(optimizer='adam', loss='binary_crossentropy', metrics=['accuracy'])\n",
    "    \n",
    "    return model"
   ]
  },
  {
   "cell_type": "code",
   "execution_count": 30,
   "metadata": {},
   "outputs": [],
   "source": [
    "#Set up an estimator our sklearn tools can recognize\n",
    "keras_model = scikit_learn.KerasClassifier(build_model, epochs=30, batch_size=32, verbose=2)"
   ]
  },
  {
   "cell_type": "code",
   "execution_count": 31,
   "metadata": {},
   "outputs": [
    {
     "data": {
      "text/plain": [
       "tensorflow.python.keras.wrappers.scikit_learn.KerasClassifier"
      ]
     },
     "execution_count": 31,
     "metadata": {},
     "output_type": "execute_result"
    }
   ],
   "source": [
    "type(keras_model)"
   ]
  },
  {
   "cell_type": "code",
   "execution_count": 32,
   "metadata": {},
   "outputs": [
    {
     "name": "stdout",
     "output_type": "stream",
     "text": [
      "Train on 919 samples\n",
      "Epoch 1/30\n",
      "919/919 - 0s - loss: 0.6932 - accuracy: 0.4494\n",
      "Epoch 2/30\n",
      "919/919 - 0s - loss: 0.6791 - accuracy: 0.6094\n",
      "Epoch 3/30\n",
      "919/919 - 0s - loss: 0.6415 - accuracy: 0.6670\n",
      "Epoch 4/30\n",
      "919/919 - 0s - loss: 0.6010 - accuracy: 0.7095\n",
      "Epoch 5/30\n",
      "919/919 - 0s - loss: 0.5673 - accuracy: 0.7378\n",
      "Epoch 6/30\n",
      "919/919 - 0s - loss: 0.5343 - accuracy: 0.7933\n",
      "Epoch 7/30\n",
      "919/919 - 0s - loss: 0.5086 - accuracy: 0.8194\n",
      "Epoch 8/30\n",
      "919/919 - 0s - loss: 0.4889 - accuracy: 0.8281\n",
      "Epoch 9/30\n",
      "919/919 - 0s - loss: 0.4711 - accuracy: 0.8509\n",
      "Epoch 10/30\n",
      "919/919 - 0s - loss: 0.4519 - accuracy: 0.8662\n",
      "Epoch 11/30\n",
      "919/919 - 0s - loss: 0.4326 - accuracy: 0.8803\n",
      "Epoch 12/30\n",
      "919/919 - 0s - loss: 0.4142 - accuracy: 0.8955\n",
      "Epoch 13/30\n",
      "919/919 - 0s - loss: 0.3955 - accuracy: 0.9053\n",
      "Epoch 14/30\n",
      "919/919 - 0s - loss: 0.3836 - accuracy: 0.9173\n",
      "Epoch 15/30\n",
      "919/919 - 0s - loss: 0.3663 - accuracy: 0.9227\n",
      "Epoch 16/30\n",
      "919/919 - 0s - loss: 0.3574 - accuracy: 0.9325\n",
      "Epoch 17/30\n",
      "919/919 - 0s - loss: 0.3416 - accuracy: 0.9412\n",
      "Epoch 18/30\n",
      "919/919 - 0s - loss: 0.3288 - accuracy: 0.9336\n",
      "Epoch 19/30\n",
      "919/919 - 0s - loss: 0.3189 - accuracy: 0.9456\n",
      "Epoch 20/30\n",
      "919/919 - 0s - loss: 0.3084 - accuracy: 0.9434\n",
      "Epoch 21/30\n",
      "919/919 - 0s - loss: 0.3020 - accuracy: 0.9489\n",
      "Epoch 22/30\n",
      "919/919 - 0s - loss: 0.2931 - accuracy: 0.9499\n",
      "Epoch 23/30\n",
      "919/919 - 0s - loss: 0.2838 - accuracy: 0.9608\n",
      "Epoch 24/30\n",
      "919/919 - 0s - loss: 0.2764 - accuracy: 0.9608\n",
      "Epoch 25/30\n",
      "919/919 - 0s - loss: 0.2670 - accuracy: 0.9630\n",
      "Epoch 26/30\n",
      "919/919 - 0s - loss: 0.2613 - accuracy: 0.9641\n",
      "Epoch 27/30\n",
      "919/919 - 0s - loss: 0.2548 - accuracy: 0.9630\n",
      "Epoch 28/30\n",
      "919/919 - 0s - loss: 0.2467 - accuracy: 0.9728\n",
      "Epoch 29/30\n",
      "919/919 - 0s - loss: 0.2425 - accuracy: 0.9663\n",
      "Epoch 30/30\n",
      "919/919 - 0s - loss: 0.2353 - accuracy: 0.9739\n",
      "230/1 - 0s - loss: 0.1910 - accuracy: 0.9565\n",
      "Train on 919 samples\n",
      "Epoch 1/30\n",
      "919/919 - 0s - loss: 0.6778 - accuracy: 0.5745\n",
      "Epoch 2/30\n",
      "919/919 - 0s - loss: 0.6307 - accuracy: 0.6507\n",
      "Epoch 3/30\n",
      "919/919 - 0s - loss: 0.5811 - accuracy: 0.7617\n",
      "Epoch 4/30\n",
      "919/919 - 0s - loss: 0.5313 - accuracy: 0.8194\n",
      "Epoch 5/30\n",
      "919/919 - 0s - loss: 0.4782 - accuracy: 0.8596\n",
      "Epoch 6/30\n",
      "919/919 - 0s - loss: 0.4263 - accuracy: 0.8934\n",
      "Epoch 7/30\n",
      "919/919 - 0s - loss: 0.3749 - accuracy: 0.8999\n",
      "Epoch 8/30\n",
      "919/919 - 0s - loss: 0.3236 - accuracy: 0.9053\n",
      "Epoch 9/30\n",
      "919/919 - 0s - loss: 0.2820 - accuracy: 0.9151\n",
      "Epoch 10/30\n",
      "919/919 - 0s - loss: 0.2506 - accuracy: 0.9173\n",
      "Epoch 11/30\n",
      "919/919 - 0s - loss: 0.2270 - accuracy: 0.9217\n",
      "Epoch 12/30\n",
      "919/919 - 0s - loss: 0.2073 - accuracy: 0.9325\n",
      "Epoch 13/30\n",
      "919/919 - 0s - loss: 0.1911 - accuracy: 0.9314\n",
      "Epoch 14/30\n",
      "919/919 - 0s - loss: 0.1733 - accuracy: 0.9423\n",
      "Epoch 15/30\n",
      "919/919 - 0s - loss: 0.1594 - accuracy: 0.9434\n",
      "Epoch 16/30\n",
      "919/919 - 0s - loss: 0.1480 - accuracy: 0.9478\n",
      "Epoch 17/30\n",
      "919/919 - 0s - loss: 0.1428 - accuracy: 0.9412\n",
      "Epoch 18/30\n",
      "919/919 - 0s - loss: 0.1263 - accuracy: 0.9543\n",
      "Epoch 19/30\n",
      "919/919 - 0s - loss: 0.1159 - accuracy: 0.9663\n",
      "Epoch 20/30\n",
      "919/919 - 0s - loss: 0.1086 - accuracy: 0.9641\n",
      "Epoch 21/30\n",
      "919/919 - 0s - loss: 0.1011 - accuracy: 0.9771\n",
      "Epoch 22/30\n",
      "919/919 - 0s - loss: 0.0965 - accuracy: 0.9761\n",
      "Epoch 23/30\n",
      "919/919 - 0s - loss: 0.0905 - accuracy: 0.9771\n",
      "Epoch 24/30\n",
      "919/919 - 0s - loss: 0.0858 - accuracy: 0.9728\n",
      "Epoch 25/30\n",
      "919/919 - 0s - loss: 0.0830 - accuracy: 0.9761\n",
      "Epoch 26/30\n",
      "919/919 - 0s - loss: 0.0773 - accuracy: 0.9782\n",
      "Epoch 27/30\n",
      "919/919 - 0s - loss: 0.0736 - accuracy: 0.9793\n",
      "Epoch 28/30\n",
      "919/919 - 0s - loss: 0.0702 - accuracy: 0.9793\n",
      "Epoch 29/30\n",
      "919/919 - 0s - loss: 0.0679 - accuracy: 0.9815\n",
      "Epoch 30/30\n",
      "919/919 - 0s - loss: 0.0653 - accuracy: 0.9815\n",
      "230/1 - 0s - loss: 0.0673 - accuracy: 0.9565\n",
      "Train on 919 samples\n",
      "Epoch 1/30\n",
      "919/919 - 0s - loss: 0.6623 - accuracy: 0.5539\n",
      "Epoch 2/30\n",
      "919/919 - 0s - loss: 0.5916 - accuracy: 0.7116\n",
      "Epoch 3/30\n",
      "919/919 - 0s - loss: 0.5279 - accuracy: 0.7889\n",
      "Epoch 4/30\n",
      "919/919 - 0s - loss: 0.4662 - accuracy: 0.8205\n",
      "Epoch 5/30\n",
      "919/919 - 0s - loss: 0.4059 - accuracy: 0.8433\n",
      "Epoch 6/30\n",
      "919/919 - 0s - loss: 0.3509 - accuracy: 0.8662\n",
      "Epoch 7/30\n",
      "919/919 - 0s - loss: 0.3074 - accuracy: 0.8792\n",
      "Epoch 8/30\n",
      "919/919 - 0s - loss: 0.2706 - accuracy: 0.8977\n",
      "Epoch 9/30\n",
      "919/919 - 0s - loss: 0.2398 - accuracy: 0.9075\n",
      "Epoch 10/30\n",
      "919/919 - 0s - loss: 0.2175 - accuracy: 0.9195\n",
      "Epoch 11/30\n",
      "919/919 - 0s - loss: 0.1990 - accuracy: 0.9282\n",
      "Epoch 12/30\n",
      "919/919 - 0s - loss: 0.1848 - accuracy: 0.9336\n",
      "Epoch 13/30\n",
      "919/919 - 0s - loss: 0.1684 - accuracy: 0.9434\n",
      "Epoch 14/30\n",
      "919/919 - 0s - loss: 0.1592 - accuracy: 0.9445\n",
      "Epoch 15/30\n",
      "919/919 - 0s - loss: 0.1506 - accuracy: 0.9467\n",
      "Epoch 16/30\n",
      "919/919 - 0s - loss: 0.1397 - accuracy: 0.9489\n",
      "Epoch 17/30\n",
      "919/919 - 0s - loss: 0.1312 - accuracy: 0.9543\n",
      "Epoch 18/30\n",
      "919/919 - 0s - loss: 0.1259 - accuracy: 0.9576\n",
      "Epoch 19/30\n",
      "919/919 - 0s - loss: 0.1198 - accuracy: 0.9576\n",
      "Epoch 20/30\n",
      "919/919 - 0s - loss: 0.1133 - accuracy: 0.9641\n",
      "Epoch 21/30\n",
      "919/919 - 0s - loss: 0.1095 - accuracy: 0.9630\n",
      "Epoch 22/30\n",
      "919/919 - 0s - loss: 0.1061 - accuracy: 0.9619\n",
      "Epoch 23/30\n",
      "919/919 - 0s - loss: 0.1006 - accuracy: 0.9663\n",
      "Epoch 24/30\n",
      "919/919 - 0s - loss: 0.0950 - accuracy: 0.9674\n",
      "Epoch 25/30\n",
      "919/919 - 0s - loss: 0.0910 - accuracy: 0.9728\n",
      "Epoch 26/30\n",
      "919/919 - 0s - loss: 0.0874 - accuracy: 0.9695\n",
      "Epoch 27/30\n",
      "919/919 - 0s - loss: 0.0840 - accuracy: 0.9717\n",
      "Epoch 28/30\n",
      "919/919 - 0s - loss: 0.0808 - accuracy: 0.9761\n",
      "Epoch 29/30\n",
      "919/919 - 0s - loss: 0.0768 - accuracy: 0.9761\n",
      "Epoch 30/30\n",
      "919/919 - 0s - loss: 0.0751 - accuracy: 0.9761\n",
      "230/1 - 0s - loss: 0.0461 - accuracy: 0.9739\n",
      "Train on 919 samples\n",
      "Epoch 1/30\n",
      "919/919 - 0s - loss: 0.6773 - accuracy: 0.5854\n",
      "Epoch 2/30\n",
      "919/919 - 0s - loss: 0.6409 - accuracy: 0.6834\n",
      "Epoch 3/30\n",
      "919/919 - 0s - loss: 0.5727 - accuracy: 0.7813\n",
      "Epoch 4/30\n",
      "919/919 - 0s - loss: 0.4813 - accuracy: 0.8139\n",
      "Epoch 5/30\n",
      "919/919 - 0s - loss: 0.4025 - accuracy: 0.8455\n",
      "Epoch 6/30\n",
      "919/919 - 0s - loss: 0.3487 - accuracy: 0.8683\n",
      "Epoch 7/30\n",
      "919/919 - 0s - loss: 0.3073 - accuracy: 0.8879\n",
      "Epoch 8/30\n",
      "919/919 - 0s - loss: 0.2799 - accuracy: 0.8814\n",
      "Epoch 9/30\n",
      "919/919 - 0s - loss: 0.2508 - accuracy: 0.9021\n",
      "Epoch 10/30\n",
      "919/919 - 0s - loss: 0.2316 - accuracy: 0.9042\n",
      "Epoch 11/30\n",
      "919/919 - 0s - loss: 0.2188 - accuracy: 0.9086\n",
      "Epoch 12/30\n",
      "919/919 - 0s - loss: 0.1949 - accuracy: 0.9249\n",
      "Epoch 13/30\n",
      "919/919 - 0s - loss: 0.1800 - accuracy: 0.9249\n",
      "Epoch 14/30\n",
      "919/919 - 0s - loss: 0.1652 - accuracy: 0.9271\n",
      "Epoch 15/30\n",
      "919/919 - 0s - loss: 0.1536 - accuracy: 0.9336\n",
      "Epoch 16/30\n",
      "919/919 - 0s - loss: 0.1424 - accuracy: 0.9402\n",
      "Epoch 17/30\n",
      "919/919 - 0s - loss: 0.1365 - accuracy: 0.9478\n",
      "Epoch 18/30\n",
      "919/919 - 0s - loss: 0.1306 - accuracy: 0.9456\n",
      "Epoch 19/30\n",
      "919/919 - 0s - loss: 0.1173 - accuracy: 0.9510\n",
      "Epoch 20/30\n",
      "919/919 - 0s - loss: 0.1134 - accuracy: 0.9499\n",
      "Epoch 21/30\n",
      "919/919 - 0s - loss: 0.1063 - accuracy: 0.9619\n",
      "Epoch 22/30\n",
      "919/919 - 0s - loss: 0.1036 - accuracy: 0.9619\n",
      "Epoch 23/30\n",
      "919/919 - 0s - loss: 0.0936 - accuracy: 0.9652\n",
      "Epoch 24/30\n",
      "919/919 - 0s - loss: 0.0896 - accuracy: 0.9674\n",
      "Epoch 25/30\n",
      "919/919 - 0s - loss: 0.0864 - accuracy: 0.9706\n",
      "Epoch 26/30\n",
      "919/919 - 0s - loss: 0.0793 - accuracy: 0.9706\n",
      "Epoch 27/30\n",
      "919/919 - 0s - loss: 0.0752 - accuracy: 0.9739\n",
      "Epoch 28/30\n",
      "919/919 - 0s - loss: 0.0723 - accuracy: 0.9771\n",
      "Epoch 29/30\n",
      "919/919 - 0s - loss: 0.0711 - accuracy: 0.9739\n",
      "Epoch 30/30\n",
      "919/919 - 0s - loss: 0.0640 - accuracy: 0.9793\n",
      "230/1 - 0s - loss: 0.0689 - accuracy: 0.9609\n",
      "Train on 920 samples\n",
      "Epoch 1/30\n",
      "920/920 - 1s - loss: 0.6795 - accuracy: 0.5141\n",
      "Epoch 2/30\n",
      "920/920 - 0s - loss: 0.6534 - accuracy: 0.5533\n",
      "Epoch 3/30\n",
      "920/920 - 0s - loss: 0.6212 - accuracy: 0.6630\n",
      "Epoch 4/30\n",
      "920/920 - 0s - loss: 0.5793 - accuracy: 0.7359\n",
      "Epoch 5/30\n",
      "920/920 - 0s - loss: 0.5274 - accuracy: 0.8130\n",
      "Epoch 6/30\n",
      "920/920 - 0s - loss: 0.4647 - accuracy: 0.8511\n",
      "Epoch 7/30\n",
      "920/920 - 0s - loss: 0.3975 - accuracy: 0.8826\n",
      "Epoch 8/30\n",
      "920/920 - 0s - loss: 0.3305 - accuracy: 0.8935\n",
      "Epoch 9/30\n",
      "920/920 - 0s - loss: 0.2682 - accuracy: 0.9054\n",
      "Epoch 10/30\n",
      "920/920 - 0s - loss: 0.2273 - accuracy: 0.9120\n",
      "Epoch 11/30\n",
      "920/920 - 0s - loss: 0.1988 - accuracy: 0.9185\n",
      "Epoch 12/30\n",
      "920/920 - 0s - loss: 0.1835 - accuracy: 0.9207\n",
      "Epoch 13/30\n",
      "920/920 - 0s - loss: 0.1696 - accuracy: 0.9283\n",
      "Epoch 14/30\n",
      "920/920 - 0s - loss: 0.1588 - accuracy: 0.9293\n",
      "Epoch 15/30\n",
      "920/920 - 0s - loss: 0.1510 - accuracy: 0.9337\n"
     ]
    },
    {
     "name": "stdout",
     "output_type": "stream",
     "text": [
      "Epoch 16/30\n",
      "920/920 - 0s - loss: 0.1452 - accuracy: 0.9424\n",
      "Epoch 17/30\n",
      "920/920 - 0s - loss: 0.1395 - accuracy: 0.9402\n",
      "Epoch 18/30\n",
      "920/920 - 0s - loss: 0.1330 - accuracy: 0.9446\n",
      "Epoch 19/30\n",
      "920/920 - 0s - loss: 0.1323 - accuracy: 0.9467\n",
      "Epoch 20/30\n",
      "920/920 - 0s - loss: 0.1258 - accuracy: 0.9489\n",
      "Epoch 21/30\n",
      "920/920 - 0s - loss: 0.1236 - accuracy: 0.9457\n",
      "Epoch 22/30\n",
      "920/920 - 0s - loss: 0.1181 - accuracy: 0.9543\n",
      "Epoch 23/30\n",
      "920/920 - 0s - loss: 0.1215 - accuracy: 0.9554\n",
      "Epoch 24/30\n",
      "920/920 - 0s - loss: 0.1125 - accuracy: 0.9554\n",
      "Epoch 25/30\n",
      "920/920 - 0s - loss: 0.1073 - accuracy: 0.9554\n",
      "Epoch 26/30\n",
      "920/920 - 0s - loss: 0.1095 - accuracy: 0.9543\n",
      "Epoch 27/30\n",
      "920/920 - 0s - loss: 0.1037 - accuracy: 0.9565\n",
      "Epoch 28/30\n",
      "920/920 - 0s - loss: 0.1061 - accuracy: 0.9609\n",
      "Epoch 29/30\n",
      "920/920 - 0s - loss: 0.1005 - accuracy: 0.9630\n",
      "Epoch 30/30\n",
      "920/920 - 0s - loss: 0.0948 - accuracy: 0.9609\n",
      "229/1 - 0s - loss: 0.2523 - accuracy: 0.8996\n"
     ]
    },
    {
     "data": {
      "text/plain": [
       "array([0.95652175, 0.95652175, 0.97391301, 0.96086955, 0.89956331])"
      ]
     },
     "execution_count": 32,
     "metadata": {},
     "output_type": "execute_result"
    }
   ],
   "source": [
    "cross_val_score(keras_model, X_pure_train, y_pure_train)"
   ]
  },
  {
   "cell_type": "markdown",
   "metadata": {},
   "source": [
    "## Regularization"
   ]
  },
  {
   "cell_type": "markdown",
   "metadata": {},
   "source": [
    "Does regularization make sense in the context of neural networks? <br/>\n",
    "\n",
    "Yes! We still have all of the salient ingredients: a loss function, overfitting vs. underfitting, and coefficients (weights) that could get too large.\n",
    "\n",
    "But there are now a few different flavors besides L1 and L2 regularization. (Note that L1 regularization is not common in the context of  neural networks.)\n",
    "\n",
    "We'll add a few more layers to give regularization a better chance of making a difference!"
   ]
  },
  {
   "cell_type": "markdown",
   "metadata": {},
   "source": [
    "Modify the below cell to add regularization to one layer"
   ]
  },
  {
   "cell_type": "code",
   "execution_count": 34,
   "metadata": {},
   "outputs": [
    {
     "ename": "SyntaxError",
     "evalue": "invalid syntax (899488428.py, line 13)",
     "output_type": "error",
     "traceback": [
      "\u001b[0;36m  File \u001b[0;32m\"/var/folders/sx/_q90n3xj1cgbb1hqyntrb90w0000gp/T/ipykernel_12767/899488428.py\"\u001b[0;36m, line \u001b[0;32m13\u001b[0m\n\u001b[0;31m    model.add(Dense(12, activation='relu'))\u001b[0m\n\u001b[0m        ^\u001b[0m\n\u001b[0;31mSyntaxError\u001b[0m\u001b[0;31m:\u001b[0m invalid syntax\n"
     ]
    }
   ],
   "source": [
    "model = Sequential()\n",
    "model.add(Dense(30, activation='relu', input_dim=64))\n",
    "\n",
    "# We can add L2 (or L1) regularization right into\n",
    "# the layer with the kernel_regularizer parameter.\n",
    "\n",
    "#Modify code here to add in regularization to this layer\n",
    "model.add(Dense(20, activation='relu', kernel_regularizer=l2(l=0.05))\n",
    "\n",
    "# Note that there is also a bias_regularizer,\n",
    "# but this tends to have less effect.\n",
    "\n",
    "model.add(Dense(12, activation='relu'))\n",
    "model.add(Dense(8, activation='relu'))\n",
    "model.add(Dense(4, activation='relu'))\n",
    "model.add(Dense(1, activation ='sigmoid'))\n",
    "\n",
    "model.compile(optimizer='adam',\n",
    "              loss='binary_crossentropy',\n",
    "              metrics=['accuracy'])\n",
    "\n",
    "results = model.fit(X_pure_train, y_pure_train, epochs=20, batch_size=32,\n",
    "                    verbose=0, validation_data=(X_val, y_val))\n",
    "\n",
    "train_loss = results.history['loss']\n",
    "train_acc = results.history['accuracy']\n",
    "val_loss = results.history['val_loss']\n",
    "val_acc = results.history['val_accuracy']\n",
    "\n",
    "\n",
    "fig, (ax1, ax2) = plt.subplots(1, 2, figsize=(10, 5))\n",
    "sns.lineplot(x=results.epoch, y=train_loss, ax=ax1, label='train_loss')\n",
    "sns.lineplot(x=results.epoch, y=train_acc, ax=ax2, label='train_accuracy')\n",
    "\n",
    "sns.lineplot(x=results.epoch, y=val_loss, ax=ax1, label='val_loss')\n",
    "sns.lineplot(x=results.epoch, y=val_acc, ax=ax2, label='val_accuracy');"
   ]
  },
  {
   "cell_type": "markdown",
   "metadata": {},
   "source": [
    "Adding L2 to multiple layers:"
   ]
  },
  {
   "cell_type": "code",
   "execution_count": 35,
   "metadata": {},
   "outputs": [
    {
     "data": {
      "image/png": "[encoded data removed]",
      "text/plain": [
       "<Figure size 720x360 with 2 Axes>"
      ]
     },
     "metadata": {
      "needs_background": "light"
     },
     "output_type": "display_data"
    }
   ],
   "source": [
    "model = Sequential()\n",
    "model.add(Dense(30, activation='relu',\n",
    "                input_dim=64))\n",
    "model.add(Dense(20, activation='relu',\n",
    "                kernel_regularizer=l2(l=0.01)))\n",
    "\n",
    "model.add(Dense(12, activation='relu',\n",
    "                kernel_regularizer=l2(l=0.01)))\n",
    "model.add(Dense(12, activation='relu',\n",
    "                kernel_regularizer=l2(l=0.01)))\n",
    "model.add(Dense(12, activation='relu',\n",
    "                kernel_regularizer=l2(l=0.01)))\n",
    "model.add(Dense(8, activation='relu',\n",
    "                kernel_regularizer=l2(l=0.01)))\n",
    "model.add(Dense(4, activation='relu',\n",
    "                kernel_regularizer=l2(l=0.01)))\n",
    "model.add(Dense(1, activation='sigmoid'))\n",
    "\n",
    "model.compile(optimizer='adam',\n",
    "              loss='binary_crossentropy',\n",
    "              metrics=['accuracy'])\n",
    "\n",
    "results = model.fit(X_pure_train, y_pure_train, epochs=20, batch_size=32,\n",
    "                    verbose=0, validation_data=(X_val, y_val))\n",
    "\n",
    "train_loss = results.history['loss']\n",
    "train_acc = results.history['accuracy']\n",
    "val_loss = results.history['val_loss']\n",
    "val_acc = results.history['val_accuracy']\n",
    "\n",
    "\n",
    "fig, (ax1, ax2) = plt.subplots(1, 2, figsize=(10, 5))\n",
    "sns.lineplot(x=results.epoch, y=train_loss, ax=ax1, label='train_loss')\n",
    "sns.lineplot(x=results.epoch, y=train_acc, ax=ax2, label='train_accuracy')\n",
    "\n",
    "sns.lineplot(x=results.epoch, y=val_loss, ax=ax1, label='val_loss')\n",
    "sns.lineplot(x=results.epoch, y=val_acc, ax=ax2, label='val_accuracy');"
   ]
  },
  {
   "cell_type": "markdown",
   "metadata": {},
   "source": [
    "### Dropout\n",
    "\n",
    "We can also specify a dropout layer in keras, which randomly shuts off different nodes during training. This can help to prevent overfitting.\n",
    "\n",
    "![drop_out](images/drop_out.png)"
   ]
  },
  {
   "cell_type": "markdown",
   "metadata": {},
   "source": [
    "### Exercise\n",
    "\n",
    "To add dropout to a `keras` network, simply add it as though it were a layer. It will apply to the immediately preceding layer.\n",
    "\n",
    "Add Dropout to one or more layers below."
   ]
  },
  {
   "cell_type": "code",
   "execution_count": 36,
   "metadata": {},
   "outputs": [
    {
     "data": {
      "image/png": "[encoded data removed]",
      "text/plain": [
       "<Figure size 720x360 with 2 Axes>"
      ]
     },
     "metadata": {
      "needs_background": "light"
     },
     "output_type": "display_data"
    }
   ],
   "source": [
    "#Adjust the code to add dropout\n",
    "\n",
    "model = Sequential()\n",
    "model.add(Dense(30, activation='relu', input_dim=64))\n",
    "model.add(Dense(20, activation='relu'))\n",
    "model.add(Dropout(.5))\n",
    "model.add(Dense(12, activation='relu'))\n",
    "model.add(Dense(12, activation='relu'))\n",
    "model.add(Dense(12, activation='relu'))\n",
    "model.add(Dropout(.2))\n",
    "model.add(Dense(8, activation='relu'))\n",
    "model.add(Dense(4, activation='relu'))\n",
    "model.add(Dense(1, activation ='sigmoid'))\n",
    "\n",
    "model.compile(optimizer='adam',\n",
    "              loss='binary_crossentropy',\n",
    "              metrics=['accuracy'])\n",
    "\n",
    "results = model.fit(X_pure_train, y_pure_train, epochs=50,\n",
    "                    batch_size= 32, verbose=0,\n",
    "                    validation_data=(X_val, y_val))\n",
    "\n",
    "train_loss = results.history['loss']\n",
    "train_acc = results.history['accuracy']\n",
    "val_loss = results.history['val_loss']\n",
    "val_acc = results.history['val_accuracy']\n",
    "\n",
    "\n",
    "fig, (ax1, ax2) = plt.subplots(1, 2, figsize=(10, 5))\n",
    "sns.lineplot(x=results.epoch, y=train_loss, ax=ax1, label='train_loss')\n",
    "sns.lineplot(x=results.epoch, y=train_acc, ax=ax2, label='train_accuracy')\n",
    "\n",
    "sns.lineplot(x=results.epoch, y=val_loss, ax=ax1, label='val_loss')\n",
    "sns.lineplot(x=results.epoch, y=val_acc, ax=ax2, label='val_accuracy');  "
   ]
  },
  {
   "cell_type": "markdown",
   "metadata": {},
   "source": [
    "<details>\n",
    "    <summary>One answer here</summary>\n",
    "<code>model = Sequential()\n",
    "model.add(Dense(30, activation='relu', input_dim=64))\n",
    "model.add(Dense(20, activation='relu'))\n",
    "model.add(Dropout(0.5))\n",
    "model.add(Dense(12, activation='relu'))\n",
    "model.add(Dropout(0.2))\n",
    "model.add(Dense(12, activation='relu'))\n",
    "model.add(Dense(12, activation='relu'))\n",
    "model.add(Dense(8, activation='relu'))\n",
    "model.add(Dense(4, activation='relu'))\n",
    "model.add(Dense(1, activation ='sigmoid'))\n",
    "\n",
    "model.compile(optimizer='adam',\n",
    "              loss='binary_crossentropy',\n",
    "              metrics=['accuracy'])\n",
    "\n",
    "results = model.fit(X_pure_train, y_pure_train, epochs=50,\n",
    "                    batch_size= 32, verbose=0,\n",
    "                    validation_data=(X_val, y_val))\n",
    "\n",
    "train_loss = results.history['loss']\n",
    "train_acc = results.history['accuracy']\n",
    "val_loss = results.history['val_loss']\n",
    "val_acc = results.history['val_accuracy']\n",
    "\n",
    "\n",
    "fig, (ax1, ax2) = plt.subplots(1, 2, figsize=(10, 5))\n",
    "sns.lineplot(x=results.epoch, y=train_loss, ax=ax1, label='train_loss')\n",
    "sns.lineplot(x=results.epoch, y=train_acc, ax=ax2, label='train_accuracy')\n",
    "\n",
    "sns.lineplot(x=results.epoch, y=val_loss, ax=ax1, label='val_loss')\n",
    "sns.lineplot(x=results.epoch, y=val_acc, ax=ax2, label='val_accuracy');</code>\n",
    "</details>"
   ]
  },
  {
   "cell_type": "code",
   "execution_count": 37,
   "metadata": {},
   "outputs": [
    {
     "data": {
      "text/plain": [
       "0.9895833"
      ]
     },
     "execution_count": 37,
     "metadata": {},
     "output_type": "execute_result"
    }
   ],
   "source": [
    "results.history['val_accuracy'][-1]"
   ]
  },
  {
   "cell_type": "markdown",
   "metadata": {},
   "source": [
    "### Early Stopping"
   ]
  },
  {
   "cell_type": "markdown",
   "metadata": {},
   "source": [
    "We can also tell our neural network to stop once it stops realizing any gain.\n",
    "\n",
    "Here we tell it to stop once a very small positive change in the validation loss occurs:"
   ]
  },
  {
   "cell_type": "code",
   "execution_count": 38,
   "metadata": {},
   "outputs": [
    {
     "name": "stdout",
     "output_type": "stream",
     "text": [
      "Epoch 00011: early stopping\n"
     ]
    },
    {
     "data": {
      "image/png": "[encoded data removed]",
      "text/plain": [
       "<Figure size 720x360 with 2 Axes>"
      ]
     },
     "metadata": {
      "needs_background": "light"
     },
     "output_type": "display_data"
    }
   ],
   "source": [
    "model = Sequential()\n",
    "model.add(Dense(30, activation='relu', input_dim=64))\n",
    "model.add(Dense(20, activation='relu'))\n",
    "model.add(Dropout(0.5))\n",
    "model.add(Dense(12, activation='relu'))\n",
    "model.add(Dense(12, activation='relu'))\n",
    "model.add(Dense(12, activation='relu'))\n",
    "model.add(Dense(8, activation='relu'))\n",
    "model.add(Dense(4, activation='relu'))\n",
    "model.add(Dense(1, activation ='sigmoid'))\n",
    "\n",
    "model.compile(optimizer='adam',\n",
    "              loss='binary_crossentropy',\n",
    "              metrics=['accuracy'])\n",
    "\n",
    "# Define the EarlyStopping object\n",
    "early_stop = EarlyStopping(monitor='val_loss', min_delta=1e-8,\n",
    "                           verbose=1,\n",
    "                           mode='min')\n",
    "\n",
    "# Place this in a list as the value of the `callbacks` parameter\n",
    "# in the `.fit()` method.\n",
    "results = model.fit(X_pure_train, y_pure_train,\n",
    "                    epochs=20, batch_size=32,\n",
    "                    verbose=0, validation_data=(X_val, y_val),\n",
    "                    callbacks=[early_stop])\n",
    "\n",
    "train_loss = results.history['loss']\n",
    "train_acc = results.history['accuracy']\n",
    "val_loss = results.history['val_loss']\n",
    "val_acc = results.history['val_accuracy']\n",
    "\n",
    "\n",
    "fig, (ax1, ax2) = plt.subplots(1, 2, figsize=(10, 5))\n",
    "sns.lineplot(x=results.epoch, y=train_loss, ax=ax1, label='train_loss')\n",
    "sns.lineplot(x=results.epoch, y=train_acc, ax=ax2, label='train_accuracy')\n",
    "\n",
    "sns.lineplot(x=results.epoch, y=val_loss, ax=ax1, label='val_loss')\n",
    "sns.lineplot(x=results.epoch, y=val_acc, ax=ax2, label='val_accuracy');"
   ]
  },
  {
   "cell_type": "markdown",
   "metadata": {},
   "source": [
    "### Exercise\n",
    "\n",
    "That probably stopped too early. We can specify the number of epochs in which it doesn't see decrease in the loss with the `patience` parameter. Modify the code below to include an Early Stop with a patience of 5 epochs."
   ]
  },
  {
   "cell_type": "code",
   "execution_count": 40,
   "metadata": {},
   "outputs": [
    {
     "name": "stdout",
     "output_type": "stream",
     "text": [
      "Epoch 00044: early stopping\n"
     ]
    },
    {
     "data": {
      "image/png": "[encoded data removed]",
      "text/plain": [
       "<Figure size 720x360 with 2 Axes>"
      ]
     },
     "metadata": {
      "needs_background": "light"
     },
     "output_type": "display_data"
    }
   ],
   "source": [
    "#Modify the code to include an Early stop with a patience of 5 epochs\n",
    "\n",
    "model = Sequential()\n",
    "model.add(Dense(30, activation='relu', input_dim=64))\n",
    "model.add(Dense(20, activation='relu'))\n",
    "model.add(Dropout(0.5))\n",
    "model.add(Dense(12, activation='relu'))\n",
    "model.add(Dense(12, activation='relu'))\n",
    "model.add(Dense(12, activation='relu'))\n",
    "model.add(Dense(8, activation='relu'))\n",
    "model.add(Dense(4, activation='relu'))\n",
    "model.add(Dense(1, activation ='sigmoid'))\n",
    "\n",
    "model.compile(optimizer='adam',\n",
    "              loss='binary_crossentropy',\n",
    "              metrics=['accuracy'])\n",
    "\n",
    "# Define the EarlyStopping object\n",
    "early_stop = EarlyStopping(monitor='val_loss', min_delta=1e-8,\n",
    "                           verbose=1,\n",
    "                           mode='min', patience=5)\n",
    "\n",
    "# Place this in a list as the value of the `callbacks` parameter\n",
    "# in the `.fit()` method.\n",
    "results = model.fit(X_pure_train, y_pure_train,\n",
    "                    epochs=50, batch_size= 32,\n",
    "                    verbose=0, validation_data=(X_val, y_val), \n",
    "                    callbacks=[early_stop])\n",
    "\n",
    "train_loss = results.history['loss']\n",
    "train_acc = results.history['accuracy']\n",
    "val_loss = results.history['val_loss']\n",
    "val_acc = results.history['val_accuracy']\n",
    "\n",
    "\n",
    "fig, (ax1, ax2) = plt.subplots(1, 2, figsize=(10, 5))\n",
    "sns.lineplot(x=results.epoch, y=train_loss, ax=ax1, label='train_loss')\n",
    "sns.lineplot(x=results.epoch, y=train_acc, ax=ax2, label='train_accuracy')\n",
    "\n",
    "sns.lineplot(x=results.epoch, y=val_loss, ax=ax1, label='val_loss')\n",
    "sns.lineplot(x=results.epoch, y=val_acc, ax=ax2, label='val_accuracy');"
   ]
  },
  {
   "cell_type": "markdown",
   "metadata": {},
   "source": [
    "<details>\n",
    "    <summary>One answer here</summary>\n",
    "<code>model = Sequential()\n",
    "model.add(Dense(30, activation='relu', input_dim=64))\n",
    "model.add(Dense(20, activation='relu'))\n",
    "model.add(Dropout(0.5))\n",
    "model.add(Dense(12, activation='relu'))\n",
    "model.add(Dense(12, activation='relu'))\n",
    "model.add(Dense(12, activation='relu'))\n",
    "model.add(Dense(8, activation='relu'))\n",
    "model.add(Dense(4, activation='relu'))\n",
    "model.add(Dense(1, activation ='sigmoid'))\n",
    "model.compile(optimizer='adam',\n",
    "              loss='binary_crossentropy',\n",
    "              metrics=['accuracy'])\n",
    "early_stop = EarlyStopping(monitor='val_loss', min_delta=1e-8,\n",
    "                           verbose=1, patience=5,\n",
    "                           mode='min')   \n",
    "results = model.fit(X_pure_train, y_pure_train,\n",
    "                    epochs=50, batch_size= 32,\n",
    "                    verbose=0, validation_data=(X_val, y_val),\n",
    "                    callbacks=[early_stop])\n",
    "train_loss = results.history['loss']\n",
    "train_acc = results.history['accuracy']\n",
    "val_loss = results.history['val_loss']\n",
    "val_acc = results.history['val_accuracy']\n",
    "\n",
    "\n",
    "fig, (ax1, ax2) = plt.subplots(1, 2, figsize=(10, 5))\n",
    "sns.lineplot(x=results.epoch, y=train_loss, ax=ax1, label='train_loss')\n",
    "sns.lineplot(x=results.epoch, y=train_acc, ax=ax2, label='train_accuracy')\n",
    "\n",
    "sns.lineplot(x=results.epoch, y=val_loss, ax=ax1, label='val_loss')\n",
    "sns.lineplot(x=results.epoch, y=val_acc, ax=ax2, label='val_accuracy');</code>\n",
    "</details>"
   ]
  },
  {
   "cell_type": "code",
   "execution_count": 41,
   "metadata": {},
   "outputs": [
    {
     "data": {
      "text/plain": [
       "0.9756944"
      ]
     },
     "execution_count": 41,
     "metadata": {},
     "output_type": "execute_result"
    }
   ],
   "source": [
    "results.history['val_accuracy'][-1]"
   ]
  },
  {
   "cell_type": "markdown",
   "metadata": {},
   "source": [
    "## Multiclass Classification and Softmax"
   ]
  },
  {
   "cell_type": "markdown",
   "metadata": {},
   "source": [
    "Now let's return to the problem of predicting digits 0 through 9."
   ]
  },
  {
   "cell_type": "code",
   "execution_count": 42,
   "metadata": {},
   "outputs": [],
   "source": [
    "digits = load_digits()\n",
    "X = digits.data\n",
    "y = digits.target"
   ]
  },
  {
   "cell_type": "code",
   "execution_count": 43,
   "metadata": {},
   "outputs": [],
   "source": [
    "X_train, X_test, y_train, y_test = train_test_split(X, y,\n",
    "                                                    random_state=42,\n",
    "                                                    test_size=0.2)\n",
    "X_pure_train, X_val, y_pure_train, y_val =\\\n",
    "    train_test_split(X_train, y_train,\n",
    "                     random_state=42, test_size=0.2)\n",
    "X_pure_train, X_val, X_test = X_pure_train/16, X_val/16, X_test/16"
   ]
  },
  {
   "cell_type": "markdown",
   "metadata": {},
   "source": [
    "For a multiclass output, our neural net expects our target to be in a certain form."
   ]
  },
  {
   "cell_type": "code",
   "execution_count": 44,
   "metadata": {},
   "outputs": [
    {
     "data": {
      "text/plain": [
       "array([8, 7, 4, ..., 1, 2, 8])"
      ]
     },
     "execution_count": 44,
     "metadata": {},
     "output_type": "execute_result"
    }
   ],
   "source": [
    "y_pure_train"
   ]
  },
  {
   "cell_type": "code",
   "execution_count": 45,
   "metadata": {
    "scrolled": true
   },
   "outputs": [
    {
     "data": {
      "text/plain": [
       "array([[8],\n",
       "       [7],\n",
       "       [4],\n",
       "       ...,\n",
       "       [1],\n",
       "       [2],\n",
       "       [8]])"
      ]
     },
     "execution_count": 45,
     "metadata": {},
     "output_type": "execute_result"
    }
   ],
   "source": [
    "y_pure_train.reshape(-1,1)"
   ]
  },
  {
   "cell_type": "code",
   "execution_count": 50,
   "metadata": {},
   "outputs": [],
   "source": [
    "#(-1, 1): “however many rows it takes to have just 1 column”"
   ]
  },
  {
   "cell_type": "code",
   "execution_count": 46,
   "metadata": {},
   "outputs": [
    {
     "data": {
      "text/plain": [
       "(1149,)"
      ]
     },
     "execution_count": 46,
     "metadata": {},
     "output_type": "execute_result"
    }
   ],
   "source": [
    "y_pure_train.shape"
   ]
  },
  {
   "cell_type": "code",
   "execution_count": 47,
   "metadata": {},
   "outputs": [
    {
     "data": {
      "text/plain": [
       "(1149, 1)"
      ]
     },
     "execution_count": 47,
     "metadata": {},
     "output_type": "execute_result"
    }
   ],
   "source": [
    "y_pure_train.reshape(-1,1).shape"
   ]
  },
  {
   "cell_type": "code",
   "execution_count": 48,
   "metadata": {},
   "outputs": [],
   "source": [
    "ohe = OneHotEncoder(sparse=False)\n",
    "y_pure_train = ohe.fit_transform(y_pure_train.reshape(-1,1))\n",
    "y_val = ohe.transform(y_val.reshape(-1,1))\n",
    "y_test = ohe.transform(y_test.reshape(-1,1))"
   ]
  },
  {
   "cell_type": "code",
   "execution_count": 49,
   "metadata": {},
   "outputs": [
    {
     "name": "stdout",
     "output_type": "stream",
     "text": [
      "Train on 1149 samples, validate on 288 samples\n",
      "Epoch 1/50\n",
      "1149/1149 [==============================] - 1s 605us/sample - loss: 2.2259 - accuracy: 0.1662 - val_loss: 2.1370 - val_accuracy: 0.1979\n",
      "Epoch 2/50\n",
      "1149/1149 [==============================] - 0s 137us/sample - loss: 2.0068 - accuracy: 0.2916 - val_loss: 1.8971 - val_accuracy: 0.3542\n",
      "Epoch 3/50\n",
      "1149/1149 [==============================] - 0s 145us/sample - loss: 1.6908 - accuracy: 0.4508 - val_loss: 1.5373 - val_accuracy: 0.5069\n",
      "Epoch 4/50\n",
      "1149/1149 [==============================] - 0s 133us/sample - loss: 1.3495 - accuracy: 0.5770 - val_loss: 1.2157 - val_accuracy: 0.6458\n",
      "Epoch 5/50\n",
      "1149/1149 [==============================] - 0s 137us/sample - loss: 1.0728 - accuracy: 0.7076 - val_loss: 0.9887 - val_accuracy: 0.7431\n",
      "Epoch 6/50\n",
      "1149/1149 [==============================] - 0s 142us/sample - loss: 0.8739 - accuracy: 0.7911 - val_loss: 0.8006 - val_accuracy: 0.8160\n",
      "Epoch 7/50\n",
      "1149/1149 [==============================] - 0s 140us/sample - loss: 0.7300 - accuracy: 0.8399 - val_loss: 0.6981 - val_accuracy: 0.8229\n",
      "Epoch 8/50\n",
      "1149/1149 [==============================] - 0s 138us/sample - loss: 0.6281 - accuracy: 0.8529 - val_loss: 0.6091 - val_accuracy: 0.8507\n",
      "Epoch 9/50\n",
      "1149/1149 [==============================] - 0s 132us/sample - loss: 0.5471 - accuracy: 0.8686 - val_loss: 0.5451 - val_accuracy: 0.8576\n",
      "Epoch 10/50\n",
      "1149/1149 [==============================] - 0s 134us/sample - loss: 0.4797 - accuracy: 0.8764 - val_loss: 0.4996 - val_accuracy: 0.8507\n",
      "Epoch 11/50\n",
      "1149/1149 [==============================] - 0s 133us/sample - loss: 0.4319 - accuracy: 0.8816 - val_loss: 0.4439 - val_accuracy: 0.8750\n",
      "Epoch 12/50\n",
      "1149/1149 [==============================] - 0s 139us/sample - loss: 0.3937 - accuracy: 0.8938 - val_loss: 0.4104 - val_accuracy: 0.8924\n",
      "Epoch 13/50\n",
      "1149/1149 [==============================] - 0s 135us/sample - loss: 0.3649 - accuracy: 0.9025 - val_loss: 0.3846 - val_accuracy: 0.8924\n",
      "Epoch 14/50\n",
      "1149/1149 [==============================] - 0s 131us/sample - loss: 0.3418 - accuracy: 0.9121 - val_loss: 0.3590 - val_accuracy: 0.9028\n",
      "Epoch 15/50\n",
      "1149/1149 [==============================] - 0s 139us/sample - loss: 0.3193 - accuracy: 0.9208 - val_loss: 0.3476 - val_accuracy: 0.8854\n",
      "Epoch 16/50\n",
      "1149/1149 [==============================] - 0s 132us/sample - loss: 0.3020 - accuracy: 0.9199 - val_loss: 0.3409 - val_accuracy: 0.9097\n",
      "Epoch 17/50\n",
      "1149/1149 [==============================] - 0s 136us/sample - loss: 0.2864 - accuracy: 0.9295 - val_loss: 0.3097 - val_accuracy: 0.9062\n",
      "Epoch 18/50\n",
      "1149/1149 [==============================] - 0s 139us/sample - loss: 0.2735 - accuracy: 0.9269 - val_loss: 0.2857 - val_accuracy: 0.9236\n",
      "Epoch 19/50\n",
      "1149/1149 [==============================] - 0s 138us/sample - loss: 0.2597 - accuracy: 0.9330 - val_loss: 0.2797 - val_accuracy: 0.9236\n",
      "Epoch 20/50\n",
      "1149/1149 [==============================] - 0s 138us/sample - loss: 0.2462 - accuracy: 0.9347 - val_loss: 0.2788 - val_accuracy: 0.9340\n",
      "Epoch 21/50\n",
      "1149/1149 [==============================] - 0s 138us/sample - loss: 0.2369 - accuracy: 0.9382 - val_loss: 0.2575 - val_accuracy: 0.9340\n",
      "Epoch 22/50\n",
      "1149/1149 [==============================] - 0s 138us/sample - loss: 0.2257 - accuracy: 0.9399 - val_loss: 0.2542 - val_accuracy: 0.9236\n",
      "Epoch 23/50\n",
      "1149/1149 [==============================] - 0s 135us/sample - loss: 0.2111 - accuracy: 0.9460 - val_loss: 0.2442 - val_accuracy: 0.9306\n",
      "Epoch 24/50\n",
      "1149/1149 [==============================] - 0s 134us/sample - loss: 0.2032 - accuracy: 0.9487 - val_loss: 0.2267 - val_accuracy: 0.9375\n",
      "Epoch 25/50\n",
      "1149/1149 [==============================] - 0s 136us/sample - loss: 0.1924 - accuracy: 0.9513 - val_loss: 0.2283 - val_accuracy: 0.9271\n",
      "Epoch 26/50\n",
      "1149/1149 [==============================] - 0s 137us/sample - loss: 0.1866 - accuracy: 0.9608 - val_loss: 0.2147 - val_accuracy: 0.9410\n",
      "Epoch 27/50\n",
      "1149/1149 [==============================] - 0s 133us/sample - loss: 0.1782 - accuracy: 0.9539 - val_loss: 0.2057 - val_accuracy: 0.9306\n",
      "Epoch 28/50\n",
      "1149/1149 [==============================] - 0s 135us/sample - loss: 0.1685 - accuracy: 0.9661 - val_loss: 0.1942 - val_accuracy: 0.9479\n",
      "Epoch 29/50\n",
      "1149/1149 [==============================] - 0s 132us/sample - loss: 0.1647 - accuracy: 0.9617 - val_loss: 0.2055 - val_accuracy: 0.9375\n",
      "Epoch 30/50\n",
      "1149/1149 [==============================] - 0s 145us/sample - loss: 0.1554 - accuracy: 0.9634 - val_loss: 0.1983 - val_accuracy: 0.9444\n",
      "Epoch 31/50\n",
      "1149/1149 [==============================] - 0s 149us/sample - loss: 0.1500 - accuracy: 0.9643 - val_loss: 0.1758 - val_accuracy: 0.9514\n",
      "Epoch 32/50\n",
      "1149/1149 [==============================] - 0s 141us/sample - loss: 0.1460 - accuracy: 0.9617 - val_loss: 0.1713 - val_accuracy: 0.9549\n",
      "Epoch 33/50\n",
      "1149/1149 [==============================] - 0s 137us/sample - loss: 0.1407 - accuracy: 0.9704 - val_loss: 0.1713 - val_accuracy: 0.9514\n",
      "Epoch 34/50\n",
      "1149/1149 [==============================] - 0s 137us/sample - loss: 0.1316 - accuracy: 0.9713 - val_loss: 0.1587 - val_accuracy: 0.9618\n",
      "Epoch 35/50\n",
      "1149/1149 [==============================] - 0s 139us/sample - loss: 0.1303 - accuracy: 0.9721 - val_loss: 0.1552 - val_accuracy: 0.9583\n",
      "Epoch 36/50\n",
      "1149/1149 [==============================] - 0s 135us/sample - loss: 0.1258 - accuracy: 0.9695 - val_loss: 0.1673 - val_accuracy: 0.9549\n",
      "Epoch 37/50\n",
      "1149/1149 [==============================] - 0s 137us/sample - loss: 0.1205 - accuracy: 0.9765 - val_loss: 0.1465 - val_accuracy: 0.9618\n",
      "Epoch 38/50\n",
      "1149/1149 [==============================] - 0s 133us/sample - loss: 0.1170 - accuracy: 0.9748 - val_loss: 0.1449 - val_accuracy: 0.9514\n",
      "Epoch 39/50\n",
      "1149/1149 [==============================] - 0s 133us/sample - loss: 0.1103 - accuracy: 0.9791 - val_loss: 0.1397 - val_accuracy: 0.9653\n",
      "Epoch 40/50\n",
      "1149/1149 [==============================] - 0s 141us/sample - loss: 0.1067 - accuracy: 0.9765 - val_loss: 0.1351 - val_accuracy: 0.9549\n",
      "Epoch 41/50\n",
      "1149/1149 [==============================] - 0s 143us/sample - loss: 0.1060 - accuracy: 0.9765 - val_loss: 0.1297 - val_accuracy: 0.9653\n",
      "Epoch 42/50\n",
      "1149/1149 [==============================] - 0s 136us/sample - loss: 0.0984 - accuracy: 0.9817 - val_loss: 0.1294 - val_accuracy: 0.9688\n",
      "Epoch 43/50\n",
      "1149/1149 [==============================] - 0s 143us/sample - loss: 0.0960 - accuracy: 0.9809 - val_loss: 0.1401 - val_accuracy: 0.9653\n",
      "Epoch 44/50\n",
      "1149/1149 [==============================] - 0s 144us/sample - loss: 0.0936 - accuracy: 0.9826 - val_loss: 0.1289 - val_accuracy: 0.9549\n",
      "Epoch 45/50\n",
      "1149/1149 [==============================] - 0s 139us/sample - loss: 0.0924 - accuracy: 0.9791 - val_loss: 0.1243 - val_accuracy: 0.9688\n",
      "Epoch 46/50\n",
      "1149/1149 [==============================] - 0s 149us/sample - loss: 0.0887 - accuracy: 0.9800 - val_loss: 0.1330 - val_accuracy: 0.9549\n",
      "Epoch 47/50\n",
      "1149/1149 [==============================] - 0s 144us/sample - loss: 0.0853 - accuracy: 0.9852 - val_loss: 0.1168 - val_accuracy: 0.9722\n",
      "Epoch 48/50\n",
      "1149/1149 [==============================] - 0s 136us/sample - loss: 0.0836 - accuracy: 0.9809 - val_loss: 0.1234 - val_accuracy: 0.9618\n",
      "Epoch 49/50\n",
      "1149/1149 [==============================] - 0s 137us/sample - loss: 0.0798 - accuracy: 0.9852 - val_loss: 0.1200 - val_accuracy: 0.9618\n",
      "Epoch 50/50\n",
      "1149/1149 [==============================] - 0s 153us/sample - loss: 0.0806 - accuracy: 0.9809 - val_loss: 0.1215 - val_accuracy: 0.9583\n"
     ]
    }
   ],
   "source": [
    "# Model from above, but now with ten output neurons:\n",
    "\n",
    "model = Sequential()\n",
    "model.add(Dense(12, activation='relu', input_dim=64))\n",
    "model.add(Dense(8, activation='relu'))\n",
    "model.add(Dense(10, activation='softmax'))\n",
    "\n",
    "model.compile(optimizer='adam',\n",
    "              loss='categorical_crossentropy',\n",
    "              metrics=['accuracy'])\n",
    "\n",
    "results = model.fit(X_pure_train, y_pure_train,\n",
    "                   epochs=50, batch_size=10,\n",
    "                   validation_data=(X_val, y_val))"
   ]
  },
  {
   "cell_type": "markdown",
   "metadata": {},
   "source": [
    "$$\\large \\text{Softmax}(x_{i}) = \\frac{\\exp(x_i)}{\\sum_j \\exp(x_j)}$$\n",
    "\n",
    "The sofmax function outputs a number between 0 and 1 for each of our classes.  All of the probabilities of the classes sum up to 1.\n",
    "\n",
    "The number of nodes in our output layer equals the number of categories in our dataset.\n",
    "\n",
    "We also need a new loss function: **categorical crossentropy**, which calculates a separate loss for each label and then sums the results."
   ]
  },
  {
   "cell_type": "code",
   "execution_count": 51,
   "metadata": {},
   "outputs": [],
   "source": [
    "history = results.history\n",
    "training_loss = history['loss']\n",
    "val_loss = history['val_loss']\n",
    "training_accuracy = history['accuracy']\n",
    "val_accuracy = history['val_accuracy']"
   ]
  },
  {
   "cell_type": "code",
   "execution_count": 52,
   "metadata": {},
   "outputs": [
    {
     "data": {
      "image/png": "[encoded data removed]",
      "text/plain": [
       "<Figure size 1080x360 with 2 Axes>"
      ]
     },
     "metadata": {
      "needs_background": "light"
     },
     "output_type": "display_data"
    }
   ],
   "source": [
    "fig, (ax1,ax2) = plt.subplots(1,2,figsize=(15,5))\n",
    "\n",
    "\n",
    "sns.lineplot(x=list(range(len(training_loss))),\n",
    "             y=training_loss, color='r', label='training', ax=ax1)\n",
    "sns.lineplot(x=list(range(len(val_loss))),\n",
    "             y=val_loss, color='b', label='validation', ax=ax1)\n",
    "sns.lineplot(x=list(range(len(training_loss))),\n",
    "             y=training_accuracy, color='r', label='training',ax=ax2)\n",
    "sns.lineplot(x=list(range(len(val_loss))),\n",
    "             y=val_accuracy, color='b', label='validation',ax=ax2)\n",
    "ax1.legend();"
   ]
  },
  {
   "cell_type": "code",
   "execution_count": 54,
   "metadata": {},
   "outputs": [],
   "source": [
    "#Get the predictions on our test set\n",
    "y_hat_test = np.argmax(model.predict(X_test), axis=-1)"
   ]
  },
  {
   "cell_type": "code",
   "execution_count": 55,
   "metadata": {},
   "outputs": [
    {
     "data": {
      "text/plain": [
       "array([6, 9, 3, 7, 2, 1, 5, 2, 5, 2, 2, 9, 4, 0, 4, 2, 3, 7, 8, 8, 4, 3,\n",
       "       9, 7, 5, 6, 3, 5, 6, 3, 4, 9, 1, 4, 4, 6, 9, 4, 7, 6, 6, 9, 1, 3,\n",
       "       6, 1, 3, 0, 6, 5, 5, 1, 9, 5, 6, 0, 9, 0, 0, 1, 5, 4, 5, 2, 4, 5,\n",
       "       7, 0, 7, 5, 9, 5, 5, 4, 7, 0, 4, 5, 5, 9, 9, 0, 2, 3, 8, 0, 6, 4,\n",
       "       4, 9, 1, 2, 8, 3, 5, 2, 9, 4, 4, 4, 4, 3, 5, 3, 1, 3, 5, 9, 4, 2,\n",
       "       7, 7, 4, 4, 1, 9, 2, 7, 0, 7, 2, 6, 9, 4, 0, 7, 3, 7, 5, 8, 7, 5,\n",
       "       7, 9, 0, 6, 6, 4, 2, 8, 0, 9, 4, 6, 9, 9, 6, 9, 0, 5, 5, 6, 6, 0,\n",
       "       6, 4, 2, 9, 3, 1, 7, 2, 3, 0, 6, 5, 3, 6, 5, 9, 9, 8, 4, 2, 1, 3,\n",
       "       7, 7, 2, 2, 3, 9, 8, 0, 3, 2, 2, 5, 6, 9, 9, 4, 1, 5, 4, 2, 3, 6,\n",
       "       4, 8, 5, 9, 5, 7, 1, 9, 4, 8, 1, 5, 4, 4, 9, 6, 1, 8, 6, 0, 4, 5,\n",
       "       2, 7, 4, 6, 4, 5, 6, 0, 3, 2, 3, 6, 7, 1, 9, 1, 4, 7, 6, 5, 2, 5,\n",
       "       5, 1, 0, 1, 8, 8, 9, 9, 7, 6, 2, 2, 2, 3, 4, 8, 8, 3, 6, 0, 3, 7,\n",
       "       7, 0, 1, 0, 4, 5, 1, 5, 3, 6, 0, 4, 1, 0, 0, 3, 6, 5, 9, 7, 3, 5,\n",
       "       5, 9, 9, 8, 5, 3, 3, 2, 0, 5, 8, 3, 4, 0, 2, 4, 6, 4, 3, 4, 5, 0,\n",
       "       5, 2, 1, 3, 1, 4, 1, 1, 7, 0, 1, 5, 2, 1, 2, 8, 7, 0, 6, 4, 8, 8,\n",
       "       5, 1, 8, 4, 5, 8, 7, 9, 8, 5, 0, 6, 2, 0, 7, 9, 1, 9, 5, 2, 7, 7,\n",
       "       1, 8, 7, 4, 3, 8, 3, 5])"
      ]
     },
     "execution_count": 55,
     "metadata": {},
     "output_type": "execute_result"
    }
   ],
   "source": [
    "y_hat_test"
   ]
  },
  {
   "cell_type": "code",
   "execution_count": 56,
   "metadata": {
    "scrolled": true
   },
   "outputs": [
    {
     "data": {
      "text/plain": [
       "array([[31,  0,  0,  0,  1,  1,  0,  0,  0,  0],\n",
       "       [ 0, 27,  1,  0,  0,  0,  0,  0,  0,  0],\n",
       "       [ 0,  1, 31,  1,  0,  0,  0,  0,  0,  0],\n",
       "       [ 0,  0,  1, 32,  0,  1,  0,  0,  0,  0],\n",
       "       [ 0,  0,  0,  0, 45,  0,  1,  0,  0,  0],\n",
       "       [ 0,  0,  0,  0,  0, 46,  0,  0,  0,  1],\n",
       "       [ 1,  0,  0,  0,  0,  0, 34,  0,  0,  0],\n",
       "       [ 0,  0,  0,  0,  0,  0,  0, 33,  0,  1],\n",
       "       [ 1,  2,  1,  0,  0,  1,  0,  0, 25,  0],\n",
       "       [ 0,  1,  0,  2,  0,  0,  0,  0,  0, 37]])"
      ]
     },
     "execution_count": 56,
     "metadata": {},
     "output_type": "execute_result"
    }
   ],
   "source": [
    "y_test_restore = ohe.inverse_transform(y_test)\n",
    "confusion_matrix(y_test_restore, y_hat_test)"
   ]
  },
  {
   "cell_type": "markdown",
   "metadata": {},
   "source": [
    "Wow, look at that performance!  \n",
    "\n",
    "That is great, but remember, we were dealing with simple black and white images.  With color, our basic neural net will have less success.\n",
    "\n",
    "We will explore more advanced tools in the coming days.\n"
   ]
  }
 ],
 "metadata": {
  "celltoolbar": "Raw Cell Format",
  "colab": {
   "collapsed_sections": [],
   "name": "intro-to-keras.ipynb",
   "provenance": []
  },
  "kernelspec": {
   "display_name": "Python (tensor_lecture)",
   "language": "python",
   "name": "tensor_lecture"
  },
  "language_info": {
   "codemirror_mode": {
    "name": "ipython",
    "version": 3
   },
   "file_extension": ".py",
   "mimetype": "text/x-python",
   "name": "python",
   "nbconvert_exporter": "python",
   "pygments_lexer": "ipython3",
   "version": "3.7.13"
  }
 },
 "nbformat": 4,
 "nbformat_minor": 4
}
