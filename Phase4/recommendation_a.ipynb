{
 "cells": [
  {
   "cell_type": "markdown",
   "metadata": {},
   "source": [
    "# Recommender Systems"
   ]
  },
  {
   "cell_type": "code",
   "execution_count": 1,
   "metadata": {},
   "outputs": [],
   "source": [
    "from random import gauss as gs, uniform as uni, seed\n",
    "import numpy as np\n",
    "import pandas as pd\n",
    "from sklearn.linear_model import LinearRegression"
   ]
  },
  {
   "cell_type": "markdown",
   "metadata": {},
   "source": [
    "![Netflix](https://miro.medium.com/max/1400/1*jlQxemlP9Yim_rWTqlCFDQ.png)"
   ]
  },
  {
   "cell_type": "markdown",
   "metadata": {},
   "source": [
    "![Amazon](images/amazon_recommender.png)"
   ]
  },
  {
   "cell_type": "markdown",
   "metadata": {},
   "source": [
    "## Agenda"
   ]
  },
  {
   "cell_type": "markdown",
   "metadata": {},
   "source": [
    "- describe the difference between content-based and collaborative-filtering algorithms\n",
    "- explain and use the cosine similarity metric\n",
    "- describe the algorithm of alternating least-squares"
   ]
  },
  {
   "cell_type": "markdown",
   "metadata": {},
   "source": [
    "## Intro"
   ]
  },
  {
   "cell_type": "markdown",
   "metadata": {},
   "source": [
    "Recommender systems can be classified along various lines. One fundamental distinction is **content-based** vs. **collaborative-filtering** systems.\n",
    "\n",
    "To illustrate this, consider two different strategies: (a) I recommend items to you that are *similar to other items* you've used/bought/read/watched; and (b) I recommend items to you that people *similar to you* have used/bought/read/watched. The first is the **content-based strategy**; the second is the **collaborative-filtering strategy**. \n",
    "\n",
    "Another distinction drawn is in whether (a) the system uses existing ratings to compute user-user or item-item similarity, or (b) the system uses machine learning techniques to make predictions. Recommenders of the first sort are called **memory-based**; recommenders of the second sort are called **model-based**."
   ]
  },
  {
   "cell_type": "markdown",
   "metadata": {},
   "source": [
    "## Content-Based Systems"
   ]
  },
  {
   "cell_type": "markdown",
   "metadata": {},
   "source": [
    "The basic idea here is to recommend items to a user that are *similar to* items that the user has already enjoyed. Suppose we represent TV shows as rows, where the columns represent various features of these TV shows. These features might be things like the presence of a certain actor or the show fitting into a particular genre etc. We'll just use binary features here, perhaps the result of some one-hot encoding:"
   ]
  },
  {
   "cell_type": "code",
   "execution_count": 2,
   "metadata": {},
   "outputs": [
    {
     "data": {
      "text/plain": [
       "array([[0, 1, 1, 0, 1, 1, 1],\n",
       "       [0, 0, 0, 1, 1, 1, 0],\n",
       "       [1, 1, 1, 0, 0, 1, 1],\n",
       "       [0, 1, 1, 1, 0, 0, 1]])"
      ]
     },
     "execution_count": 2,
     "metadata": {},
     "output_type": "execute_result"
    }
   ],
   "source": [
    "tv_shows = np.array([[0, 1, 1, 0, 1, 1, 1],\n",
    "                   [0, 0, 0, 1, 1, 1, 0],\n",
    "                   [1, 1, 1, 0, 0, 1, 1],\n",
    "                   [0, 1, 1, 1, 0, 0, 1]])\n",
    "\n",
    "tv_shows"
   ]
  },
  {
   "cell_type": "markdown",
   "metadata": {},
   "source": [
    "Bob likes the TV Show represented by Row \\#1. Which show (row) should we recommend to Bob?\n",
    "\n",
    "One natural way of measuring the similarity between two vectors is by the **cosine of the angle between them**. Two points near one another in feature space will correspond to vectors that nearly overlap, i.e. vectors that describe a small angle $\\theta$. And as $\\theta$ decreases, $\\cos(\\theta)$ *increases*. So we'll be looking for large values of the cosine (which ranges between -1 and 1). We can also think of the cosine between two vectors as the *projection of one vector onto the other*:\n",
    "\n",
    "![image.png](https://www.oreilly.com/library/view/statistics-for-machine/9781788295758/assets/2b4a7a82-ad4c-4b2a-b808-e423a334de6f.png)\n",
    "\n",
    "We can use this metric easily if we treat our rows (the items we're comparing for similarity) as vectors: We can calculate the cosine of the angle $\\theta$ between two vectors $\\vec{a}$ and $\\vec{b}$ as follows: $\\cos(\\theta) = \\frac{\\vec{a}\\cdot\\vec{b}}{|\\vec{a}||\\vec{b}|}$"
   ]
  },
  {
   "cell_type": "code",
   "execution_count": 3,
   "metadata": {},
   "outputs": [],
   "source": [
    "numerators = np.array([tv_shows[0].dot(tv_show) for tv_show in tv_shows[1:]])"
   ]
  },
  {
   "cell_type": "code",
   "execution_count": 4,
   "metadata": {},
   "outputs": [
    {
     "data": {
      "text/plain": [
       "array([2, 4, 3])"
      ]
     },
     "execution_count": 4,
     "metadata": {},
     "output_type": "execute_result"
    }
   ],
   "source": [
    "numerators"
   ]
  },
  {
   "cell_type": "code",
   "execution_count": 5,
   "metadata": {},
   "outputs": [],
   "source": [
    "denominators = np.array(\n",
    "    [(np.linalg.norm(tv_shows[0]) * np.linalg.norm(tv_show)) for tv_show in tv_shows[1:]]\n",
    ")"
   ]
  },
  {
   "cell_type": "code",
   "execution_count": 6,
   "metadata": {},
   "outputs": [
    {
     "data": {
      "text/plain": [
       "array([3.87298335, 5.        , 4.47213595])"
      ]
     },
     "execution_count": 6,
     "metadata": {},
     "output_type": "execute_result"
    }
   ],
   "source": [
    "denominators"
   ]
  },
  {
   "cell_type": "code",
   "execution_count": 7,
   "metadata": {},
   "outputs": [
    {
     "data": {
      "text/plain": [
       "array([0.51639778, 0.8       , 0.67082039])"
      ]
     },
     "execution_count": 7,
     "metadata": {},
     "output_type": "execute_result"
    }
   ],
   "source": [
    "numerators / denominators"
   ]
  },
  {
   "cell_type": "markdown",
   "metadata": {},
   "source": [
    "Since the cosine similarity to Row \\#1 is highest for Row \\#3, we would recommend this TV show."
   ]
  },
  {
   "cell_type": "markdown",
   "metadata": {},
   "source": [
    "***"
   ]
  },
  {
   "cell_type": "markdown",
   "metadata": {},
   "source": [
    "## Collaborative Filtering\n",
    "\n",
    "Now the idea is to recommend items to a user based on what *similar* users have enjoyed. Suppose we have the following recording of explicit ratings of five items by three users:"
   ]
  },
  {
   "cell_type": "code",
   "execution_count": 8,
   "metadata": {
    "scrolled": true
   },
   "outputs": [
    {
     "data": {
      "text/plain": [
       "array([[5, 4, 3, 4, 5],\n",
       "       [3, 1, 1, 2, 5],\n",
       "       [4, 2, 3, 1, 4]])"
      ]
     },
     "execution_count": 8,
     "metadata": {},
     "output_type": "execute_result"
    }
   ],
   "source": [
    "users = np.array([[5, 4, 3, 4, 5], [3, 1, 1, 2, 5], [4, 2, 3, 1, 4]])\n",
    "\n",
    "new_user = np.array([5, 0, 0, 0, 0])\n",
    "users"
   ]
  },
  {
   "cell_type": "markdown",
   "metadata": {},
   "source": [
    "To which user is `new_user` most similar?\n",
    "\n",
    "One metric is cosine similarity:"
   ]
  },
  {
   "cell_type": "code",
   "execution_count": 9,
   "metadata": {},
   "outputs": [],
   "source": [
    "new_user_mag = 5\n",
    "\n",
    "numerators = np.array([new_user.dot(user) for user in users])"
   ]
  },
  {
   "cell_type": "code",
   "execution_count": 10,
   "metadata": {},
   "outputs": [
    {
     "data": {
      "text/plain": [
       "array([25, 15, 20])"
      ]
     },
     "execution_count": 10,
     "metadata": {},
     "output_type": "execute_result"
    }
   ],
   "source": [
    "numerators"
   ]
  },
  {
   "cell_type": "code",
   "execution_count": 11,
   "metadata": {},
   "outputs": [],
   "source": [
    "denominators = np.array(\n",
    "    [(np.linalg.norm(new_user) * np.linalg.norm(user)) for user in users]\n",
    ")"
   ]
  },
  {
   "cell_type": "code",
   "execution_count": 12,
   "metadata": {},
   "outputs": [
    {
     "data": {
      "text/plain": [
       "array([47.69696007, 31.6227766 , 33.91164992])"
      ]
     },
     "execution_count": 12,
     "metadata": {},
     "output_type": "execute_result"
    }
   ],
   "source": [
    "denominators"
   ]
  },
  {
   "cell_type": "code",
   "execution_count": 13,
   "metadata": {},
   "outputs": [
    {
     "data": {
      "text/plain": [
       "array([0.52414242, 0.47434165, 0.58976782])"
      ]
     },
     "execution_count": 13,
     "metadata": {},
     "output_type": "execute_result"
    }
   ],
   "source": [
    "numerators / denominators"
   ]
  },
  {
   "cell_type": "markdown",
   "metadata": {},
   "source": [
    "But we could also use another metric, such as Pearson Correlation:"
   ]
  },
  {
   "cell_type": "code",
   "execution_count": 14,
   "metadata": {},
   "outputs": [
    {
     "data": {
      "text/plain": [
       "[0.5345224838248488, 0.20044593143431824, 0.5144957554275266]"
      ]
     },
     "execution_count": 14,
     "metadata": {},
     "output_type": "execute_result"
    }
   ],
   "source": [
    "[np.corrcoef(new_user, user)[0, 1] for user in users]"
   ]
  },
  {
   "cell_type": "markdown",
   "metadata": {},
   "source": [
    "For more on content-based vs. collaborative systems, see [this Wikipedia article](https://en.wikipedia.org/wiki/Collaborative_filtering) and [this blog post](https://towardsdatascience.com/recommendation-systems-models-and-evaluation-84944a84fb8e). [This post](https://dataconomy.com/2015/03/an-introduction-to-recommendation-engines/) on dataconomy is also useful."
   ]
  },
  {
   "cell_type": "markdown",
   "metadata": {},
   "source": [
    "***"
   ]
  },
  {
   "cell_type": "markdown",
   "metadata": {},
   "source": [
    "## Matrix Factorization\n",
    "\n",
    "Suppose we start with a matrix $R$ of users and products, where each cell records the ranking the relevant user gave to the relevant product. Very often we'll be able to record this data as a sparse matrix, because many users will not have ranked many items.\n",
    "\n",
    "Imagine factoring this matrix into a user matrix $P$ and an item matrix $Q^T$: $R = PQ^T$. What would the shapes of $P$ and $Q^T$ be? Clearly $P$ must have as many rows as $R$, which is just the number of users who have given ratings. Similarly, $Q^T$ must have as many columns as $R$, which is just the number of items that have received ratings. We also know that the number of columns of $P$ must match the number of rows of $Q^T$ for the factorization to be possible, but this number could really be anything. In practice this will be a small number, and for reasons that will emerge shortly let's refer to these dimensions as **latent features** of the items in $R$. If $p$ is a row of $P$, i.e. a user-vector, and $q$ is a column of $Q^T$, i.e. an item-vector, then $p$ will record the user's particular weights or *preferences* with respect to the latent features, while $q$ will record how the item ranks with respect to those same latent features. This in turn means that we could predict a user's ranking of a particular item simply by calculating the dot-product of $p$ and $q$! \n",
    "\n",
    "If we could effect such a factorization, $R = PQ^T$, then we could calculate *all* predictions, i.e. fill in the gaps in $R$, by solving for $P$ and $Q$.\n",
    "\n",
    "The isolation of these latent features can be achieved in various ways. But this is at heart a matter of **dimensionality reduction**, and so one way is with the [SVD](https://hackernoon.com/introduction-to-recommender-system-part-1-collaborative-filtering-singular-value-decomposition-44c9659c5e75).\n",
    "\n",
    "An alternative is to use the method of Alternating Least Squares."
   ]
  },
  {
   "cell_type": "markdown",
   "metadata": {},
   "source": [
    "### Alternating Least-Squares (ALS)\n",
    "\n",
    "ALS recommendation systems are often implemented in Spark architectures because of the appropriateness for distributed computing. ALS systems often involve very large datasets (consider how much data the recommendation engine for NETFLIX must have, for example!), and it is often useful to store them as sparse matrices, which Spark's ML library can handle. In fact, Spark's mllib even includes a \"Rating\" datatype! ALS is **collaborative** and **model-based**, and is especially useful for working with *implicit* ratings.\n",
    "\n",
    "We're looking for two matrices (a user matrix and an item matrix) into which we can factor our ratings matrix. We can't of course solve for two matrices at once. But here's what we can do:\n",
    "\n",
    "Make guesses of the values for $P$ and $Q$. Then hold the values of one *constant* so that we can optimize for the values of the other!\n",
    "\n",
    "Basically this converts our problem into a familiar *least-squares* problem. See [this page](https://textbooks.math.gatech.edu/ila/least-squares.html) and [this page](https://datasciencemadesimpler.wordpress.com/tag/alternating-least-squares/) for more details, but here's the basic idea:"
   ]
  },
  {
   "cell_type": "markdown",
   "metadata": {},
   "source": [
    "If we have an equation $Ax = b$ for *non-square* $A$, then we have:\n",
    "\n",
    "$A^TAx = A^Tb$ <br/>\n",
    "Thus: <br/>\n",
    "$x = (A^TA)^{-1}A^Tb$\n",
    "\n",
    "This $(A^TA)^{-1}A^T$ **is the pseudo-inverse of** $A$. We encountered this before in our whirlwind tour of linear algebra."
   ]
  },
  {
   "cell_type": "code",
   "execution_count": 15,
   "metadata": {},
   "outputs": [],
   "source": [
    "np.random.seed(42)\n",
    "\n",
    "A = np.random.rand(5, 5)\n",
    "b = np.random.rand(5, 1)"
   ]
  },
  {
   "cell_type": "code",
   "execution_count": 16,
   "metadata": {},
   "outputs": [
    {
     "data": {
      "text/plain": [
       "array([[-226.17808974],\n",
       "       [ 218.48756728],\n",
       "       [-362.56506519],\n",
       "       [ 147.90541489],\n",
       "       [ 350.1459068 ]])"
      ]
     },
     "execution_count": 16,
     "metadata": {},
     "output_type": "execute_result"
    }
   ],
   "source": [
    "np.linalg.inv(A.T.dot(A)).dot(A.T).dot(b)"
   ]
  },
  {
   "cell_type": "markdown",
   "metadata": {},
   "source": [
    "The `numpy` library has a shortcut for this: `numpy.linalg.pinv()`:"
   ]
  },
  {
   "cell_type": "code",
   "execution_count": 17,
   "metadata": {},
   "outputs": [
    {
     "data": {
      "text/plain": [
       "array([[-226.17808981],\n",
       "       [ 218.48756735],\n",
       "       [-362.56506531],\n",
       "       [ 147.90541493],\n",
       "       [ 350.14590691]])"
      ]
     },
     "execution_count": 17,
     "metadata": {},
     "output_type": "execute_result"
    }
   ],
   "source": [
    "np.linalg.pinv(A).dot(b)"
   ]
  },
  {
   "cell_type": "markdown",
   "metadata": {},
   "source": [
    "\"When we talk about collaborative filtering for recommender systems we want to solve the problem of our original matrix having millions of different dimensions, but our 'tastes' not being nearly as complex. Even if i’ve \\[sic\\] viewed hundreds of items they might just express a couple of different tastes. Here we can actually use matrix factorization to mathematically reduce the dimensionality of our original 'all users by all items' matrix into something much smaller that represents 'all items by some taste dimensions' and 'all users by some taste dimensions'. These dimensions are called ***latent or hidden features*** and we learn them from our data\" ([Medium article: \"ALS Implicit Collaborative Filtering\"](https://medium.com/radon-dev/als-implicit-collaborative-filtering-5ed653ba39fe))."
   ]
  },
  {
   "cell_type": "markdown",
   "metadata": {},
   "source": [
    "#### Simple Example\n",
    "\n",
    "Suppose Max and Erin have rated five films:"
   ]
  },
  {
   "cell_type": "code",
   "execution_count": 18,
   "metadata": {},
   "outputs": [
    {
     "data": {
      "text/html": [
       "<div>\n",
       "<style scoped>\n",
       "    .dataframe tbody tr th:only-of-type {\n",
       "        vertical-align: middle;\n",
       "    }\n",
       "\n",
       "    .dataframe tbody tr th {\n",
       "        vertical-align: top;\n",
       "    }\n",
       "\n",
       "    .dataframe thead th {\n",
       "        text-align: right;\n",
       "    }\n",
       "</style>\n",
       "<table border=\"1\" class=\"dataframe\">\n",
       "  <thead>\n",
       "    <tr style=\"text-align: right;\">\n",
       "      <th></th>\n",
       "      <th>film1</th>\n",
       "      <th>film2</th>\n",
       "      <th>film3</th>\n",
       "      <th>film4</th>\n",
       "      <th>film5</th>\n",
       "    </tr>\n",
       "  </thead>\n",
       "  <tbody>\n",
       "    <tr>\n",
       "      <th>max</th>\n",
       "      <td>0</td>\n",
       "      <td>1</td>\n",
       "      <td>0</td>\n",
       "      <td>0</td>\n",
       "      <td>4</td>\n",
       "    </tr>\n",
       "    <tr>\n",
       "      <th>erin</th>\n",
       "      <td>0</td>\n",
       "      <td>0</td>\n",
       "      <td>0</td>\n",
       "      <td>5</td>\n",
       "      <td>0</td>\n",
       "    </tr>\n",
       "  </tbody>\n",
       "</table>\n",
       "</div>"
      ],
      "text/plain": [
       "      film1  film2  film3  film4  film5\n",
       "max       0      1      0      0      4\n",
       "erin      0      0      0      5      0"
      ]
     },
     "execution_count": 18,
     "metadata": {},
     "output_type": "execute_result"
    }
   ],
   "source": [
    "ratings_arr = pd.DataFrame([[0, 1, 0, 0, 4], [0, 0, 0, 5, 0]],\\\n",
    "                           index=['max', 'erin'],\n",
    "             columns=['film' + str(i) for i in range(1, 6)])\n",
    "ratings_arr"
   ]
  },
  {
   "cell_type": "markdown",
   "metadata": {},
   "source": [
    "Suppose now that we isolate ten latent features of these films, and that we can capture our users, i.e. the tastes of Max and Erin, according to these features. (We'll just fill out a matrix randomly.)"
   ]
  },
  {
   "cell_type": "code",
   "execution_count": 19,
   "metadata": {},
   "outputs": [],
   "source": [
    "seed(100)\n",
    "users = []\n",
    "\n",
    "for _ in range(2):\n",
    "    user = []\n",
    "    for _ in range(10):\n",
    "        user.append(gs(0, 1))\n",
    "    users.append(user)\n",
    "users_arr = np.array(users)"
   ]
  },
  {
   "cell_type": "code",
   "execution_count": 20,
   "metadata": {},
   "outputs": [
    {
     "data": {
      "text/plain": [
       "array([[ 0.67155333,  0.87331967,  0.20361655, -1.55034921, -0.12059128,\n",
       "        -1.05927574,  0.38143697, -1.17342904,  0.96637182,  0.53248343],\n",
       "       [ 2.22041991,  0.68901284,  0.85436449, -0.29504752, -0.62335055,\n",
       "         1.5917369 ,  0.17920475,  0.60086339,  0.3474319 ,  0.85537186]])"
      ]
     },
     "execution_count": 20,
     "metadata": {},
     "output_type": "execute_result"
    }
   ],
   "source": [
    "users_arr"
   ]
  },
  {
   "cell_type": "markdown",
   "metadata": {},
   "source": [
    "Now we'll make another random matrix that expresses *our items* in terms of these latent features."
   ]
  },
  {
   "cell_type": "code",
   "execution_count": 21,
   "metadata": {},
   "outputs": [],
   "source": [
    "seed(100)\n",
    "items = []\n",
    "\n",
    "for _ in range(5):\n",
    "    item = []\n",
    "    for _ in range(10):\n",
    "        item.append(gs(0, 1))\n",
    "    items.append(item)\n",
    "items_arr = np.array(items)"
   ]
  },
  {
   "cell_type": "code",
   "execution_count": 22,
   "metadata": {},
   "outputs": [
    {
     "data": {
      "text/plain": [
       "array([[ 0.67155333,  0.87331967,  0.20361655, -1.55034921, -0.12059128,\n",
       "        -1.05927574,  0.38143697, -1.17342904,  0.96637182,  0.53248343],\n",
       "       [ 2.22041991,  0.68901284,  0.85436449, -0.29504752, -0.62335055,\n",
       "         1.5917369 ,  0.17920475,  0.60086339,  0.3474319 ,  0.85537186],\n",
       "       [-1.80291827, -1.83311295,  0.60911087,  2.4250145 , -2.02233576,\n",
       "        -0.73382756,  0.24510831, -0.53817586, -0.30637608, -0.41367264],\n",
       "       [ 1.0027436 ,  0.03558136,  0.19013362, -1.27827915,  0.67648704,\n",
       "         1.79506722,  0.63054322, -0.37947302, -1.35033057,  0.45576721],\n",
       "       [ 0.42542416, -0.29962041, -2.48035968, -0.87457154, -1.23050164,\n",
       "        -1.00629648,  0.1857537 , -1.174924  , -0.33108494,  1.29437514]])"
      ]
     },
     "execution_count": 22,
     "metadata": {},
     "output_type": "execute_result"
    }
   ],
   "source": [
    "items_arr"
   ]
  },
  {
   "cell_type": "code",
   "execution_count": 23,
   "metadata": {},
   "outputs": [
    {
     "data": {
      "text/plain": [
       "(2, 10)"
      ]
     },
     "execution_count": 23,
     "metadata": {},
     "output_type": "execute_result"
    }
   ],
   "source": [
    "users_arr.shape"
   ]
  },
  {
   "cell_type": "code",
   "execution_count": 24,
   "metadata": {},
   "outputs": [
    {
     "data": {
      "text/plain": [
       "(5, 10)"
      ]
     },
     "execution_count": 24,
     "metadata": {},
     "output_type": "execute_result"
    }
   ],
   "source": [
    "items_arr.shape"
   ]
  },
  {
   "cell_type": "markdown",
   "metadata": {},
   "source": [
    "To construct our large users-by-items matrix, we'll simply take the product of our two random matrices."
   ]
  },
  {
   "cell_type": "code",
   "execution_count": 25,
   "metadata": {},
   "outputs": [
    {
     "data": {
      "text/plain": [
       "array([[ 7.53516384,  1.26783511, -5.21738432,  0.36547776,  3.90803828],\n",
       "       [ 1.26783511, 10.38970834, -6.10853643,  5.03189793, -1.63817674]])"
      ]
     },
     "execution_count": 25,
     "metadata": {},
     "output_type": "execute_result"
    }
   ],
   "source": [
    "users_arr.dot(items_arr.T)"
   ]
  },
  {
   "cell_type": "markdown",
   "metadata": {},
   "source": [
    "Now here's where the ALS really kicks in: We'll solve for Max's and Erin's preference vectors by multiplying the pseudo-inverse of the items array by their respective ratings vectors:"
   ]
  },
  {
   "cell_type": "code",
   "execution_count": 26,
   "metadata": {},
   "outputs": [
    {
     "name": "stdout",
     "output_type": "stream",
     "text": [
      "[ 0.47099573 -0.11214938 -0.98527859  0.09266666 -0.64747458  0.00854642\n",
      " -0.11601818  0.09586291 -0.08579953  0.55693307]\n",
      "[-0.23238655 -0.55138144  0.5415508  -0.71191248  0.27767197  0.81157767\n",
      "  0.78557579 -1.03623954 -1.25490079  0.02606555]\n"
     ]
    }
   ],
   "source": [
    "max_pref = np.linalg.pinv(items_arr).dot(ratings_arr.loc['max', :])\n",
    "print(max_pref)\n",
    "erin_pref = np.linalg.pinv(items_arr).dot(ratings_arr.loc['erin', :])\n",
    "print(erin_pref)"
   ]
  },
  {
   "cell_type": "code",
   "execution_count": 27,
   "metadata": {},
   "outputs": [
    {
     "data": {
      "text/plain": [
       "(10, 5)"
      ]
     },
     "execution_count": 27,
     "metadata": {},
     "output_type": "execute_result"
    }
   ],
   "source": [
    "items_arr.T.shape"
   ]
  },
  {
   "cell_type": "markdown",
   "metadata": {},
   "source": [
    "We'll predict (or, in this case, reproduce) Max's and Erin's ratings for films by simply multiplying their preference vectors by the transpose of the items array:"
   ]
  },
  {
   "cell_type": "code",
   "execution_count": 28,
   "metadata": {},
   "outputs": [
    {
     "data": {
      "text/plain": [
       "array([-7.91033905e-16,  1.00000000e+00,  0.00000000e+00,  2.02615702e-15,\n",
       "        4.00000000e+00])"
      ]
     },
     "execution_count": 28,
     "metadata": {},
     "output_type": "execute_result"
    }
   ],
   "source": [
    "newmax = max_pref.dot(items_arr.T)\n",
    "newmax"
   ]
  },
  {
   "cell_type": "markdown",
   "metadata": {},
   "source": [
    "This lines up with the ratings with which we began."
   ]
  },
  {
   "cell_type": "code",
   "execution_count": 29,
   "metadata": {},
   "outputs": [
    {
     "data": {
      "text/plain": [
       "array([ 4.44089210e-16,  2.44249065e-15,  3.33066907e-16,  5.00000000e+00,\n",
       "       -1.55431223e-15])"
      ]
     },
     "execution_count": 29,
     "metadata": {},
     "output_type": "execute_result"
    }
   ],
   "source": [
    "newerin = erin_pref.dot(items_arr.T)\n",
    "newerin"
   ]
  },
  {
   "cell_type": "markdown",
   "metadata": {},
   "source": [
    "Ditto!"
   ]
  },
  {
   "cell_type": "markdown",
   "metadata": {},
   "source": [
    "We'll make a quick error calculation:"
   ]
  },
  {
   "cell_type": "code",
   "execution_count": 30,
   "metadata": {},
   "outputs": [
    {
     "name": "stdout",
     "output_type": "stream",
     "text": [
      "3.318146182585881e-29\n"
     ]
    }
   ],
   "source": [
    "guess = np.vstack([newmax, newerin])\n",
    "\n",
    "err = 0\n",
    "for i in range(2):\n",
    "    for j in range(len(ratings_arr.values[i, :])):\n",
    "        if ratings_arr.values[i, j] != 0:\n",
    "            err += (ratings_arr.values[i, j] - guess[i, j])**2\n",
    "print(err)"
   ]
  },
  {
   "cell_type": "markdown",
   "metadata": {},
   "source": [
    "#### Second Example"
   ]
  },
  {
   "cell_type": "code",
   "execution_count": 31,
   "metadata": {},
   "outputs": [],
   "source": [
    "# Users: m x n (m users)\n",
    "# Items: r x n (r items)\n",
    "# Ratings: m x r"
   ]
  },
  {
   "cell_type": "code",
   "execution_count": 32,
   "metadata": {},
   "outputs": [],
   "source": [
    "# If P = users and Q = items, then we want to approximate R = PQ^T\n",
    "# Let's generate R.\n",
    "\n",
    "seed(42)\n",
    "ratings2 = []\n",
    "for _ in range(100):\n",
    "    user = []\n",
    "    for _ in range(100):\n",
    "        chance = gs(0, 0.4)\n",
    "        \n",
    "        # We'll fill our ratings matrix mostly with 0's to represent\n",
    "        # unrated films. This is NOT standard; we're doing this only\n",
    "        # to illustrate the general algorithm.\n",
    "        if chance > 0.5:\n",
    "            user.append(int(uni(1, 6)))\n",
    "        else:\n",
    "            user.append(0)\n",
    "        \n",
    "        # This 'if' will simply ensure that everyone has given at least\n",
    "        # one rating.\n",
    "        if user.count(0) == 10:\n",
    "            user[int(uni(0, 10))] = int(uni(1, 6))\n",
    "    ratings2.append(user)\n",
    "ratings_arr2 = np.array(ratings2)"
   ]
  },
  {
   "cell_type": "code",
   "execution_count": 35,
   "metadata": {},
   "outputs": [
    {
     "data": {
      "text/plain": [
       "array([[0, 0, 0, ..., 0, 2, 0],\n",
       "       [3, 0, 2, ..., 0, 0, 0],\n",
       "       [5, 3, 0, ..., 0, 0, 0],\n",
       "       ...,\n",
       "       [0, 0, 0, ..., 5, 0, 2],\n",
       "       [0, 2, 5, ..., 0, 0, 0],\n",
       "       [2, 2, 0, ..., 5, 0, 5]])"
      ]
     },
     "execution_count": 35,
     "metadata": {},
     "output_type": "execute_result"
    }
   ],
   "source": [
    "ratings_arr2"
   ]
  },
  {
   "cell_type": "code",
   "execution_count": 36,
   "metadata": {},
   "outputs": [
    {
     "data": {
      "text/plain": [
       "100"
      ]
     },
     "execution_count": 36,
     "metadata": {},
     "output_type": "execute_result"
    }
   ],
   "source": [
    "len(ratings_arr2) #100 users"
   ]
  },
  {
   "cell_type": "code",
   "execution_count": 37,
   "metadata": {},
   "outputs": [],
   "source": [
    "users2 = []\n",
    "\n",
    "# Random generation of values for the user matrix\n",
    "for _ in range(100):\n",
    "    user = []\n",
    "    for _ in range(10):\n",
    "        user.append(gs(0, 1))\n",
    "    users2.append(user)\n",
    "users_arr2 = np.array(users2)"
   ]
  },
  {
   "cell_type": "code",
   "execution_count": 38,
   "metadata": {},
   "outputs": [],
   "source": [
    "items2 = []\n",
    "\n",
    "# Random generation of values for the item matrix\n",
    "for _ in range(100):\n",
    "    item = []\n",
    "    for _ in range(10):\n",
    "        item.append(gs(0, 1))\n",
    "    items2.append(item)\n",
    "items_arr2 = np.array(items2)"
   ]
  },
  {
   "cell_type": "code",
   "execution_count": 39,
   "metadata": {},
   "outputs": [
    {
     "data": {
      "text/plain": [
       "array([[ 1.55152282e+00,  8.79746156e-01,  1.24509006e+00,\n",
       "         6.64803857e-02, -4.39662187e-01,  2.03228916e-02,\n",
       "         1.78496004e+00, -3.39799513e-01, -1.85459029e+00,\n",
       "        -2.48532660e+00],\n",
       "       [ 6.25239182e-01,  8.20026293e-03,  1.91797629e+00,\n",
       "         2.13416913e+00, -1.01870863e+00,  1.12995740e+00,\n",
       "         4.36071762e-01, -8.32971695e-01, -2.58398762e-01,\n",
       "        -1.25577674e-01],\n",
       "       [ 6.99972657e-01, -5.58047093e-01,  1.28299039e+00,\n",
       "         3.20342348e-01,  1.37667558e+00, -1.02389697e-01,\n",
       "         2.83527086e-01, -5.88738615e-01,  4.80044076e-01,\n",
       "         8.72344918e-01],\n",
       "       [ 4.76615373e-01, -1.95327544e-02, -1.15133028e+00,\n",
       "        -7.65326035e-01, -1.86287306e+00, -3.08112624e-01,\n",
       "        -7.86933050e-02,  3.57913278e-01, -6.09647168e-01,\n",
       "        -4.80096311e-01],\n",
       "       [-9.62794289e-01, -1.21679537e+00,  1.12415183e+00,\n",
       "         7.75595047e-01, -9.53787381e-02, -2.36683302e-01,\n",
       "         8.85437887e-01, -1.18460983e+00, -6.18594037e-01,\n",
       "        -1.71512573e+00],\n",
       "       [-7.52915403e-01,  9.24789261e-01, -4.23611502e-01,\n",
       "         1.50551495e+00, -1.47466777e+00,  1.05599784e+00,\n",
       "         2.69622898e-01,  2.87643993e+00, -3.23870303e-01,\n",
       "         8.28231992e-01],\n",
       "       [ 3.32075252e-02,  5.66504878e-01,  2.28253158e-01,\n",
       "         3.36860818e-01, -4.26434340e-01, -2.61994581e-01,\n",
       "         8.51226423e-01,  6.83494587e-01,  2.30915317e-01,\n",
       "         3.15017016e-01],\n",
       "       [ 1.94707494e-01, -1.51322051e+00, -1.39907292e+00,\n",
       "        -7.60814660e-01, -4.69852895e-01,  2.02150973e-01,\n",
       "        -1.47334199e+00, -1.88253669e+00, -1.26037340e+00,\n",
       "        -4.28165061e-01],\n",
       "       [ 6.33858653e-01, -2.62850596e-01, -2.58677409e-01,\n",
       "         4.39276570e-02,  3.61281452e-01,  5.42767650e-01,\n",
       "         2.31078485e-01,  1.01821062e-01,  4.59906961e-01,\n",
       "        -6.08010498e-01],\n",
       "       [ 4.55405025e-01,  1.08138383e+00, -5.48269746e-01,\n",
       "        -8.44216269e-01, -2.24517013e-01, -8.55261987e-01,\n",
       "         5.97178252e-01,  6.59640203e-01,  1.02479715e+00,\n",
       "        -2.17622439e-01],\n",
       "       [-8.80156810e-01,  2.04136511e+00, -1.41770331e+00,\n",
       "        -6.30157238e-01,  1.74669605e+00,  8.16978921e-02,\n",
       "         9.94365202e-01, -2.93709319e-01, -2.97453639e+00,\n",
       "         2.45496746e-01],\n",
       "       [ 1.23983172e+00,  1.66581184e+00,  8.52575991e-02,\n",
       "         1.35831460e+00,  2.10214585e+00, -5.81296175e-01,\n",
       "        -1.89885353e-01, -1.02277426e+00,  1.84680030e-01,\n",
       "        -1.40097411e+00],\n",
       "       [-4.31397379e-01, -1.74208481e+00, -5.17010612e-02,\n",
       "         5.30011367e-02, -1.85411845e+00,  2.01179046e-01,\n",
       "        -6.88558474e-01, -4.65907915e-03, -7.26592170e-01,\n",
       "         1.27351849e+00],\n",
       "       [-1.00132044e-01, -1.18164817e+00, -2.05993282e+00,\n",
       "        -4.04623509e-01,  1.37581160e+00, -5.50854964e-02,\n",
       "        -8.13674570e-01, -6.92511470e-01,  1.70641390e+00,\n",
       "        -5.56618222e-01],\n",
       "       [-1.53019230e+00,  4.45057231e-01, -1.18997585e+00,\n",
       "        -3.63002551e-01,  1.09450155e-02, -3.01578894e-01,\n",
       "        -5.07376509e-01,  8.88158426e-01, -1.23659101e+00,\n",
       "        -1.26874848e+00],\n",
       "       [-2.02590095e+00,  3.27169216e-01,  1.99913618e+00,\n",
       "        -9.55363087e-01, -5.61969616e-01, -4.57576602e-01,\n",
       "        -5.32369364e-01,  1.22643516e+00, -8.02513140e-01,\n",
       "         2.64820457e-01],\n",
       "       [-1.62217318e-01, -2.29444591e-01,  2.78681859e-01,\n",
       "         2.14874195e+00, -2.04358186e-02,  7.85078256e-01,\n",
       "        -2.82360712e-01, -5.52302218e-02,  1.04294133e+00,\n",
       "        -3.24378993e-01],\n",
       "       [-8.45836689e-01,  6.39402755e-01,  1.74034034e+00,\n",
       "        -4.62760408e-01, -2.71554297e-01,  1.81517138e+00,\n",
       "        -9.94317885e-01, -2.99379397e-01, -2.46929369e+00,\n",
       "        -2.71809341e-02],\n",
       "       [ 3.95617319e-01, -1.37364429e+00, -4.68338974e-01,\n",
       "         1.27061612e+00,  2.84548124e+00,  9.48245458e-01,\n",
       "         3.35279527e-01,  1.43276002e+00, -1.16030391e-01,\n",
       "         4.82538122e-01],\n",
       "       [ 2.86570662e-01,  2.99810295e+00, -8.28355183e-01,\n",
       "        -3.32521428e-01, -6.41909192e-01, -1.86768546e-01,\n",
       "        -1.61642541e-01, -3.74075688e-01, -1.46132856e+00,\n",
       "        -1.92966448e+00],\n",
       "       [ 5.23035645e-01,  6.83827969e-02, -2.86389476e-03,\n",
       "        -7.72867868e-01, -8.19894681e-01, -1.24743863e+00,\n",
       "        -1.87557645e+00,  1.10007592e+00,  1.70207034e-01,\n",
       "         5.73638508e-01],\n",
       "       [ 1.89485285e+00,  1.33358106e+00, -4.56544378e-01,\n",
       "         1.16393096e+00, -3.59478857e-01, -1.13515996e-01,\n",
       "         2.02055505e+00, -2.19042316e-01,  4.92446076e-02,\n",
       "        -6.51345355e-02],\n",
       "       [ 1.13933650e-01,  1.73296674e+00,  6.62293452e-01,\n",
       "        -2.31067381e+00,  4.78849736e-01, -1.06581817e-01,\n",
       "        -4.85216154e-01,  1.53314242e-01,  1.74524881e-01,\n",
       "        -1.73020133e+00],\n",
       "       [-4.98249308e-01,  1.10395337e-01, -3.97956730e-01,\n",
       "        -7.02796905e-01,  1.52805438e+00,  8.81387744e-01,\n",
       "        -5.98565998e-01,  7.89540909e-01,  8.96297696e-01,\n",
       "         2.23502574e+00],\n",
       "       [-3.39726161e-01, -2.17279210e+00, -1.92132756e+00,\n",
       "        -1.81203115e+00,  3.21789698e-01, -3.09581366e+00,\n",
       "         4.79157174e-01,  7.79625989e-01, -1.51478421e+00,\n",
       "        -2.11573943e-01],\n",
       "       [ 1.05617240e+00,  2.88633883e+00,  4.27482334e-02,\n",
       "        -9.29514419e-01, -5.33076227e-01,  8.37888567e-01,\n",
       "         1.98450767e-02, -4.67199043e-01, -1.82216871e+00,\n",
       "        -1.42483362e-01],\n",
       "       [ 1.52168697e-01,  6.31380680e-01, -1.11927012e+00,\n",
       "        -1.31031742e+00, -5.29741320e-03, -3.72100734e-01,\n",
       "         7.16464154e-01, -3.14317355e-02, -1.21845276e+00,\n",
       "        -1.84292534e+00],\n",
       "       [-1.71551220e+00,  6.06545919e-02, -1.08938257e+00,\n",
       "         9.33080191e-01,  9.20355896e-02,  2.77975913e-01,\n",
       "        -8.26035547e-02,  2.51797502e-02, -1.82336146e+00,\n",
       "         2.33785365e+00],\n",
       "       [ 1.32359172e+00, -5.83463963e-01, -1.64417000e+00,\n",
       "         9.64932576e-01,  1.95401691e+00, -3.78048032e-01,\n",
       "         1.65502129e+00,  9.81941260e-01, -1.06347733e+00,\n",
       "        -7.19310003e-01],\n",
       "       [ 4.01850934e-01,  3.61039069e-01, -3.33135373e+00,\n",
       "         1.18408985e-01, -1.37668697e-01, -9.02336225e-01,\n",
       "        -1.81773104e-01, -1.81651049e-01,  4.45634838e-01,\n",
       "        -7.51083463e-01],\n",
       "       [-7.06424459e-01,  1.71894094e+00, -5.33379604e-01,\n",
       "         1.90489801e+00,  7.95151037e-01,  2.85781122e-01,\n",
       "         5.28909543e-01, -1.21446607e-01, -5.08189767e-02,\n",
       "         9.75775792e-01],\n",
       "       [ 5.21605662e-01,  7.47516042e-01, -3.34664910e-01,\n",
       "         2.06445304e-01, -3.87722086e-01, -7.63944453e-02,\n",
       "        -3.02825211e-01,  7.88119881e-01,  2.79148319e+00,\n",
       "         4.01443538e-01],\n",
       "       [-7.40336854e-01,  1.39287640e+00,  1.57946924e+00,\n",
       "        -1.69248433e+00, -1.55900398e+00, -1.17677048e+00,\n",
       "        -2.90502176e-01,  3.39995198e-01, -8.03048637e-02,\n",
       "         8.97684395e-01],\n",
       "       [ 4.85248707e-01, -4.09674863e-01,  4.21149933e-01,\n",
       "         1.74505813e+00,  9.32158653e-02,  7.99162969e-01,\n",
       "         6.87147413e-01, -1.06102319e+00, -1.91397564e+00,\n",
       "        -5.08206570e-01],\n",
       "       [ 4.76125171e-01, -1.16858852e+00, -1.35410478e+00,\n",
       "        -7.15457697e-01, -3.70576585e-01,  1.21253248e+00,\n",
       "        -6.25297439e-01,  2.03047004e+00,  4.17127468e-03,\n",
       "        -2.88380812e-01],\n",
       "       [ 9.11214160e-01, -5.09640451e-01, -4.33016487e-01,\n",
       "        -6.62806315e-01,  3.57418025e-01,  1.21252276e-01,\n",
       "         1.26440897e+00, -4.19775361e-01,  8.91541332e-01,\n",
       "         7.08105972e-01],\n",
       "       [-9.28982849e-01,  1.81917025e-01, -7.56388430e-01,\n",
       "        -2.04191073e-01, -1.07999210e+00, -6.93539271e-01,\n",
       "         1.13183900e-01, -3.97900144e-01,  7.09494901e-01,\n",
       "         1.26001075e+00],\n",
       "       [-1.82172430e+00, -8.43510260e-01, -1.25473369e-01,\n",
       "        -1.35034858e-01,  3.09391969e-01,  1.53863121e+00,\n",
       "         1.21854404e+00,  2.19587516e+00,  7.82912915e-01,\n",
       "        -9.01365414e-01],\n",
       "       [ 1.02743515e-01, -6.69298862e-03, -7.90764688e-01,\n",
       "        -1.14951989e-01,  4.79248077e-01, -1.66279379e+00,\n",
       "         4.81605820e-01,  1.16373225e+00,  6.41122890e-01,\n",
       "         2.50915151e-01],\n",
       "       [-3.26170815e-01, -5.66716143e-01, -9.04737432e-01,\n",
       "        -1.59549362e-01, -1.10334895e+00,  7.54703642e-01,\n",
       "         6.97496618e-01, -4.38070893e-01,  1.19933417e-02,\n",
       "         1.96918390e+00],\n",
       "       [ 7.39945588e-01,  7.36687231e-01, -6.99624879e-01,\n",
       "        -9.42098642e-01,  1.01002016e+00, -1.41702734e-01,\n",
       "         2.75925169e-01,  7.12091786e-01,  4.42278579e-01,\n",
       "         4.60379174e-01],\n",
       "       [-3.20258525e-01, -3.91215392e-01, -2.53797099e-01,\n",
       "        -4.68772877e-01,  3.43421528e+00,  8.86500758e-01,\n",
       "        -5.21401483e-02, -1.62026149e+00, -2.15013943e-01,\n",
       "        -4.88992959e-01],\n",
       "       [ 5.03430420e-01,  2.48083111e+00, -1.29609938e+00,\n",
       "        -6.56039121e-01, -3.84785575e-01, -1.84269074e+00,\n",
       "         4.73863681e-01,  4.10708045e-02,  1.51304114e-01,\n",
       "         5.37562617e-01],\n",
       "       [-2.81998718e-01, -1.73213075e+00,  6.02170361e-01,\n",
       "        -6.51004427e-01, -1.24494652e+00,  7.77757860e-01,\n",
       "        -4.58979870e-01, -9.80406365e-01,  4.25597730e-01,\n",
       "         1.35457190e+00],\n",
       "       [ 2.50380390e-01,  8.99265547e-01,  1.35237474e+00,\n",
       "        -1.44102028e+00, -6.07487742e-01, -9.88588847e-01,\n",
       "         1.01834028e+00, -3.36951781e-01, -1.41372750e-02,\n",
       "         1.06565813e+00],\n",
       "       [ 9.47261870e-01,  1.46412264e+00,  8.33768268e-01,\n",
       "        -1.43668314e+00, -6.67367775e-01, -1.02616596e-01,\n",
       "         6.32667590e-01,  5.26182865e-01, -1.30231128e-01,\n",
       "         6.10560409e-01],\n",
       "       [ 1.35226495e-01, -1.12414918e+00,  2.91398218e-02,\n",
       "        -3.66332568e-01, -8.15394423e-01,  2.40069304e-01,\n",
       "         1.07619054e-01,  6.61072306e-01,  1.25448901e+00,\n",
       "        -1.44387704e+00],\n",
       "       [ 7.71991704e-01, -1.80174504e-01, -1.06558969e+00,\n",
       "         1.32233235e-01,  1.16492857e+00,  1.29629467e+00,\n",
       "        -6.02846727e-01, -7.79411200e-01,  1.26224504e+00,\n",
       "        -1.07379913e-01],\n",
       "       [-3.51244190e-01, -4.34988730e-01, -1.06694001e-01,\n",
       "         9.56732425e-01, -1.37890945e-02,  4.56007441e-01,\n",
       "         7.80065931e-01, -9.19143362e-01, -3.75633257e-01,\n",
       "         9.44971882e-01],\n",
       "       [ 2.31613981e+00,  9.67361621e-01,  1.67354319e+00,\n",
       "         1.33419843e+00, -9.86973729e-03,  7.48404194e-01,\n",
       "         2.23340113e+00, -6.08290911e-01,  8.06651549e-01,\n",
       "        -1.02853692e+00],\n",
       "       [ 2.00803761e+00, -1.03221082e+00, -1.91626304e+00,\n",
       "        -1.97791082e+00,  2.52331757e+00,  5.34508406e-02,\n",
       "        -7.14751869e-01,  1.35246448e+00, -1.22203055e+00,\n",
       "        -4.30202478e-01],\n",
       "       [ 6.55641704e-01,  6.01680181e-03,  6.64244601e-01,\n",
       "         5.38813702e-01,  6.75899527e-02, -7.57569845e-01,\n",
       "         4.46791059e-01, -1.25103391e+00, -1.02694449e+00,\n",
       "        -1.07783036e+00],\n",
       "       [ 1.25142258e+00, -3.15835204e-01, -6.08333687e-01,\n",
       "         7.65342122e-01, -1.49002937e+00, -1.48291664e+00,\n",
       "        -8.93521213e-01,  1.76142309e+00, -1.04953086e+00,\n",
       "         1.32052718e+00],\n",
       "       [-1.14159577e+00, -2.36308296e-01, -1.16616497e+00,\n",
       "         5.41406082e-01, -1.72549067e-01, -4.33652764e-01,\n",
       "         5.75707312e-01, -4.41227412e-01,  4.52832463e-01,\n",
       "        -5.03653483e-01],\n",
       "       [-2.82906609e+00,  1.73708194e+00,  1.35700827e+00,\n",
       "         6.65891018e-01,  1.06667044e+00, -1.62579276e-01,\n",
       "         1.07683893e+00,  1.23265012e+00,  8.88379764e-02,\n",
       "         4.42554813e-01],\n",
       "       [-9.07509293e-02,  2.23580071e+00, -2.59238162e+00,\n",
       "         1.66493471e+00, -1.30779597e+00, -1.64335476e+00,\n",
       "         3.46814169e-01, -2.75700622e-01,  1.22001603e+00,\n",
       "        -6.35528392e-01],\n",
       "       [ 6.31790245e-01,  4.20772961e-01, -1.35035354e+00,\n",
       "        -9.59520347e-01,  6.87820227e-01, -2.81004932e-01,\n",
       "        -7.96422047e-01,  1.20952475e-01,  8.38038443e-01,\n",
       "         1.45937228e+00],\n",
       "       [-3.05173199e-01, -2.26283610e+00, -3.11128012e+00,\n",
       "         2.04589320e-01,  5.92257453e-01, -2.00456261e+00,\n",
       "         9.57226204e-01,  6.96325512e-01,  1.69584030e-01,\n",
       "         1.29836494e+00],\n",
       "       [ 1.54400449e+00,  9.01363405e-04,  1.53408425e+00,\n",
       "        -6.67811395e-01, -5.62051234e-01, -2.07499553e-01,\n",
       "        -1.95804057e-01, -2.80311774e+00, -1.33554559e+00,\n",
       "        -6.46016819e-01],\n",
       "       [ 6.56583536e-01,  1.73907246e+00,  3.01088727e-02,\n",
       "         3.02669714e-01,  8.04416811e-01,  1.69264621e+00,\n",
       "         2.70118206e-01,  7.91297047e-01,  1.01260256e+00,\n",
       "         4.10332610e-01],\n",
       "       [-1.85874928e-01, -1.71596365e-01, -2.43624608e-01,\n",
       "        -1.58612875e+00, -1.12466791e+00,  1.24945312e+00,\n",
       "         1.32143580e-01, -1.89290413e+00, -1.38820425e+00,\n",
       "         6.33925858e-01],\n",
       "       [ 2.95234096e-01, -5.09242434e-01, -4.41900895e-01,\n",
       "         4.25087191e-01,  6.05411137e-01,  1.35842761e-01,\n",
       "         5.75610820e-01, -8.71410785e-01,  5.04312903e-01,\n",
       "         2.97511705e-01],\n",
       "       [ 9.27946971e-01,  4.59762916e-01, -1.42203428e+00,\n",
       "         6.19420802e-01,  7.94897901e-01,  1.36731364e+00,\n",
       "        -4.68875881e-01, -2.02127020e+00, -2.10993008e+00,\n",
       "        -4.14398863e-01],\n",
       "       [-2.14374246e+00, -1.39247386e+00, -7.68619197e-01,\n",
       "        -4.58614004e-01, -1.79757609e+00,  5.46150261e-01,\n",
       "        -1.21952002e+00, -8.20628730e-01,  2.34255659e-01,\n",
       "         1.06647918e+00],\n",
       "       [ 8.94670774e-01,  1.68040907e+00, -8.19736681e-01,\n",
       "         2.94682485e-01, -1.79278264e+00, -1.41388787e+00,\n",
       "         5.67915726e-01, -1.81346787e+00,  2.77244587e-01,\n",
       "         7.89788883e-01],\n",
       "       [ 1.57966842e-01, -1.10703731e+00,  1.10970991e+00,\n",
       "         7.14307273e-01,  1.50296953e-01, -4.98541783e-01,\n",
       "         1.54192294e+00,  5.41944047e-01, -1.92923252e+00,\n",
       "        -4.12726775e-01],\n",
       "       [-9.31370181e-01, -3.69194591e-01, -9.30778444e-01,\n",
       "        -1.27528875e+00,  1.34082783e-01, -3.00963069e-01,\n",
       "         8.72051744e-01,  1.84695296e+00,  2.24512944e-01,\n",
       "        -7.06922097e-01],\n",
       "       [ 1.87721149e+00,  6.19845014e-01, -3.77914162e-01,\n",
       "        -1.06379088e-01, -4.05291191e-01, -1.01358836e-01,\n",
       "        -4.37691263e-01, -6.95373907e-02, -8.82494419e-02,\n",
       "         1.25872056e+00],\n",
       "       [ 1.41420628e-01, -2.64638946e-01, -1.90425146e+00,\n",
       "         1.13700141e-01,  1.12865523e+00,  1.35930160e+00,\n",
       "        -1.36887176e-01, -4.10521470e-01,  6.47158200e-01,\n",
       "         8.65578032e-01],\n",
       "       [-1.25120501e+00,  6.66284366e-01,  1.47997268e+00,\n",
       "         8.15522653e-01, -1.46695497e+00,  3.67828229e-01,\n",
       "         9.06812864e-01, -4.13259491e-02,  1.49010198e-01,\n",
       "         3.14508250e-02],\n",
       "       [ 1.45696231e+00,  2.52600020e-01,  1.80029978e+00,\n",
       "         2.75953957e-01,  8.66436039e-01,  1.67242435e-01,\n",
       "         8.62433465e-02, -1.81460511e+00, -3.56365762e-01,\n",
       "        -2.13302422e-01],\n",
       "       [ 9.04513039e-01,  2.30235697e+00,  1.42675334e+00,\n",
       "         1.01295982e+00, -9.34989005e-01, -2.34008016e-01,\n",
       "         3.87509352e-01, -1.61562260e+00, -1.26019333e+00,\n",
       "        -9.75868314e-01],\n",
       "       [ 8.63950677e-01, -6.30648833e-02, -8.35835069e-01,\n",
       "        -1.57093730e+00, -8.27136423e-01, -2.08970705e-02,\n",
       "        -1.54141481e-01,  5.68524783e-01, -5.42622812e-01,\n",
       "        -1.60516756e-01],\n",
       "       [-6.13078323e-01, -1.08501180e+00, -2.81383052e-01,\n",
       "         1.18238844e+00,  6.44301223e-02, -5.67666549e-01,\n",
       "         3.71972257e-01, -7.37386052e-01, -2.12628476e-01,\n",
       "        -2.03873365e-01],\n",
       "       [-2.08620837e-01,  1.97280898e-01, -2.11510620e-01,\n",
       "         9.20184839e-02, -6.07530447e-02, -4.36815331e-02,\n",
       "        -5.31927623e-02,  7.48912322e-01, -5.15462701e-01,\n",
       "         7.54881944e-01],\n",
       "       [-7.76315941e-01,  9.20990077e-01, -1.00121835e+00,\n",
       "        -1.91222259e-01, -6.76673289e-01, -2.82788600e-01,\n",
       "         4.68649141e-01,  6.38883179e-01,  1.22243934e-01,\n",
       "         8.72474627e-01],\n",
       "       [-5.05004071e-01, -8.10585056e-01,  7.62396175e-01,\n",
       "        -1.57933165e+00, -2.07244017e-01,  2.06397970e-01,\n",
       "        -3.11647707e-01, -1.36551250e+00,  6.45210648e-01,\n",
       "         2.23338719e-01],\n",
       "       [-1.66354202e+00,  1.05302790e+00, -1.29556108e+00,\n",
       "        -4.96656676e-01,  4.21168830e-02, -1.80297023e-01,\n",
       "        -1.00941718e+00, -1.00181149e+00,  2.10683893e+00,\n",
       "        -8.55715837e-01],\n",
       "       [ 1.45534642e-01,  3.34961152e-01, -3.46465482e-02,\n",
       "         3.08305448e-01,  7.16393906e-01,  6.93452888e-01,\n",
       "         2.61950400e-01, -4.43581148e-01, -1.15294655e+00,\n",
       "        -4.21590866e-01],\n",
       "       [ 1.40101003e+00,  4.37794113e-02, -1.07272263e-01,\n",
       "         1.96915095e+00,  1.07209648e+00,  2.18651087e+00,\n",
       "        -2.31168471e+00,  2.25543943e-02, -9.69918672e-01,\n",
       "        -9.57646331e-02],\n",
       "       [ 1.06570433e-01, -1.22129326e+00,  7.26253746e-01,\n",
       "         3.09769463e-01,  2.07210942e-01,  3.04329300e-01,\n",
       "        -4.57094522e-01, -1.31200933e+00, -1.71349727e-01,\n",
       "         5.87706262e-01],\n",
       "       [-1.34071226e+00, -6.45568496e-01, -1.24741526e-01,\n",
       "        -1.01573869e+00,  4.05104563e-01,  6.26038929e-01,\n",
       "        -1.39138574e+00,  7.67202533e-01, -1.08741742e+00,\n",
       "         1.18370375e+00],\n",
       "       [-6.82786770e-01, -1.22798311e-01, -6.34760697e-01,\n",
       "         1.61551621e+00,  1.76824905e+00,  1.00371266e+00,\n",
       "         3.63154185e-01, -7.46781944e-01,  9.87878672e-01,\n",
       "        -1.10895280e-01],\n",
       "       [-1.01830771e+00,  1.31832593e+00,  9.64833805e-02,\n",
       "        -2.00364855e+00,  9.80463218e-01,  2.67027558e-01,\n",
       "         1.96716492e-01,  1.48788075e+00, -8.11863579e-01,\n",
       "         1.28052409e+00],\n",
       "       [-6.87916215e-01,  2.43430096e+00,  1.84236998e-01,\n",
       "        -1.14606678e-01,  8.38970537e-01,  4.93372637e-01,\n",
       "        -6.87302695e-01,  4.28991081e-01, -3.30433522e-01,\n",
       "         1.26707817e+00],\n",
       "       [ 4.69227238e-01, -1.08953894e+00,  1.49667181e+00,\n",
       "        -8.46827300e-01, -1.15481300e-01, -9.51615862e-01,\n",
       "        -1.10659075e+00, -4.06982022e-01,  1.23431954e+00,\n",
       "         2.55828651e+00],\n",
       "       [-1.31420281e+00,  2.33629480e+00, -1.84430761e+00,\n",
       "         4.03953040e-01,  1.41412469e+00,  5.75678387e-01,\n",
       "         1.48161697e+00,  3.56108289e-01,  1.83159556e+00,\n",
       "         6.92410436e-01],\n",
       "       [ 1.56443426e-01,  2.22283720e+00,  4.34264225e-01,\n",
       "         1.64564556e+00, -1.15159160e+00,  1.48340120e+00,\n",
       "        -4.21676398e-02,  8.68970820e-01, -2.56038427e-01,\n",
       "        -9.68799548e-01],\n",
       "       [ 9.70643241e-02,  5.43617713e-01,  3.57011616e-01,\n",
       "         2.66915951e-01, -9.89505119e-01, -7.17542874e-01,\n",
       "        -3.16124554e-01, -1.73103948e+00, -1.31294911e+00,\n",
       "        -3.75888217e-01],\n",
       "       [ 4.25581229e-01,  1.27213467e+00, -4.52066587e-01,\n",
       "        -4.86728453e-01,  2.11138891e-01,  9.96889991e-01,\n",
       "        -3.16781016e-01,  6.41316636e-01,  1.45207106e+00,\n",
       "        -1.32323935e+00],\n",
       "       [-4.16720297e-01, -2.46638821e+00,  1.19776358e+00,\n",
       "        -6.76918703e-01, -1.68471151e+00, -5.17410079e-02,\n",
       "        -4.64419500e-01,  8.77921751e-01, -1.14463299e+00,\n",
       "         2.80794551e-01],\n",
       "       [-1.05866169e+00,  6.98294773e-01,  1.38491491e+00,\n",
       "        -1.59059745e+00,  6.37870966e-01,  4.28358873e-02,\n",
       "         1.46952552e+00, -3.10521507e+00,  4.67067731e-01,\n",
       "         8.72689595e-02],\n",
       "       [ 8.72217734e-02, -4.79575203e-01,  9.36000366e-01,\n",
       "         9.70833143e-01,  6.65591102e-01, -3.42691234e-01,\n",
       "        -8.10910748e-01,  7.87893490e-01, -2.28576459e-01,\n",
       "        -7.48663134e-01],\n",
       "       [-5.83323069e-01,  2.71778694e+00,  1.17304096e+00,\n",
       "         1.09741821e+00, -6.76711077e-02,  3.97279259e-02,\n",
       "        -5.02318121e-01, -4.78032169e-01, -1.19614509e+00,\n",
       "         1.30784750e+00],\n",
       "       [ 2.30239032e-01,  2.57630200e-01, -1.43938494e-01,\n",
       "         3.55509252e-01,  8.73840346e-01,  8.54011815e-01,\n",
       "         1.12619004e-01, -8.14496888e-01, -6.93890824e-01,\n",
       "        -1.74583788e-01],\n",
       "       [-9.08820903e-01,  6.86818138e-01,  6.98466154e-01,\n",
       "        -1.13075934e+00,  4.18951714e-02, -1.02191381e+00,\n",
       "         7.66575929e-01,  1.40694888e+00,  1.27497720e+00,\n",
       "        -4.90029480e-01],\n",
       "       [-3.90486158e-01, -1.43657839e-02, -8.61622893e-01,\n",
       "         2.72245825e-01, -3.83164434e-01,  2.16106232e-01,\n",
       "         1.41039186e+00, -6.23232423e-01,  5.20757216e-01,\n",
       "        -6.51878660e-01],\n",
       "       [-1.01491196e+00, -1.26142128e-01, -3.37408119e-02,\n",
       "        -1.88092430e+00, -1.18390475e+00, -1.26834203e+00,\n",
       "        -6.08390965e-01,  9.92918480e-01, -8.46868631e-01,\n",
       "         6.52676955e-01],\n",
       "       [ 7.79966423e-02, -2.98079266e-01, -1.72467107e-01,\n",
       "        -4.66917231e-01,  1.20143198e+00,  1.26000292e+00,\n",
       "         2.91637700e-01,  3.30669542e-02,  1.06793853e+00,\n",
       "         2.84994364e+00],\n",
       "       [-6.68535378e-01, -8.55507836e-02, -1.60594391e+00,\n",
       "         1.31855964e+00,  1.72049285e+00,  1.06744551e+00,\n",
       "         5.69850512e-01,  9.86046950e-02, -8.44949167e-01,\n",
       "         2.41864774e-01]])"
      ]
     },
     "execution_count": 39,
     "metadata": {},
     "output_type": "execute_result"
    }
   ],
   "source": [
    "users_arr2"
   ]
  },
  {
   "cell_type": "code",
   "execution_count": 41,
   "metadata": {},
   "outputs": [
    {
     "data": {
      "text/plain": [
       "array([[-1.39499175e-02, -4.58700197e-01,  3.16876949e-01,\n",
       "         6.26845772e-01,  7.49925461e-01, -5.63106932e-01,\n",
       "         4.90182759e-01, -1.08749805e+00,  5.29395319e-01,\n",
       "         1.19046156e+00],\n",
       "       [-1.93097675e+00,  1.77805550e-01, -1.14196071e+00,\n",
       "         5.86624030e-01,  1.13954265e+00, -8.01762902e-01,\n",
       "         1.87726708e+00, -1.90316552e-01, -6.45193008e-01,\n",
       "         2.48684319e+00],\n",
       "       [ 6.35681501e-01,  5.66337417e-01, -1.67376538e+00,\n",
       "        -5.97023578e-01,  1.73324863e+00, -1.62226309e-01,\n",
       "        -4.04657851e-01,  6.15111876e-01,  1.43780811e+00,\n",
       "        -1.67632744e+00],\n",
       "       [-1.02690655e-01, -1.22212314e+00, -5.76795870e-01,\n",
       "         3.79105902e-01, -8.45342159e-01, -1.09172759e+00,\n",
       "         3.30584771e-01,  3.27019472e-01, -1.05322978e+00,\n",
       "         1.11365737e+00],\n",
       "       [ 1.84677146e+00,  2.10396825e-01, -3.15552206e+00,\n",
       "        -1.46813135e-01, -3.19931287e-01, -1.78098569e-01,\n",
       "        -3.19748684e-01,  1.26680837e+00,  1.45329366e+00,\n",
       "        -6.29312730e-01],\n",
       "       [-7.34640396e-01,  2.22936733e-01,  3.57899503e-01,\n",
       "        -9.50315104e-01, -1.06538029e+00, -7.52271050e-01,\n",
       "         9.77738978e-01, -3.68818403e-01, -1.28892586e+00,\n",
       "        -1.28059356e+00],\n",
       "       [ 9.98288787e-01, -1.06870740e+00,  6.92503459e-01,\n",
       "        -1.25438574e+00,  9.87085566e-02, -1.65264889e+00,\n",
       "        -7.59589154e-01, -1.51205627e+00,  2.63932852e-01,\n",
       "        -3.43805199e-01],\n",
       "       [-5.54670885e-01, -7.79190663e-02,  2.75185908e-01,\n",
       "        -1.28679689e+00, -8.46799996e-01, -9.82403348e-01,\n",
       "         7.78753054e-01,  1.02952679e+00, -4.73796382e-01,\n",
       "         1.65377303e+00],\n",
       "       [ 9.86363036e-01, -8.44167095e-01,  5.17864854e-01,\n",
       "        -1.90245259e+00,  2.01347598e+00, -6.08523431e-01,\n",
       "         1.48559280e+00,  1.20334219e+00,  2.49351455e-01,\n",
       "        -6.65225939e-01],\n",
       "       [ 3.29901493e-01, -1.69875976e+00, -1.16529822e+00,\n",
       "         5.49469643e-01,  3.25429486e-01, -8.21886534e-02,\n",
       "        -1.55049349e-01, -1.49721220e-01, -5.42383229e-01,\n",
       "        -2.06542170e-01],\n",
       "       [-7.03340926e-01, -8.52802479e-01, -1.83247796e+00,\n",
       "         1.04212147e+00, -3.88203501e-01, -4.81053368e-01,\n",
       "         2.73022923e-01,  1.25498117e+00,  7.19202043e-01,\n",
       "        -2.39956694e-02],\n",
       "       [-6.95629442e-01, -5.51807601e-01, -1.14051472e+00,\n",
       "        -1.86228857e+00, -1.25527945e+00, -1.73207911e+00,\n",
       "        -1.45162653e+00, -1.85315663e-01, -1.74204078e-01,\n",
       "        -7.04367263e-02],\n",
       "       [ 3.42823382e-01, -7.43359004e-01,  9.19215485e-01,\n",
       "         1.77462298e-02, -1.23357536e+00,  8.10616289e-01,\n",
       "         2.14213847e+00, -2.48789825e-01, -9.75990543e-01,\n",
       "        -4.31611678e-01],\n",
       "       [ 1.77512441e+00,  3.37928357e-01,  2.16945242e-01,\n",
       "        -9.97729611e-01,  1.03147984e-01, -1.24983258e+00,\n",
       "         8.89599022e-01,  1.17117198e+00,  1.05276557e+00,\n",
       "         7.01021100e-01],\n",
       "       [-8.24633007e-01, -4.06642162e-01, -1.54829602e+00,\n",
       "        -1.65610995e+00,  2.67350982e-01,  1.25644580e+00,\n",
       "         1.64075433e-01, -4.24171348e-01,  1.00353229e+00,\n",
       "        -1.80884839e+00],\n",
       "       [ 1.87678774e-01, -1.80480395e+00, -3.53130596e-01,\n",
       "         8.34754116e-01,  4.49189333e-01, -2.33062893e-01,\n",
       "         9.58770724e-01, -1.44356757e+00, -4.56681034e-01,\n",
       "         3.37662583e-01],\n",
       "       [-1.46801397e+00, -9.01011730e-01,  4.67296088e-01,\n",
       "        -6.45191537e-01,  1.58152787e+00, -1.16439296e+00,\n",
       "         2.96894088e-01, -5.20283138e-01,  6.48456400e-04,\n",
       "        -4.42368129e-02],\n",
       "       [-5.93683868e-01, -1.04413388e+00, -1.76145789e+00,\n",
       "        -1.28642207e+00, -2.76039529e+00,  2.30452575e+00,\n",
       "         2.07270344e+00,  1.86903800e+00, -5.10053608e-01,\n",
       "         4.37362249e-01],\n",
       "       [ 5.71998785e-01,  3.20165267e-01, -1.42101565e+00,\n",
       "        -1.20427135e+00,  1.01021502e-01, -2.03533948e-01,\n",
       "         9.13225479e-01, -3.26556554e-01,  1.35711239e+00,\n",
       "         4.98111692e-01],\n",
       "       [ 1.23504045e+00,  6.80024962e-01,  1.46623648e+00,\n",
       "         7.25888959e-01,  9.64566479e-01,  3.42641206e-01,\n",
       "         6.22457403e-01,  1.26433835e+00,  4.40658089e-01,\n",
       "         1.24602648e+00],\n",
       "       [-9.64544197e-01,  3.58846784e-01,  1.00261589e+00,\n",
       "         1.27013900e+00,  1.49264795e-01,  7.96349984e-01,\n",
       "         1.16286113e+00,  1.23338962e-01, -7.60989895e-01,\n",
       "         2.86489406e-01],\n",
       "       [ 8.28680885e-01,  1.34871106e+00, -5.20750839e-01,\n",
       "         1.72735941e-01, -1.63650392e+00,  1.13914075e+00,\n",
       "        -6.38530810e-01, -1.18596138e+00, -7.12758161e-01,\n",
       "         1.05519026e+00],\n",
       "       [ 1.69919558e+00,  1.10959546e+00, -2.92693588e-01,\n",
       "        -1.84710577e+00,  2.00391809e+00, -1.05572367e+00,\n",
       "         1.28276529e+00, -1.45842309e-01,  3.38874421e-01,\n",
       "        -1.53045689e-01],\n",
       "       [ 3.71910607e-02, -2.11215099e-01,  1.38110523e+00,\n",
       "        -5.81504760e-01, -2.13039931e-01,  2.64341193e+00,\n",
       "         3.50130021e-01,  1.04268519e+00,  4.51934770e-01,\n",
       "         2.83578005e-01],\n",
       "       [ 8.55130267e-01, -3.93330734e-01,  6.09987204e-01,\n",
       "        -2.84182828e-01,  8.74515817e-01, -5.11128610e-01,\n",
       "        -2.24046514e+00,  4.68490007e-01, -6.60204935e-01,\n",
       "         1.50821367e-01],\n",
       "       [ 2.18202505e+00, -5.33309440e-02, -1.76787210e-01,\n",
       "        -3.63945849e-01,  5.06115562e-01,  8.36282771e-01,\n",
       "         2.03460375e-01,  1.02694653e+00,  1.26882942e+00,\n",
       "        -2.48375739e+00],\n",
       "       [-4.63789026e-01,  1.02279027e+00, -2.62373562e+00,\n",
       "        -7.82199652e-01, -4.62388333e-01,  4.56722417e-01,\n",
       "        -1.99351978e+00,  6.82683394e-01, -8.22287010e-01,\n",
       "        -2.39954578e-01],\n",
       "       [-1.34458019e+00, -8.83889687e-01,  6.42962397e-01,\n",
       "         1.14713788e+00,  1.90861795e+00,  5.90919087e-01,\n",
       "        -8.09571389e-02,  2.85223321e-01,  4.36883472e-01,\n",
       "        -9.68216965e-01],\n",
       "       [-7.14375941e-02,  3.21866615e-01, -1.44477264e+00,\n",
       "         4.52046859e-01,  4.96702426e-01, -8.77198572e-01,\n",
       "        -2.23937486e+00, -4.88486024e-01,  1.35958475e+00,\n",
       "        -9.23438541e-01],\n",
       "       [-1.20024214e+00,  2.57683253e-03,  3.40518055e-01,\n",
       "        -2.00889666e-01,  7.18656297e-01, -1.23354524e+00,\n",
       "         1.52860546e+00, -1.46868215e+00, -1.58876956e+00,\n",
       "        -9.94220157e-01],\n",
       "       [ 5.24678164e-01,  3.93104823e-01, -2.67710764e+00,\n",
       "        -3.28366784e-01,  5.94289559e-01,  1.10755909e+00,\n",
       "        -1.12704633e-01, -1.15720107e+00, -1.60711630e-01,\n",
       "        -1.35627805e+00],\n",
       "       [ 1.06645465e-01,  1.04830814e+00,  9.40550146e-01,\n",
       "        -1.80831001e+00, -1.98356916e+00, -5.00799145e-01,\n",
       "         3.60995328e-01, -5.09712651e-01, -3.65187258e-01,\n",
       "        -7.95854910e-01],\n",
       "       [ 7.08972256e-01,  1.31355496e-01,  4.32004130e-03,\n",
       "        -2.53498242e+00,  1.73679845e+00,  2.51846251e-01,\n",
       "        -1.35306328e+00, -8.42213387e-01, -1.36197134e+00,\n",
       "         6.54649714e-01],\n",
       "       [ 1.09875014e+00, -3.82085161e-02, -3.13022760e-01,\n",
       "        -9.65687409e-01,  6.79023665e-01, -2.77796222e-01,\n",
       "        -1.43954962e+00,  9.77197534e-01,  1.07317635e+00,\n",
       "         1.41160031e+00],\n",
       "       [-4.44288919e-02,  5.03396283e-02, -4.06218975e-01,\n",
       "        -1.05989549e-01,  3.40312110e-01, -5.31210789e-01,\n",
       "        -6.13594412e-01, -6.46660818e-01,  1.68127693e+00,\n",
       "         2.62068608e+00],\n",
       "       [-6.35477951e-01, -1.32331857e+00,  8.99456895e-01,\n",
       "         8.40667446e-02,  2.34608571e+00, -1.64284128e-01,\n",
       "        -3.94364655e-01, -9.39491743e-01,  2.27963381e-01,\n",
       "         3.15180564e-01],\n",
       "       [-1.36679662e+00, -1.91395915e+00,  1.16680644e+00,\n",
       "         5.73916882e-01, -4.70770375e-01,  8.90583993e-01,\n",
       "        -1.29366075e+00,  3.60679182e-01,  1.29570268e+00,\n",
       "         3.27779787e-01],\n",
       "       [ 1.11773342e-01, -7.82860545e-01, -1.23979962e+00,\n",
       "         5.83775825e-01, -3.03682874e-01,  1.22077605e+00,\n",
       "         5.84128644e-01,  5.95382165e-02,  2.16265507e-01,\n",
       "        -1.73984112e-01],\n",
       "       [-1.27818309e-01,  2.29480246e-01, -1.27695761e+00,\n",
       "        -9.92651639e-01, -6.54476973e-01, -1.06520670e+00,\n",
       "         1.33383625e+00, -2.11178711e-01, -4.28252389e-01,\n",
       "        -1.11020633e+00],\n",
       "       [-1.37229565e-01,  5.09573345e-01,  6.71417771e-01,\n",
       "        -6.11011274e-01, -1.09578449e-01, -1.19319540e+00,\n",
       "        -9.91438137e-01, -1.04936146e+00, -2.29556746e-01,\n",
       "         1.07227149e+00],\n",
       "       [-1.06130452e+00, -3.13350646e-01,  8.16712983e-01,\n",
       "        -2.05299940e+00, -3.63775216e-01, -1.01603678e+00,\n",
       "        -3.91009762e-01,  4.91608324e-01,  8.01581900e-01,\n",
       "        -6.20190626e-01],\n",
       "       [-5.10248000e-01,  4.19441307e-01,  1.75140176e-01,\n",
       "        -1.45182052e+00,  1.36405099e+00,  2.26757541e-01,\n",
       "        -2.71246870e-01,  1.71957430e+00,  3.52705115e-01,\n",
       "        -8.22814244e-02],\n",
       "       [-1.86998609e+00, -1.93743088e+00, -1.23201324e+00,\n",
       "         3.95059609e-02, -4.26278580e-01,  3.78324377e-01,\n",
       "        -1.58461606e+00, -1.55778782e+00, -1.59127491e+00,\n",
       "        -5.80707055e-02],\n",
       "       [ 1.07604021e+00,  1.56036346e+00, -5.59245281e-01,\n",
       "         1.18620644e+00, -1.66332403e+00,  6.37072215e-02,\n",
       "         3.10481222e-01, -1.19280200e+00, -1.50864818e-02,\n",
       "        -3.28949624e-02],\n",
       "       [-9.39080685e-01, -1.18813583e+00,  2.52531810e-01,\n",
       "        -9.25265052e-01, -6.95581559e-01, -1.95132744e+00,\n",
       "        -1.03952207e+00, -1.72223221e+00,  3.47811534e-02,\n",
       "        -9.93926211e-01],\n",
       "       [-1.25488280e-01, -8.89279746e-01, -2.69220293e-01,\n",
       "         7.52245817e-02, -2.82003457e-01, -5.36774265e-01,\n",
       "         5.02711395e-01, -3.66368040e-01, -4.33549567e-02,\n",
       "        -1.95594608e+00],\n",
       "       [-7.29347569e-02,  6.30734793e-01, -1.09908758e+00,\n",
       "        -1.64074519e-01, -4.32579912e-01,  3.39623607e-01,\n",
       "         6.35466635e-01, -1.21923209e+00,  2.95895070e-01,\n",
       "         6.91975359e-01],\n",
       "       [ 1.44742335e+00, -4.53862786e-01, -1.29379761e-01,\n",
       "        -1.93249591e+00,  4.63074592e-01, -1.82567981e+00,\n",
       "         4.13019631e-01,  2.34019504e+00, -2.06307226e+00,\n",
       "        -6.16030506e-01],\n",
       "       [-4.18813152e-01, -2.05482797e-01, -6.42609766e-01,\n",
       "         4.37301388e-01, -8.90744971e-01, -2.03970144e+00,\n",
       "         6.56758195e-01,  1.56058501e+00, -3.99969044e-01,\n",
       "        -2.28500856e+00],\n",
       "       [ 1.05425159e+00,  2.16570654e+00, -2.01767656e+00,\n",
       "         1.68898191e+00,  1.13941450e+00,  2.13112088e+00,\n",
       "         2.72886385e-01,  1.51584418e+00, -7.57231935e-01,\n",
       "         1.13985446e+00],\n",
       "       [-1.80576342e-01, -4.27848402e-01,  1.51530796e+00,\n",
       "        -1.82117913e+00,  1.23695866e+00,  9.74643448e-01,\n",
       "        -1.55278912e-01,  1.66963715e-01, -7.36527218e-01,\n",
       "        -9.59704839e-01],\n",
       "       [ 2.35256996e+00, -6.63350090e-01, -1.65584112e-01,\n",
       "        -6.39818104e-02, -4.95400131e-01,  1.04524421e+00,\n",
       "        -7.93684681e-01, -1.68950484e+00,  1.06021636e-01,\n",
       "         6.48458484e-01],\n",
       "       [-3.50408308e-01, -3.64458857e-01, -5.41195319e-01,\n",
       "        -1.06923294e+00, -2.02197957e+00, -1.06188935e+00,\n",
       "         8.67901607e-01,  7.47855144e-01, -3.08402177e-01,\n",
       "         3.06213381e-02],\n",
       "       [-1.54758254e+00, -2.10763465e-01, -6.89124272e-01,\n",
       "        -3.90073627e-01,  1.85648231e+00,  4.48053367e-01,\n",
       "         2.12255535e-01,  8.30706996e-01, -5.00715147e-01,\n",
       "         9.78965354e-01],\n",
       "       [-4.13407116e-01,  7.89552123e-01,  1.26277230e+00,\n",
       "         1.00805790e+00, -1.38933074e+00,  1.55390133e+00,\n",
       "         4.68000983e-01, -1.03583364e+00,  6.90928576e-01,\n",
       "        -1.00473814e+00],\n",
       "       [ 7.84188668e-02,  1.05117734e+00,  1.82387643e-01,\n",
       "        -2.45931511e-01,  7.61077307e-01, -1.96430141e-01,\n",
       "         8.81603123e-01, -1.26950864e+00, -2.98625941e-01,\n",
       "        -3.76668648e-01],\n",
       "       [ 1.68789277e+00, -5.43898063e-01,  9.11844674e-01,\n",
       "         2.04977873e-01, -1.33200021e+00,  3.72205117e-01,\n",
       "         4.83132508e-01, -1.63803418e-01, -9.48836740e-01,\n",
       "        -6.16759445e-01],\n",
       "       [ 1.50939567e+00,  5.99173981e-01,  7.71995286e-01,\n",
       "         8.39197006e-01, -7.16085673e-02,  5.22380341e-01,\n",
       "         6.85688405e-01, -1.01303220e+00,  5.73846730e-01,\n",
       "        -7.26010818e-01],\n",
       "       [ 2.82626418e-01,  4.63093243e-01, -8.85673780e-01,\n",
       "         1.58983361e+00,  3.85437545e-01, -9.84480167e-01,\n",
       "         8.26804418e-01,  3.17594038e-01,  1.70587757e-01,\n",
       "        -1.17606089e+00],\n",
       "       [ 2.87085914e-01, -1.05472965e+00, -7.87380049e-01,\n",
       "         2.99214998e-01,  5.76664933e-01,  1.01232889e+00,\n",
       "        -4.75852235e-01,  7.72260412e-01, -8.59300968e-02,\n",
       "        -1.48519110e+00],\n",
       "       [-8.80270089e-01, -2.33988262e-01, -2.19645407e+00,\n",
       "        -1.36162778e+00,  2.52210678e-01, -8.36581859e-01,\n",
       "        -3.20468111e-01, -1.34138439e+00,  2.30304993e-01,\n",
       "         4.72175133e-01],\n",
       "       [ 2.12094613e+00, -5.72996301e-01,  1.79180263e+00,\n",
       "        -3.69486818e-01, -8.08637826e-01,  3.92328738e-01,\n",
       "         1.28007435e+00,  1.47282177e+00,  2.18951284e-01,\n",
       "        -1.99255502e-01],\n",
       "       [ 3.07669788e-01, -9.15081410e-01,  1.84792527e-01,\n",
       "         1.43190563e+00,  2.83253116e-01,  2.50639748e+00,\n",
       "         1.39181678e+00,  1.50334345e+00,  1.39027839e+00,\n",
       "        -1.25576061e+00],\n",
       "       [ 6.14156904e-01, -1.91835385e+00,  9.58449925e-02,\n",
       "         4.45453397e-02, -1.40393911e-01,  2.21441328e-01,\n",
       "         4.02784635e-01,  1.35741644e+00, -5.95922054e-01,\n",
       "        -2.16857587e-01],\n",
       "       [ 6.86594678e-01,  5.01279017e-01,  7.23942874e-01,\n",
       "        -9.81790008e-01, -9.86050608e-01,  8.90830024e-01,\n",
       "         1.16098263e+00, -3.57520979e-02, -1.94904587e+00,\n",
       "         5.08873154e-03],\n",
       "       [ 7.07443276e-01, -4.24425377e-02, -1.35175940e+00,\n",
       "         4.48581510e-01, -2.27771596e+00,  8.84246395e-01,\n",
       "        -3.54276916e-01, -4.45904686e-01,  9.54401411e-01,\n",
       "         3.81915315e-02],\n",
       "       [-1.63087862e+00, -1.57410580e-01,  4.74229349e-01,\n",
       "         8.33954651e-01,  6.40869145e-01,  2.44185689e+00,\n",
       "        -1.78549986e+00, -2.92321494e-01,  5.83291014e-01,\n",
       "         1.10793147e+00],\n",
       "       [ 6.61890824e-01, -1.49447456e+00,  1.31817883e-01,\n",
       "         3.35541160e-01,  1.71210261e-01,  5.28978258e-01,\n",
       "         6.46303661e-02, -1.00209336e-01, -1.48993893e-01,\n",
       "         4.14914027e-01],\n",
       "       [-9.14806860e-02,  8.90348002e-02,  6.33007117e-01,\n",
       "         4.00887630e-01, -4.59493200e-02,  5.89028445e-01,\n",
       "        -2.25891194e-01, -1.09232812e+00,  5.93712156e-01,\n",
       "         9.10749226e-02],\n",
       "       [-1.19019801e+00,  2.14196151e-01,  9.42364118e-01,\n",
       "         5.74162813e-01,  4.93237979e-01, -2.08780302e+00,\n",
       "        -8.72790737e-01,  1.09815766e-01, -1.89415005e-02,\n",
       "        -9.49842584e-01],\n",
       "       [-7.99127571e-01, -8.27070935e-01, -1.44339428e+00,\n",
       "         1.37416761e+00,  8.29340783e-01, -3.15540948e-01,\n",
       "        -8.78979087e-01, -8.11102689e-01,  2.37657441e-01,\n",
       "        -1.46953630e+00],\n",
       "       [-2.05375446e+00,  6.16687994e-01, -1.52569381e+00,\n",
       "        -5.36321483e-01, -9.85373140e-01,  7.89477824e-01,\n",
       "         4.48045103e-01,  9.78385390e-01,  8.15417211e-01,\n",
       "         7.74741583e-01],\n",
       "       [ 1.40605494e+00,  5.90932598e-01,  5.61252219e-01,\n",
       "         1.66730637e+00, -3.09958257e-01, -2.25959571e+00,\n",
       "        -1.46032023e+00, -2.16034139e+00,  2.19849772e+00,\n",
       "        -6.13469229e-01],\n",
       "       [-2.82246335e-01,  5.46932687e-01, -1.14648183e+00,\n",
       "        -5.99195664e-01, -1.23427415e+00, -1.08553206e+00,\n",
       "         1.83429809e+00, -1.68902130e+00, -1.93278334e-01,\n",
       "        -1.78200949e+00],\n",
       "       [-7.30081721e-01, -1.10760378e+00, -4.66741061e-01,\n",
       "        -5.66780466e-01, -6.97654110e-01, -2.29879220e-01,\n",
       "         7.28602866e-01,  1.26009610e+00, -2.20331921e-01,\n",
       "        -7.15724039e-01],\n",
       "       [-1.87378119e+00, -9.93701749e-01,  3.69412235e-01,\n",
       "         1.21948531e+00, -3.71136163e-01,  9.71802172e-01,\n",
       "        -1.43505239e+00,  9.84067585e-02, -1.67360487e-01,\n",
       "        -2.06270026e+00],\n",
       "       [ 3.53262882e-01,  1.78276354e+00, -5.90993759e-01,\n",
       "         2.31124397e+00, -7.01613407e-01, -3.35791598e-01,\n",
       "        -4.46656431e-02,  1.82414913e+00,  2.14441362e-01,\n",
       "        -1.35774127e+00],\n",
       "       [-9.85767463e-02, -6.23143570e-01, -1.76345187e+00,\n",
       "         6.12111105e-01,  6.88337979e-01, -8.25549773e-01,\n",
       "         2.39400613e-01,  5.70796740e-01,  3.05700495e-01,\n",
       "         1.43576107e-01],\n",
       "       [ 4.74427127e-02,  2.15046208e+00, -1.19977839e+00,\n",
       "         2.40524187e-01, -4.88541913e-01,  7.05776802e-03,\n",
       "        -2.12090498e+00,  1.29055071e-01, -6.11437627e-01,\n",
       "         1.16582130e+00],\n",
       "       [-2.07293893e+00, -7.95411676e-01,  2.49010264e-02,\n",
       "         5.68004726e-01,  6.38006062e-01, -1.54520246e+00,\n",
       "         1.44580064e+00,  1.03052998e+00, -1.41162089e+00,\n",
       "         1.06499216e+00],\n",
       "       [ 8.21297132e-01, -9.55785753e-01,  9.61207696e-01,\n",
       "         1.83673696e+00, -1.22102665e-01,  1.26526898e+00,\n",
       "        -1.85829383e+00, -1.47121799e+00,  9.06171645e-01,\n",
       "        -8.00666069e-01],\n",
       "       [-1.29638169e+00, -4.82054948e-02, -4.01812964e-01,\n",
       "         5.58098941e-01, -9.82918354e-02, -1.55935218e+00,\n",
       "        -8.34723637e-01,  8.64700528e-01,  5.68540175e-01,\n",
       "         1.30607109e+00],\n",
       "       [-2.79165474e-01,  2.18386844e-01,  8.73941949e-01,\n",
       "        -1.41904011e+00,  1.71062805e+00, -2.63815909e-02,\n",
       "         2.39841073e-01,  7.70906742e-01, -7.27329729e-01,\n",
       "         2.14175139e+00],\n",
       "       [-1.12164645e+00, -1.45367575e+00,  8.01730767e-01,\n",
       "        -1.03109962e+00,  2.86413087e-01,  2.35372068e-01,\n",
       "         3.04263144e-01, -5.13125425e-01,  4.00772686e-01,\n",
       "         1.56300265e+00],\n",
       "       [ 1.61594376e+00, -1.19685734e+00,  5.62655995e-01,\n",
       "         8.13066144e-02, -1.53771061e+00, -8.10325762e-01,\n",
       "        -1.68584668e-01, -1.31894321e+00, -1.27669388e-01,\n",
       "         1.79853506e-01],\n",
       "       [-3.71299997e-01,  1.07805006e+00, -9.26465593e-01,\n",
       "        -1.34056881e+00,  4.83607842e-01,  1.28842410e+00,\n",
       "         3.28343440e-02,  9.36540054e-02, -9.72153270e-01,\n",
       "         5.70122064e-01],\n",
       "       [ 3.30270372e-01,  1.30045769e+00,  2.18328045e+00,\n",
       "         1.44259093e+00,  1.92807485e-01,  2.49160341e-01,\n",
       "         3.34548565e-01,  4.66181466e-01,  1.33053393e-01,\n",
       "         4.83324811e-01],\n",
       "       [-6.00591360e-01, -1.43175327e+00, -1.08644765e+00,\n",
       "         2.76445153e-01, -1.77372461e-01, -2.80205179e-01,\n",
       "        -1.30282327e+00, -1.02159655e+00,  4.14167275e-01,\n",
       "         2.60060268e-01],\n",
       "       [-4.31267657e-01,  3.02306054e-01,  2.14159955e-01,\n",
       "         4.60410647e-01, -1.92576897e-01, -1.07045256e+00,\n",
       "        -2.48584002e-01, -1.45119085e+00,  1.50775197e+00,\n",
       "        -7.61916448e-01],\n",
       "       [ 6.05193437e-01, -2.73702175e-01, -1.15821126e+00,\n",
       "        -1.12909311e+00,  1.26749777e+00,  3.00284633e-01,\n",
       "        -8.24287438e-01,  3.78755552e-01, -1.43181678e+00,\n",
       "        -3.30914872e-01],\n",
       "       [-1.96668094e+00,  5.66776927e-01,  6.50117122e-01,\n",
       "        -1.60479502e+00,  1.35239615e+00,  1.03049765e+00,\n",
       "        -9.20245400e-02,  4.50857020e-01, -3.79347557e-01,\n",
       "         1.72506207e+00],\n",
       "       [-5.72286591e-01, -1.27906432e+00,  5.75378858e-01,\n",
       "         7.00977358e-01,  1.47655054e+00,  8.11865184e-02,\n",
       "         5.66734618e-01, -6.44291476e-02, -1.20067590e-01,\n",
       "         5.11241823e-01],\n",
       "       [ 7.16834860e-01, -1.12968620e+00, -2.91807136e-01,\n",
       "        -9.10250819e-01,  1.56626004e+00, -3.22547505e-01,\n",
       "         1.97340720e-01, -3.12493127e-01, -7.22915196e-02,\n",
       "        -1.45743009e+00],\n",
       "       [ 2.36945908e-01, -6.53473161e-01, -6.71284116e-01,\n",
       "        -1.16750263e+00,  1.06689973e+00,  1.11073517e+00,\n",
       "        -1.85624202e-01,  4.01499768e-03,  2.15850376e+00,\n",
       "         1.51030615e+00],\n",
       "       [ 5.89834255e-01,  5.44552579e-01, -8.37255890e-01,\n",
       "         4.34170896e-01, -4.42680180e-01,  8.47128486e-01,\n",
       "        -7.95109216e-01,  2.12658712e+00,  5.53596363e-02,\n",
       "         2.27517802e-01],\n",
       "       [ 1.95318832e+00, -7.51928061e-01,  4.06306934e-02,\n",
       "        -2.24297574e-01,  2.30287788e+00, -1.43432186e-01,\n",
       "        -8.37499101e-01,  4.43703897e-01,  3.80640880e-01,\n",
       "         6.16391691e-01],\n",
       "       [-3.52531454e-01,  1.13956179e-02, -2.89515330e-01,\n",
       "        -2.07762542e-01, -5.01574897e-01, -2.52914275e+00,\n",
       "        -1.80714574e+00,  8.33492635e-01,  7.12661246e-01,\n",
       "         1.00880348e-01],\n",
       "       [ 5.69466224e-01,  5.80177254e-01, -1.26341737e+00,\n",
       "        -1.74111262e+00, -4.26620385e-01,  6.50443826e-01,\n",
       "         1.23197316e+00, -1.41423608e+00, -5.73830537e-01,\n",
       "        -1.31354180e+00],\n",
       "       [ 2.77105606e-01,  1.54959680e+00, -1.67469453e-01,\n",
       "         7.39264136e-01,  9.80379330e-01,  9.76625078e-01,\n",
       "         8.54129755e-01, -5.57374266e-01, -2.21564769e+00,\n",
       "         5.03059516e-02],\n",
       "       [-6.11986013e-01, -7.38239219e-01,  6.71855470e-01,\n",
       "        -5.34507733e-01,  9.92895870e-01,  4.28793542e-01,\n",
       "        -1.56209165e+00, -3.16686291e+00, -7.29796408e-01,\n",
       "         7.58128911e-01]])"
      ]
     },
     "execution_count": 41,
     "metadata": {},
     "output_type": "execute_result"
    }
   ],
   "source": [
    "items_arr2"
   ]
  },
  {
   "cell_type": "code",
   "execution_count": 43,
   "metadata": {
    "scrolled": true
   },
   "outputs": [
    {
     "data": {
      "text/plain": [
       "(100, 10)"
      ]
     },
     "execution_count": 43,
     "metadata": {},
     "output_type": "execute_result"
    }
   ],
   "source": [
    "users_arr2.shape"
   ]
  },
  {
   "cell_type": "markdown",
   "metadata": {},
   "source": [
    "Our first guess at filling in the matrix will simply be the matrix product:"
   ]
  },
  {
   "cell_type": "code",
   "execution_count": 44,
   "metadata": {},
   "outputs": [],
   "source": [
    "guess = users_arr2.dot(items_arr2.T)"
   ]
  },
  {
   "cell_type": "code",
   "execution_count": 45,
   "metadata": {},
   "outputs": [
    {
     "data": {
      "text/plain": [
       "True"
      ]
     },
     "execution_count": 45,
     "metadata": {},
     "output_type": "execute_result"
    }
   ],
   "source": [
    "guess.shape == ratings_arr2.shape"
   ]
  },
  {
   "cell_type": "markdown",
   "metadata": {},
   "source": [
    "Let's get a measure of error:"
   ]
  },
  {
   "cell_type": "code",
   "execution_count": 46,
   "metadata": {},
   "outputs": [
    {
     "data": {
      "text/plain": [
       "array([[ 3.02613714,  6.3082163 ,  0.83614884, ..., -6.91429858,\n",
       "        -4.92070658,  3.46870885],\n",
       "       [ 1.63384904,  3.37940624,  8.88112783, ...,  2.5801715 ,\n",
       "        -2.95024266, -1.28232596],\n",
       "       [ 0.98451414,  1.57321939,  1.05602478, ...,  2.99718881,\n",
       "        -0.15143448, -3.72992354],\n",
       "       ...,\n",
       "       [ 2.34071104, -1.37869536,  2.83820098, ...,  5.17862232,\n",
       "         3.42480291,  3.10363569],\n",
       "       [-4.04487862, -5.01782047,  6.0134493 , ...,  2.83447371,\n",
       "         0.34031267, -2.86016046],\n",
       "       [ 0.9319124 , -5.18550581, -2.44594917, ...,  5.00706196,\n",
       "        -5.97115942,  4.54788803]])"
      ]
     },
     "execution_count": 46,
     "metadata": {},
     "output_type": "execute_result"
    }
   ],
   "source": [
    "ratings_arr2 - guess"
   ]
  },
  {
   "cell_type": "code",
   "execution_count": 47,
   "metadata": {},
   "outputs": [
    {
     "data": {
      "text/plain": [
       "124744.7246470587"
      ]
     },
     "execution_count": 47,
     "metadata": {},
     "output_type": "execute_result"
    }
   ],
   "source": [
    "err = (ratings_arr2 - guess)**2\n",
    "\n",
    "np.sum(err)"
   ]
  },
  {
   "cell_type": "markdown",
   "metadata": {},
   "source": [
    "Pretty terrible! But we started with random numbers and have only done one iteration. Let's see if we can do better:"
   ]
  },
  {
   "cell_type": "code",
   "execution_count": 48,
   "metadata": {},
   "outputs": [],
   "source": [
    "def als(ratings, users, items, reps=10):\n",
    "    \n",
    "    ratings_cols = ratings.T\n",
    "    for _ in range(reps):\n",
    "        new_users = []\n",
    "        for i in range(len(ratings)):\n",
    "            \n",
    "            user = LinearRegression(fit_intercept=False)\\\n",
    "            .fit(items, ratings[i]).coef_\n",
    "            new_users.append(user)\n",
    "        new_users = np.asarray(new_users)\n",
    "        \n",
    "        new_items = []\n",
    "        for i in range(len(ratings)):\n",
    "            \n",
    "            item = LinearRegression(fit_intercept=False)\\\n",
    "            .fit(new_users, ratings_cols[i]).coef_\n",
    "            new_items.append(item)\n",
    "        new_items = np.asarray(new_items)\n",
    "        \n",
    "        guess = new_users.dot(new_items.T)\n",
    "        err = 0\n",
    "        for i in range(len(ratings)):\n",
    "            for j in range(len(ratings[i])):\n",
    "                if ratings[i, j] != 0:\n",
    "                    err += (ratings[i, j] - guess[i, j])**2\n",
    "        print(err)\n",
    "        \n",
    "        items = new_items\n",
    "        \n",
    "    return new_users.dot(new_items.T)"
   ]
  },
  {
   "cell_type": "markdown",
   "metadata": {},
   "source": [
    "We should see our error decrease with more iterations:"
   ]
  },
  {
   "cell_type": "code",
   "execution_count": 49,
   "metadata": {},
   "outputs": [
    {
     "name": "stdout",
     "output_type": "stream",
     "text": [
      "8179.686188381372\n",
      "6651.115240573228\n",
      "6378.64121010868\n",
      "6260.724584726279\n",
      "6203.114897823657\n",
      "6171.192656381142\n",
      "6150.573110952008\n",
      "6135.959388038323\n",
      "6125.22331370511\n",
      "6117.178113443017\n"
     ]
    },
    {
     "data": {
      "text/plain": [
       "array([[-1.77444394e-01,  2.05713287e+00, -5.25727095e-02,\n",
       "        -5.40274265e-01, -1.29653598e-01,  3.09422245e+00,\n",
       "         5.30993298e-01, -7.33478303e-01,  7.79926766e-01,\n",
       "         4.71054898e-01,  4.23853425e-01, -1.85194961e-02,\n",
       "         3.14576819e-01,  6.94121527e-01,  7.34458501e-01,\n",
       "         2.71070582e-01,  4.24985159e-01, -4.03358956e-01,\n",
       "         1.70644970e-01,  2.13646325e-01,  6.05768195e-02,\n",
       "        -4.60399183e-02,  6.22451939e-01,  5.67445488e-01,\n",
       "         2.31387583e-01, -2.30338263e-01,  3.57750963e-01,\n",
       "         6.26772757e-01,  2.35315199e-01,  4.70592914e-01,\n",
       "         9.25185528e-01,  7.84606814e-04,  4.23708679e-01,\n",
       "         4.68924699e-02,  5.08816234e-01,  1.29618030e-01,\n",
       "         2.10430855e-01,  3.61890023e-01,  2.37982399e-01,\n",
       "         1.84218811e-01,  5.54203681e-02, -2.56548097e-01,\n",
       "         1.77939325e-01,  4.29137875e-01, -1.17436695e-01,\n",
       "         3.43918532e-01, -3.37018521e-01,  6.15347626e-01,\n",
       "        -1.22195578e-01,  7.13836601e-02,  6.08956606e-01,\n",
       "         5.90026784e-01,  3.78932363e-02,  5.06542663e-01,\n",
       "         2.78746153e-01,  5.55880517e-01,  3.88369391e-01,\n",
       "         3.13443482e-01, -3.62983144e-01,  1.12412458e-01,\n",
       "         4.34655846e-01,  4.82380104e-01, -1.04444340e-01,\n",
       "         1.14626954e+00,  7.92579333e-03,  8.92929864e-01,\n",
       "        -1.97275602e-01, -3.91602019e-01, -1.23614764e-01,\n",
       "        -2.48170269e-01,  5.06319466e-01,  5.85923411e-02,\n",
       "         4.58305430e-01,  9.45249841e-01, -3.27086927e-03,\n",
       "         2.35811064e-01,  1.98171045e-01, -3.51992013e-01,\n",
       "        -3.38036264e-02,  4.36798910e-01,  5.63064454e-01,\n",
       "         8.44543262e-04, -1.02854704e-01,  2.06677137e-01,\n",
       "        -8.19416486e-02,  6.04563304e-01,  3.84489792e-01,\n",
       "         1.00208157e-01, -6.45119633e-02,  6.42121902e-01,\n",
       "         5.69314461e-01,  6.86573313e-01,  3.21296662e-01,\n",
       "        -6.72697732e-02,  5.26297885e-01,  9.82003284e-02,\n",
       "         3.16516339e-01,  5.41068586e-02,  5.67160034e-02,\n",
       "         2.04376288e-01],\n",
       "       [ 3.05682565e+00,  4.84788775e-01,  1.96849992e+00,\n",
       "         1.39795206e-01,  1.94217658e-01, -9.14428106e-01,\n",
       "         6.13459350e-01,  2.12703574e+00,  1.76672344e+00,\n",
       "         8.59722305e-01, -1.04240805e-01,  5.37485719e-01,\n",
       "         1.45521376e-01,  5.74613885e-01, -4.25085235e-02,\n",
       "         1.17233905e-02,  7.77133794e-01,  1.36579162e+00,\n",
       "         5.09219023e-01, -1.25065089e-01, -4.38807817e-03,\n",
       "         6.39979434e-01,  1.76824165e+00, -1.47196382e-01,\n",
       "        -1.08377764e-01,  5.76503223e-01,  5.65006442e-01,\n",
       "         1.13895197e+00, -8.41162382e-02,  3.79606552e-01,\n",
       "         7.46203576e-01,  9.65415904e-01,  6.45790794e-01,\n",
       "         5.79166494e-01, -2.20470958e-01,  2.25205139e-01,\n",
       "         2.47925704e-01,  1.58321286e-01,  2.39710890e-01,\n",
       "         1.05148106e-01,  4.03616363e-01,  3.00495866e-01,\n",
       "         2.56501497e-01,  7.11854633e-01,  3.99626618e-01,\n",
       "         5.39005748e-01,  8.79088556e-01, -9.24238487e-02,\n",
       "         5.99427596e-01,  7.10140033e-01, -5.07214470e-01,\n",
       "         2.69531742e-01,  5.76863801e-01,  2.38969099e-01,\n",
       "         4.10422920e-01,  1.96945241e-01,  1.21842989e-01,\n",
       "         3.08602653e-01,  6.21521037e-01,  8.68174069e-01,\n",
       "         5.89940135e-01,  1.35456887e+00, -1.85591378e-02,\n",
       "         1.02239943e+00,  2.12852314e-01,  3.35642832e-01,\n",
       "         3.22755348e+00,  1.34119486e+00,  1.64993026e+00,\n",
       "         4.40077644e-01,  8.45688929e-01,  4.46783804e-02,\n",
       "         8.27033204e-03,  1.77871514e-01,  1.50291219e-01,\n",
       "         4.67527019e-01,  9.41490116e-02,  4.37155997e-01,\n",
       "         1.86248413e-01,  1.29609954e-01, -1.19489924e-01,\n",
       "         1.87571700e-01,  8.51360541e-01, -8.72293777e-02,\n",
       "        -1.44722175e-01,  1.10544906e+00,  8.42050135e-01,\n",
       "         3.51061054e-01,  1.85777518e-01,  4.02310623e-01,\n",
       "         1.25667981e-01,  8.39725909e-01, -6.98410327e-02,\n",
       "        -3.14863087e-01,  1.38657935e+00, -2.61269983e-02,\n",
       "         6.54933109e-01,  9.29154599e-01,  7.11831019e-02,\n",
       "         9.77240487e-01],\n",
       "       [ 6.30833993e+00,  2.33053242e+00, -2.45369855e-01,\n",
       "         2.94401281e+00,  7.16539897e-01, -3.24722723e-01,\n",
       "        -1.91279099e-01,  3.28345949e-01, -1.49031549e+00,\n",
       "         4.47813769e+00,  1.03400049e+00,  2.22641012e-02,\n",
       "         1.18947579e-01,  1.24198043e+00, -5.76820175e-01,\n",
       "         5.83317948e-01,  2.19710082e+00, -3.34511189e-01,\n",
       "         6.13514503e-01,  5.02677746e-02, -1.40283483e-01,\n",
       "        -2.49311633e-01,  1.30851979e+00,  3.65991464e-01,\n",
       "        -6.10347194e-02,  6.53471568e-01, -5.24379802e-01,\n",
       "         5.06272573e-01,  1.25762843e-01,  4.82546034e-01,\n",
       "         8.25708119e-01,  5.10352450e-01, -7.62589732e-02,\n",
       "        -8.27980815e-01, -4.09610392e-01,  1.13285017e+00,\n",
       "         1.86366361e-01,  1.32577869e+00, -2.12300931e-01,\n",
       "         1.16572921e+00,  1.49752599e-02,  7.22679278e-01,\n",
       "         1.05209530e+00,  6.82142574e-01,  1.20266891e+00,\n",
       "        -1.27156081e-01,  7.14476469e-01,  7.45134565e-01,\n",
       "        -4.69533259e-01, -3.60006006e-02,  4.13952025e+00,\n",
       "        -1.35737599e-01, -2.28542591e-01,  1.28923085e+00,\n",
       "         4.87476249e-01,  1.20708030e+00,  2.95036029e-01,\n",
       "         1.25629237e-02,  1.73278913e+00,  1.08896854e+00,\n",
       "        -1.69783062e-01, -6.63834905e-01, -2.88993682e-01,\n",
       "         7.55821831e-01, -4.61840048e-01,  9.40967710e-01,\n",
       "         1.86589586e-01, -1.66427069e-01,  1.34172420e+00,\n",
       "         2.16447073e+00, -9.67335889e-03,  2.25627257e-01,\n",
       "         6.26501089e-01,  7.03490189e-01,  3.48232229e+00,\n",
       "         9.10903659e-01, -1.91133018e-01, -2.92010606e-01,\n",
       "         1.76519511e-01, -8.05902318e-01,  1.12554446e+00,\n",
       "         1.74848397e+00,  4.86736516e-02,  1.94549289e-01,\n",
       "         2.67145470e-02,  2.34273001e+00,  6.15626405e-01,\n",
       "         2.84678822e-01,  5.35927616e-01,  3.90009122e+00,\n",
       "        -3.64145284e-01,  6.23650828e-01,  9.66842949e-01,\n",
       "         6.12685654e-01,  6.10998780e-01,  6.89431760e-01,\n",
       "         2.38694327e-01,  5.75510031e-01,  7.85610207e-01,\n",
       "         7.33506683e-01],\n",
       "       [ 2.68602781e-03,  1.08100695e+00,  3.00465751e+00,\n",
       "         3.83459585e+00,  2.37130131e+00, -3.95831982e-01,\n",
       "         3.83514385e+00,  2.77957641e+00,  1.91265198e+00,\n",
       "         9.08893056e-01,  1.52763939e-01,  2.08297237e-01,\n",
       "         7.11732872e-01, -3.53599357e-01,  5.80246316e-01,\n",
       "         2.31498458e-01, -1.91537701e-01,  9.65100316e-02,\n",
       "        -3.55645547e-01, -3.72010361e-01,  7.20956228e-01,\n",
       "         9.94215093e-02,  6.14929285e-01, -2.03768936e-01,\n",
       "        -4.22344648e-02, -3.10300405e-01,  8.17852417e-01,\n",
       "         4.91462993e-01, -2.49422509e-01,  2.62001214e-01,\n",
       "         2.93971116e-01,  3.85908664e-01,  8.86077834e-02,\n",
       "        -1.38009278e-01,  2.45028773e-01,  9.17343264e-03,\n",
       "        -1.18234261e-01,  9.41261063e-02,  1.15960367e-01,\n",
       "         2.04412189e-01, -3.65750084e-01,  4.35536554e-01,\n",
       "         1.77200374e-01, -1.60766217e-01, -1.64579925e-01,\n",
       "         4.14513071e-01, -8.00888266e-02, -6.27268768e-03,\n",
       "         1.32745695e-01,  7.74301428e-01, -7.17559688e-01,\n",
       "        -1.29159016e-01,  2.37449579e-01,  9.14886749e-01,\n",
       "         4.21985247e-01,  6.60533325e-01,  2.61401370e-01,\n",
       "         9.39734985e-01,  6.99021126e-01, -3.68632051e-01,\n",
       "         3.95886524e-01,  4.53532746e-01,  9.84587258e-01,\n",
       "        -4.83982503e-02,  1.07303461e+00, -2.52661300e-01,\n",
       "        -3.71227248e-01,  5.54876334e-01,  6.73460100e-01,\n",
       "         1.03519405e-01, -2.44037899e-01,  5.46981056e-01,\n",
       "         1.43717233e+00, -6.45842712e-01,  2.80782956e-01,\n",
       "        -2.26639223e-01,  9.48478004e-01,  3.19741989e-01,\n",
       "         3.29916887e-01,  8.45265308e-01, -6.30898039e-01,\n",
       "         3.98447730e-01,  1.67184399e-01, -8.87734539e-02,\n",
       "         5.03112169e-01,  5.30028720e-02, -8.75609241e-02,\n",
       "         2.90670613e-01, -2.29782717e-01, -1.38687093e+00,\n",
       "         4.95229219e-01,  8.76193083e-01,  6.42560899e-01,\n",
       "         5.67269137e-01,  8.75576688e-02,  1.64507718e-01,\n",
       "         6.07422271e-01,  4.61708647e-01,  6.79676885e-01,\n",
       "        -9.83739620e-02],\n",
       "       [-2.02399192e-01,  6.36988551e-01,  4.96778408e+00,\n",
       "         1.52662163e+00,  3.38087074e+00,  1.15337201e+00,\n",
       "         4.78483443e-01,  9.34582149e-01, -2.32315670e-01,\n",
       "        -6.50557234e-01,  3.00958289e-01, -4.83488907e-02,\n",
       "         7.12930165e-01,  5.43024497e-01, -1.81255130e-01,\n",
       "         3.22310535e-01,  4.82662388e-02, -6.21837188e-01,\n",
       "        -1.06548781e-02,  7.14702424e-01,  2.37476462e-01,\n",
       "         8.15841709e-01,  7.30654645e-01,  6.41022891e-01,\n",
       "         2.20099693e-01,  2.51118573e-01,  2.43513263e-01,\n",
       "         7.14308482e-01,  1.61989366e-01, -1.42010065e-01,\n",
       "         9.76323196e-01, -1.26617655e-01,  2.72430987e-01,\n",
       "         4.76986303e-02,  8.23805788e-01,  3.26734030e-01,\n",
       "         2.80942485e-01,  6.73167648e-01,  1.44162013e-01,\n",
       "         5.23901478e-01,  9.41891126e-02,  2.72058877e-01,\n",
       "         3.33632671e-01,  3.66063226e-01, -6.00454908e-02,\n",
       "         3.62067656e-01,  3.72036453e-01,  4.44289334e-02,\n",
       "         2.46157448e-02,  2.06760395e-01,  9.81340117e-01,\n",
       "         4.98952878e-01, -6.25855056e-01,  8.50739124e-01,\n",
       "        -1.05785052e-01,  2.32054034e+00,  3.82747139e-01,\n",
       "         9.70912778e-01,  1.10741441e+00, -4.38665897e-01,\n",
       "         1.18116025e+00,  7.99356382e-01,  7.11710906e-01,\n",
       "         6.83897008e-02,  4.51081629e-01,  5.91422457e-01,\n",
       "        -4.03852848e-01,  5.83391939e-01,  3.17408457e-01,\n",
       "         5.49859458e-01,  3.31813272e-02, -7.67272748e-02,\n",
       "         1.28792570e+00,  1.28521917e+00,  2.57868818e-01,\n",
       "         1.60398315e-01, -1.57965008e-01,  2.86269209e-01,\n",
       "         1.00574599e-01,  5.47004892e-01,  1.07924004e-01,\n",
       "         1.19239551e-01, -2.60022522e-01, -4.65544279e-01,\n",
       "         2.91834309e-01,  1.20657700e+00, -4.77667205e-01,\n",
       "         1.48032848e-01,  3.12399075e-01, -9.09688584e-01,\n",
       "         1.46481095e-01,  3.51978718e-01,  6.08074625e-01,\n",
       "         2.71400412e-01,  1.27521070e-01,  2.86964773e-03,\n",
       "        -6.52486684e-01,  1.57362821e-01,  6.14248052e-01,\n",
       "        -9.34389450e-02]])"
      ]
     },
     "execution_count": 49,
     "metadata": {},
     "output_type": "execute_result"
    }
   ],
   "source": [
    "als(ratings_arr2, users_arr2, items_arr2)[:5, :]"
   ]
  },
  {
   "cell_type": "markdown",
   "metadata": {},
   "source": [
    "#### ALS in `pyspark`\n",
    "\n",
    "We'll talk about Big Data and Spark soon, but I'll just note here that Spark has a recommendation submodule inside its ml (machine learning) module. Source code for `pyspark`'s version [here](https://spark.apache.org/docs/latest/api/python/_modules/pyspark/ml/recommendation.html)."
   ]
  }
 ],
 "metadata": {
  "kernelspec": {
   "display_name": "Python 3",
   "language": "python",
   "name": "python3"
  },
  "language_info": {
   "codemirror_mode": {
    "name": "ipython",
    "version": 3
   },
   "file_extension": ".py",
   "mimetype": "text/x-python",
   "name": "python",
   "nbconvert_exporter": "python",
   "pygments_lexer": "ipython3",
   "version": "3.8.5"
  },
  "toc": {
   "base_numbering": 1,
   "nav_menu": {},
   "number_sections": true,
   "sideBar": true,
   "skip_h1_title": false,
   "title_cell": "Table of Contents",
   "title_sidebar": "Contents",
   "toc_cell": false,
   "toc_position": {},
   "toc_section_display": true,
   "toc_window_display": false
  },
  "varInspector": {
   "cols": {
    "lenName": 16,
    "lenType": 16,
    "lenVar": 40
   },
   "kernels_config": {
    "python": {
     "delete_cmd_postfix": "",
     "delete_cmd_prefix": "del ",
     "library": "var_list.py",
     "varRefreshCmd": "print(var_dic_list())"
    },
    "r": {
     "delete_cmd_postfix": ") ",
     "delete_cmd_prefix": "rm(",
     "library": "var_list.r",
     "varRefreshCmd": "cat(var_dic_list()) "
    }
   },
   "types_to_exclude": [
    "module",
    "function",
    "builtin_function_or_method",
    "instance",
    "_Feature"
   ],
   "window_display": true
  }
 },
 "nbformat": 4,
 "nbformat_minor": 2
}
